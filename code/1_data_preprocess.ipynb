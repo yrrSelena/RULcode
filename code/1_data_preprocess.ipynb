{
 "cells": [
  {
   "cell_type": "markdown",
   "metadata": {},
   "source": [
    "# Step 1: data preprocess\n",
    "1. Normalization\n",
    "2. Feature selection\n",
    "3. Noise reduction (Gaussian filter)"
   ]
  },
  {
   "cell_type": "markdown",
   "metadata": {},
   "source": [
    "## 1 Import library"
   ]
  },
  {
   "cell_type": "code",
   "execution_count": 1,
   "metadata": {},
   "outputs": [],
   "source": [
    "import pandas as pd\n",
    "import numpy as np\n",
    "import os\n",
    "import time\n",
    "import csv\n",
    "import math\n",
    "import matplotlib.pyplot as plt\n",
    "from sklearn import preprocessing\n",
    "from scipy.ndimage.filters import gaussian_filter1d"
   ]
  },
  {
   "cell_type": "markdown",
   "metadata": {},
   "source": [
    "## 2 Load data"
   ]
  },
  {
   "cell_type": "markdown",
   "metadata": {},
   "source": [
    "### 2.1 Set constants"
   ]
  },
  {
   "cell_type": "code",
   "execution_count": 2,
   "metadata": {},
   "outputs": [],
   "source": [
    "file_path = '../data/0_raw_data/'\n",
    "file_no = '1'\n",
    "train_file = file_path+'train_FD00'+file_no+'.txt'\n",
    "test_file = file_path+'test_FD00'+file_no+'.txt'\n",
    "test_rul_file = file_path+'RUL_FD00'+file_no+'.txt'\n",
    "n_ftrs = 26\n",
    "op_col_name = [ 'setting1', 'setting2', 'setting3']\n",
    "ftr_col_name = [ 's1', 's2', 's3','s4', 's5', 's6', 's7', 's8', 's9', 's10', 's11', 's12', 's13', 's14',\n",
    "             's15', 's16', 's17', 's18', 's19', 's20', 's21']\n",
    "col_name = ['id', 'cycle'] + op_col_name+ ftr_col_name\n",
    "n_op = 1"
   ]
  },
  {
   "cell_type": "markdown",
   "metadata": {},
   "source": [
    "### 2.2 Read data"
   ]
  },
  {
   "cell_type": "code",
   "execution_count": 3,
   "metadata": {},
   "outputs": [],
   "source": [
    "# read training data - It is the aircraft engine run-to-failure data.\n",
    "raw_train_df = pd.read_csv(train_file,names = col_name, header=None,delim_whitespace=True,index_col=0)\n",
    "raw_test_df = pd.read_csv(test_file,names = col_name, header=None,delim_whitespace=True,index_col=0)\n",
    "raw_rul_df = pd.read_csv(test_rul_file, names=['RUL'],header=None,delim_whitespace=True)"
   ]
  },
  {
   "cell_type": "code",
   "execution_count": 4,
   "metadata": {},
   "outputs": [],
   "source": [
    "train_df = raw_train_df\n",
    "test_df = raw_test_df\n",
    "rul_df = raw_rul_df"
   ]
  },
  {
   "cell_type": "code",
   "execution_count": 5,
   "metadata": {},
   "outputs": [
    {
     "data": {
      "text/plain": [
       "100"
      ]
     },
     "execution_count": 5,
     "metadata": {},
     "output_type": "execute_result"
    }
   ],
   "source": [
    "n_train_units = len(train_df.groupby('id').size())\n",
    "n_test_units = len(test_df.groupby('id').size())\n",
    "n_test_units"
   ]
  },
  {
   "cell_type": "markdown",
   "metadata": {},
   "source": [
    "## 3 Preprocess"
   ]
  },
  {
   "cell_type": "markdown",
   "metadata": {},
   "source": [
    "### 3.1 Normalization"
   ]
  },
  {
   "cell_type": "code",
   "execution_count": 6,
   "metadata": {},
   "outputs": [],
   "source": [
    "scaler = preprocessing.StandardScaler()\n",
    "train_df[ftr_col_name] = pd.DataFrame(scaler.fit_transform(train_df[ftr_col_name]), \n",
    "                                                        columns=ftr_col_name, \n",
    "                                                        index=train_df.index)"
   ]
  },
  {
   "cell_type": "code",
   "execution_count": 7,
   "metadata": {
    "scrolled": true
   },
   "outputs": [],
   "source": [
    "test_df[ftr_col_name] = pd.DataFrame(scaler.transform(test_df[ftr_col_name]), \n",
    "                                                        columns=ftr_col_name, \n",
    "                                                        index=test_df.index)"
   ]
  },
  {
   "cell_type": "markdown",
   "metadata": {},
   "source": [
    "### 3.2 Calculate RUL"
   ]
  },
  {
   "cell_type": "code",
   "execution_count": 8,
   "metadata": {},
   "outputs": [],
   "source": [
    "train_df['RUL'] = ''\n",
    "for i in range(n_train_units):\n",
    "    train_df.loc[i + 1,'RUL'] = train_df.loc[i + 1,'cycle'].max() - train_df.loc[i + 1,'cycle']"
   ]
  },
  {
   "cell_type": "code",
   "execution_count": 9,
   "metadata": {},
   "outputs": [],
   "source": [
    "test_df['RUL'] = ''\n",
    "for i in range(n_test_units):\n",
    "    test_df.loc[i + 1,'RUL'] =  - test_df.loc[i + 1,'cycle'] + (test_df.loc[i + 1,'cycle'].max() + rul_df.loc[i,'RUL'])"
   ]
  },
  {
   "cell_type": "markdown",
   "metadata": {},
   "source": [
    "### 3.3 Piecewise RUL"
   ]
  },
  {
   "cell_type": "raw",
   "metadata": {},
   "source": [
    "MAX_RUL=130\n",
    "train_df.loc[train_df['RUL']>MAX_RUL,'RUL']=MAX_RUL\n",
    "test_df.loc[test_df['RUL']>MAX_RUL,'RUL']=MAX_RUL"
   ]
  },
  {
   "cell_type": "markdown",
   "metadata": {},
   "source": [
    "### 3.4 Drop rebundant features"
   ]
  },
  {
   "cell_type": "code",
   "execution_count": 10,
   "metadata": {},
   "outputs": [],
   "source": [
    "#rebundant_ftr_name = ['s1','s5','s6','s10','s16','s17','s18','s19','setting1','setting2','setting3']\n",
    "rebundant_ftr_name = ['s1','s5','s6', 's8', 's9','s10', 's13', 's14','s16','s17','s18','s19', 's20', 's21','setting1','setting2','setting3']"
   ]
  },
  {
   "cell_type": "code",
   "execution_count": 11,
   "metadata": {},
   "outputs": [],
   "source": [
    "#train_df =train_df.loc[:,selected_ftr_name]\n",
    "train_df.drop(rebundant_ftr_name, axis=1, inplace=True)\n",
    "#train_df.head()"
   ]
  },
  {
   "cell_type": "code",
   "execution_count": 12,
   "metadata": {},
   "outputs": [],
   "source": [
    "test_df.drop(rebundant_ftr_name, axis=1, inplace=True)"
   ]
  },
  {
   "cell_type": "code",
   "execution_count": 13,
   "metadata": {},
   "outputs": [
    {
     "data": {
      "text/plain": [
       "Index(['s11', 's12', 's15', 's2', 's3', 's4', 's7'], dtype='object')"
      ]
     },
     "execution_count": 13,
     "metadata": {},
     "output_type": "execute_result"
    }
   ],
   "source": [
    "selected_ftr_name = train_df.columns.difference(['id','cycle','RUL'])\n",
    "selected_ftr_name"
   ]
  },
  {
   "cell_type": "markdown",
   "metadata": {},
   "source": [
    "## 4 Noise reduction"
   ]
  },
  {
   "cell_type": "markdown",
   "metadata": {},
   "source": [
    "### 4.1 Gaussian filter"
   ]
  },
  {
   "cell_type": "code",
   "execution_count": 14,
   "metadata": {},
   "outputs": [],
   "source": [
    "def smoothGaussian(data,ftr_col_name,sigma):\n",
    "    for unit_no in data.index.unique():\n",
    "        for col in ftr_col_name:\n",
    "            data.loc[unit_no, col] = gaussian_filter1d(data.loc[unit_no,col], sigma)\n",
    "    return data"
   ]
  },
  {
   "cell_type": "code",
   "execution_count": 15,
   "metadata": {},
   "outputs": [],
   "source": [
    "gauss_sigma = 3\n",
    "train_df = smoothGaussian(train_df, selected_ftr_name,gauss_sigma)"
   ]
  },
  {
   "cell_type": "code",
   "execution_count": 16,
   "metadata": {},
   "outputs": [],
   "source": [
    "test_df = smoothGaussian(test_df, selected_ftr_name,gauss_sigma)"
   ]
  },
  {
   "cell_type": "code",
   "execution_count": 17,
   "metadata": {},
   "outputs": [
    {
     "data": {
      "image/png": "[encoded data removed]",
      "text/plain": [
       "<Figure size 432x288 with 1 Axes>"
      ]
     },
     "metadata": {
      "needs_background": "light"
     },
     "output_type": "display_data"
    }
   ],
   "source": [
    "unit_no = 2\n",
    "plt.plot(range(len(train_df.loc[unit_no])),train_df.loc[unit_no,'s2'])\n",
    "plt.plot(range(len(test_df.loc[unit_no])),test_df.loc[unit_no,'s4'])\n",
    "plt.show()"
   ]
  },
  {
   "cell_type": "markdown",
   "metadata": {},
   "source": [
    "## 5 Save processed data"
   ]
  },
  {
   "cell_type": "code",
   "execution_count": 18,
   "metadata": {},
   "outputs": [],
   "source": [
    "processed_data_file = '../data/1_processed_data'\n",
    "if os.path.exists(processed_data_file)==False:\n",
    "    os.makedirs(processed_data_file)"
   ]
  },
  {
   "cell_type": "code",
   "execution_count": 21,
   "metadata": {},
   "outputs": [],
   "source": [
    "train_df.to_csv(processed_data_file+'/train_data_FD00'+file_no+'.csv',index=True,header=True)"
   ]
  },
  {
   "cell_type": "code",
   "execution_count": 22,
   "metadata": {},
   "outputs": [],
   "source": [
    "test_df.to_csv(processed_data_file+'/test_data_FD00'+file_no+'.csv',index=True,header=True)"
   ]
  },
  {
   "cell_type": "code",
   "execution_count": null,
   "metadata": {},
   "outputs": [],
   "source": []
  }
 ],
 "metadata": {
  "kernelspec": {
   "display_name": "Python 3",
   "language": "python",
   "name": "python3"
  },
  "language_info": {
   "codemirror_mode": {
    "name": "ipython",
    "version": 3
   },
   "file_extension": ".py",
   "mimetype": "text/x-python",
   "name": "python",
   "nbconvert_exporter": "python",
   "pygments_lexer": "ipython3",
   "version": "3.7.3"
  }
 },
 "nbformat": 4,
 "nbformat_minor": 4
}
