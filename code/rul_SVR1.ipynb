{
  "nbformat": 4,
  "nbformat_minor": 0,
  "metadata": {
    "kernelspec": {
      "display_name": "Python 3",
      "language": "python",
      "name": "python3"
    },
    "language_info": {
      "codemirror_mode": {
        "name": "ipython",
        "version": 3
      },
      "file_extension": ".py",
      "mimetype": "text/x-python",
      "name": "python",
      "nbconvert_exporter": "python",
      "pygments_lexer": "ipython3",
      "version": "3.7.3"
    },
    "colab": {
      "name": "rul_SVR.ipynb",
      "provenance": [],
      "collapsed_sections": []
    }
  },
  "cells": [
    {
      "cell_type": "code",
      "metadata": {
        "id": "soMAEvMcrqLq",
        "colab_type": "code",
        "colab": {
          "base_uri": "https://localhost:8080/",
          "height": 33
        },
        "outputId": "133a3fbc-1bef-4622-c07b-ea4bba47cf73"
      },
      "source": [
        "from google.colab import drive\n",
        "drive.mount('/content/drive')"
      ],
      "execution_count": 15,
      "outputs": [
        {
          "output_type": "stream",
          "text": [
            "Drive already mounted at /content/drive; to attempt to forcibly remount, call drive.mount(\"/content/drive\", force_remount=True).\n"
          ],
          "name": "stdout"
        }
      ]
    },
    {
      "cell_type": "code",
      "metadata": {
        "id": "WiBmkUIDuvB6",
        "colab_type": "code",
        "colab": {}
      },
      "source": [
        "drive_path = '/content/drive/My Drive'"
      ],
      "execution_count": 42,
      "outputs": []
    },
    {
      "cell_type": "code",
      "metadata": {
        "id": "XcezSxomriGf",
        "colab_type": "code",
        "colab": {
          "base_uri": "https://localhost:8080/",
          "height": 70
        },
        "outputId": "05113697-bee2-4153-9e26-126178cf4651"
      },
      "source": [
        "import pandas as pd\n",
        "import numpy as np\n",
        "import matplotlib.pyplot as plt\n",
        "import os\n",
        "import time\n",
        "import math\n",
        "import seaborn as sns\n",
        "from sklearn.model_selection import train_test_split\n",
        "from sklearn.svm import SVR\n",
        "from sklearn.model_selection import GridSearchCV\n",
        "from sklearn.model_selection import learning_curve"
      ],
      "execution_count": 2,
      "outputs": [
        {
          "output_type": "stream",
          "text": [
            "/usr/local/lib/python3.6/dist-packages/statsmodels/tools/_testing.py:19: FutureWarning: pandas.util.testing is deprecated. Use the functions in the public API at pandas.testing instead.\n",
            "  import pandas.util.testing as tm\n"
          ],
          "name": "stderr"
        }
      ]
    },
    {
      "cell_type": "code",
      "metadata": {
        "id": "s-6OY9ZFriGi",
        "colab_type": "code",
        "colab": {
          "base_uri": "https://localhost:8080/",
          "height": 33
        },
        "outputId": "ce798621-9c71-4fc4-f4ec-2e6d12d211bb"
      },
      "source": [
        "processed_data_file = drive_path + '/1_processed_data'\n",
        "os.path.exists(processed_data_file)"
      ],
      "execution_count": 24,
      "outputs": [
        {
          "output_type": "execute_result",
          "data": {
            "text/plain": [
              "True"
            ]
          },
          "metadata": {
            "tags": []
          },
          "execution_count": 24
        }
      ]
    },
    {
      "cell_type": "code",
      "metadata": {
        "id": "cvQBlppVriGl",
        "colab_type": "code",
        "colab": {}
      },
      "source": [
        "tot_train_df = pd.read_csv(processed_data_file+'/train_PCA_data.csv')#,index_col=0)"
      ],
      "execution_count": 96,
      "outputs": []
    },
    {
      "cell_type": "code",
      "metadata": {
        "id": "MCoXht8rriGn",
        "colab_type": "code",
        "colab": {
          "base_uri": "https://localhost:8080/",
          "height": 197
        },
        "outputId": "7de70167-e380-442a-a734-17e11d96692f"
      },
      "source": [
        "tot_train_df.head()"
      ],
      "execution_count": 102,
      "outputs": [
        {
          "output_type": "execute_result",
          "data": {
            "text/html": [
              "<div>\n",
              "<style scoped>\n",
              "    .dataframe tbody tr th:only-of-type {\n",
              "        vertical-align: middle;\n",
              "    }\n",
              "\n",
              "    .dataframe tbody tr th {\n",
              "        vertical-align: top;\n",
              "    }\n",
              "\n",
              "    .dataframe thead th {\n",
              "        text-align: right;\n",
              "    }\n",
              "</style>\n",
              "<table border=\"1\" class=\"dataframe\">\n",
              "  <thead>\n",
              "    <tr style=\"text-align: right;\">\n",
              "      <th></th>\n",
              "      <th>id</th>\n",
              "      <th>cycle</th>\n",
              "      <th>s2</th>\n",
              "      <th>s3</th>\n",
              "      <th>s4</th>\n",
              "      <th>s7</th>\n",
              "      <th>s11</th>\n",
              "      <th>s12</th>\n",
              "      <th>s15</th>\n",
              "      <th>RUL</th>\n",
              "      <th>HI</th>\n",
              "    </tr>\n",
              "  </thead>\n",
              "  <tbody>\n",
              "    <tr>\n",
              "      <th>0</th>\n",
              "      <td>1</td>\n",
              "      <td>1</td>\n",
              "      <td>-1.043976</td>\n",
              "      <td>-0.402325</td>\n",
              "      <td>-0.735593</td>\n",
              "      <td>0.922429</td>\n",
              "      <td>-0.713047</td>\n",
              "      <td>1.045859</td>\n",
              "      <td>-0.735619</td>\n",
              "      <td>191</td>\n",
              "      <td>-2.126821</td>\n",
              "    </tr>\n",
              "    <tr>\n",
              "      <th>1</th>\n",
              "      <td>1</td>\n",
              "      <td>2</td>\n",
              "      <td>-1.013039</td>\n",
              "      <td>-0.437787</td>\n",
              "      <td>-0.744731</td>\n",
              "      <td>0.927522</td>\n",
              "      <td>-0.754362</td>\n",
              "      <td>1.056043</td>\n",
              "      <td>-0.759942</td>\n",
              "      <td>190</td>\n",
              "      <td>-2.163152</td>\n",
              "    </tr>\n",
              "    <tr>\n",
              "      <th>2</th>\n",
              "      <td>1</td>\n",
              "      <td>3</td>\n",
              "      <td>-0.961467</td>\n",
              "      <td>-0.495099</td>\n",
              "      <td>-0.765407</td>\n",
              "      <td>0.933752</td>\n",
              "      <td>-0.825635</td>\n",
              "      <td>1.067335</td>\n",
              "      <td>-0.801976</td>\n",
              "      <td>189</td>\n",
              "      <td>-2.223635</td>\n",
              "    </tr>\n",
              "    <tr>\n",
              "      <th>3</th>\n",
              "      <td>1</td>\n",
              "      <td>4</td>\n",
              "      <td>-0.905369</td>\n",
              "      <td>-0.553770</td>\n",
              "      <td>-0.799936</td>\n",
              "      <td>0.934785</td>\n",
              "      <td>-0.909588</td>\n",
              "      <td>1.066562</td>\n",
              "      <td>-0.851178</td>\n",
              "      <td>188</td>\n",
              "      <td>-2.289392</td>\n",
              "    </tr>\n",
              "    <tr>\n",
              "      <th>4</th>\n",
              "      <td>1</td>\n",
              "      <td>5</td>\n",
              "      <td>-0.860195</td>\n",
              "      <td>-0.596473</td>\n",
              "      <td>-0.847359</td>\n",
              "      <td>0.924675</td>\n",
              "      <td>-0.990531</td>\n",
              "      <td>1.043267</td>\n",
              "      <td>-0.896681</td>\n",
              "      <td>187</td>\n",
              "      <td>-2.342838</td>\n",
              "    </tr>\n",
              "  </tbody>\n",
              "</table>\n",
              "</div>"
            ],
            "text/plain": [
              "   id  cycle        s2        s3  ...       s12       s15  RUL        HI\n",
              "0   1      1 -1.043976 -0.402325  ...  1.045859 -0.735619  191 -2.126821\n",
              "1   1      2 -1.013039 -0.437787  ...  1.056043 -0.759942  190 -2.163152\n",
              "2   1      3 -0.961467 -0.495099  ...  1.067335 -0.801976  189 -2.223635\n",
              "3   1      4 -0.905369 -0.553770  ...  1.066562 -0.851178  188 -2.289392\n",
              "4   1      5 -0.860195 -0.596473  ...  1.043267 -0.896681  187 -2.342838\n",
              "\n",
              "[5 rows x 11 columns]"
            ]
          },
          "metadata": {
            "tags": []
          },
          "execution_count": 102
        }
      ]
    },
    {
      "cell_type": "code",
      "metadata": {
        "id": "K5NAqdQIriGp",
        "colab_type": "code",
        "colab": {}
      },
      "source": [
        "tot_cycles = pd.DataFrame([len(tot_train_df[tot_train_df['id'] == idx]) for idx in tot_train_df['id'].unique()],columns =['tot_cycle'])\n",
        "tot_cycles['rul_label'] = pd.DataFrame(pd.qcut(tot_cycles['tot_cycle'],4, labels=['1','2','3','4']))\n",
        "tot_cycles.index = tot_train_df['id'].unique()#range(1,101)"
      ],
      "execution_count": 103,
      "outputs": []
    },
    {
      "cell_type": "code",
      "metadata": {
        "id": "RK4Ge4YOriGr",
        "colab_type": "code",
        "colab": {
          "base_uri": "https://localhost:8080/",
          "height": 406
        },
        "outputId": "55ec64fe-124f-4bd1-f453-184af2ce93bf"
      },
      "source": [
        "tot_cycles"
      ],
      "execution_count": 105,
      "outputs": [
        {
          "output_type": "execute_result",
          "data": {
            "text/html": [
              "<div>\n",
              "<style scoped>\n",
              "    .dataframe tbody tr th:only-of-type {\n",
              "        vertical-align: middle;\n",
              "    }\n",
              "\n",
              "    .dataframe tbody tr th {\n",
              "        vertical-align: top;\n",
              "    }\n",
              "\n",
              "    .dataframe thead th {\n",
              "        text-align: right;\n",
              "    }\n",
              "</style>\n",
              "<table border=\"1\" class=\"dataframe\">\n",
              "  <thead>\n",
              "    <tr style=\"text-align: right;\">\n",
              "      <th></th>\n",
              "      <th>tot_cycle</th>\n",
              "      <th>rul_label</th>\n",
              "    </tr>\n",
              "  </thead>\n",
              "  <tbody>\n",
              "    <tr>\n",
              "      <th>1</th>\n",
              "      <td>192</td>\n",
              "      <td>2</td>\n",
              "    </tr>\n",
              "    <tr>\n",
              "      <th>2</th>\n",
              "      <td>287</td>\n",
              "      <td>4</td>\n",
              "    </tr>\n",
              "    <tr>\n",
              "      <th>3</th>\n",
              "      <td>179</td>\n",
              "      <td>2</td>\n",
              "    </tr>\n",
              "    <tr>\n",
              "      <th>4</th>\n",
              "      <td>189</td>\n",
              "      <td>2</td>\n",
              "    </tr>\n",
              "    <tr>\n",
              "      <th>5</th>\n",
              "      <td>269</td>\n",
              "      <td>4</td>\n",
              "    </tr>\n",
              "    <tr>\n",
              "      <th>...</th>\n",
              "      <td>...</td>\n",
              "      <td>...</td>\n",
              "    </tr>\n",
              "    <tr>\n",
              "      <th>96</th>\n",
              "      <td>336</td>\n",
              "      <td>4</td>\n",
              "    </tr>\n",
              "    <tr>\n",
              "      <th>97</th>\n",
              "      <td>202</td>\n",
              "      <td>3</td>\n",
              "    </tr>\n",
              "    <tr>\n",
              "      <th>98</th>\n",
              "      <td>156</td>\n",
              "      <td>1</td>\n",
              "    </tr>\n",
              "    <tr>\n",
              "      <th>99</th>\n",
              "      <td>185</td>\n",
              "      <td>2</td>\n",
              "    </tr>\n",
              "    <tr>\n",
              "      <th>100</th>\n",
              "      <td>200</td>\n",
              "      <td>3</td>\n",
              "    </tr>\n",
              "  </tbody>\n",
              "</table>\n",
              "<p>100 rows × 2 columns</p>\n",
              "</div>"
            ],
            "text/plain": [
              "     tot_cycle rul_label\n",
              "1          192         2\n",
              "2          287         4\n",
              "3          179         2\n",
              "4          189         2\n",
              "5          269         4\n",
              "..         ...       ...\n",
              "96         336         4\n",
              "97         202         3\n",
              "98         156         1\n",
              "99         185         2\n",
              "100        200         3\n",
              "\n",
              "[100 rows x 2 columns]"
            ]
          },
          "metadata": {
            "tags": []
          },
          "execution_count": 105
        }
      ]
    },
    {
      "cell_type": "code",
      "metadata": {
        "id": "d7YVdC84riGt",
        "colab_type": "code",
        "colab": {
          "base_uri": "https://localhost:8080/",
          "height": 296
        },
        "outputId": "8182cf06-21a7-44d2-ad5c-b3461af4e579"
      },
      "source": [
        "#ax=sns.distplot(rul_y)\n",
        "ax=sns.distplot(tot_cycles['tot_cycle'])\n",
        "ax.set_title('Distribution of RUL for all engines',{'fontsize':16});\n",
        "ax.set_xlabel('RUL');"
      ],
      "execution_count": 31,
      "outputs": [
        {
          "output_type": "display_data",
          "data": {
            "image/png": "[encoded data removed]",
            "text/plain": [
              "<Figure size 432x288 with 1 Axes>"
            ]
          },
          "metadata": {
            "tags": [],
            "needs_background": "light"
          }
        }
      ]
    },
    {
      "cell_type": "code",
      "metadata": {
        "id": "wAMHojpariGv",
        "colab_type": "code",
        "colab": {}
      },
      "source": [
        "random_state = 1\n",
        "tot_train_id = tot_train_df['id'].unique()\n",
        "# stratify 按照数据分布进行划分\n",
        "train_id, test_id = train_test_split(tot_train_id, test_size = 0.2, random_state=random_state, stratify = tot_cycles['rul_label'])\n",
        "train_df = tot_train_df[tot_train_df['id'].isin(train_id)]\n",
        "test_df = tot_train_df[tot_train_df['id'].isin(test_id)]"
      ],
      "execution_count": 110,
      "outputs": []
    },
    {
      "cell_type": "code",
      "metadata": {
        "id": "PiJ4_tGdriGx",
        "colab_type": "code",
        "colab": {
          "base_uri": "https://localhost:8080/",
          "height": 133
        },
        "outputId": "f8503067-0111-48ef-f9cc-92fe8df6326e"
      },
      "source": [
        "train_id"
      ],
      "execution_count": 108,
      "outputs": [
        {
          "output_type": "execute_result",
          "data": {
            "text/plain": [
              "array([ 10,   6,  93,  44,  84,  92,  34,  12,  23,  78,  27,  90,  54,\n",
              "        33,  19,  13,  18,  71,  58,  73,  35,  15,  79,   3,  56,  75,\n",
              "        96,   8,  87,   9,   1,  86,  37,  63,  22,   5,  25,  50,  72,\n",
              "        82,  51,  61,  40,  88,  47,   7,  21,  98,  52,  53,  95,  57,\n",
              "        28,  68,   2,  30,  67,   4,  83,  81,  60,  69,  38,  77,  91,\n",
              "        66,  89,  94,  26,  62,  99, 100,  64,  74,  85,  65,  59,  49,\n",
              "        70,  46])"
            ]
          },
          "metadata": {
            "tags": []
          },
          "execution_count": 108
        }
      ]
    },
    {
      "cell_type": "code",
      "metadata": {
        "id": "kT-lQPnwriGz",
        "colab_type": "code",
        "colab": {
          "base_uri": "https://localhost:8080/",
          "height": 197
        },
        "outputId": "6d525240-91ad-44bf-fd99-d74295570316"
      },
      "source": [
        "train_df.head()"
      ],
      "execution_count": 111,
      "outputs": [
        {
          "output_type": "execute_result",
          "data": {
            "text/html": [
              "<div>\n",
              "<style scoped>\n",
              "    .dataframe tbody tr th:only-of-type {\n",
              "        vertical-align: middle;\n",
              "    }\n",
              "\n",
              "    .dataframe tbody tr th {\n",
              "        vertical-align: top;\n",
              "    }\n",
              "\n",
              "    .dataframe thead th {\n",
              "        text-align: right;\n",
              "    }\n",
              "</style>\n",
              "<table border=\"1\" class=\"dataframe\">\n",
              "  <thead>\n",
              "    <tr style=\"text-align: right;\">\n",
              "      <th></th>\n",
              "      <th>id</th>\n",
              "      <th>cycle</th>\n",
              "      <th>s2</th>\n",
              "      <th>s3</th>\n",
              "      <th>s4</th>\n",
              "      <th>s7</th>\n",
              "      <th>s11</th>\n",
              "      <th>s12</th>\n",
              "      <th>s15</th>\n",
              "      <th>RUL</th>\n",
              "      <th>HI</th>\n",
              "    </tr>\n",
              "  </thead>\n",
              "  <tbody>\n",
              "    <tr>\n",
              "      <th>0</th>\n",
              "      <td>1</td>\n",
              "      <td>1</td>\n",
              "      <td>-1.043976</td>\n",
              "      <td>-0.402325</td>\n",
              "      <td>-0.735593</td>\n",
              "      <td>0.922429</td>\n",
              "      <td>-0.713047</td>\n",
              "      <td>1.045859</td>\n",
              "      <td>-0.735619</td>\n",
              "      <td>191</td>\n",
              "      <td>-2.126821</td>\n",
              "    </tr>\n",
              "    <tr>\n",
              "      <th>1</th>\n",
              "      <td>1</td>\n",
              "      <td>2</td>\n",
              "      <td>-1.013039</td>\n",
              "      <td>-0.437787</td>\n",
              "      <td>-0.744731</td>\n",
              "      <td>0.927522</td>\n",
              "      <td>-0.754362</td>\n",
              "      <td>1.056043</td>\n",
              "      <td>-0.759942</td>\n",
              "      <td>190</td>\n",
              "      <td>-2.163152</td>\n",
              "    </tr>\n",
              "    <tr>\n",
              "      <th>2</th>\n",
              "      <td>1</td>\n",
              "      <td>3</td>\n",
              "      <td>-0.961467</td>\n",
              "      <td>-0.495099</td>\n",
              "      <td>-0.765407</td>\n",
              "      <td>0.933752</td>\n",
              "      <td>-0.825635</td>\n",
              "      <td>1.067335</td>\n",
              "      <td>-0.801976</td>\n",
              "      <td>189</td>\n",
              "      <td>-2.223635</td>\n",
              "    </tr>\n",
              "    <tr>\n",
              "      <th>3</th>\n",
              "      <td>1</td>\n",
              "      <td>4</td>\n",
              "      <td>-0.905369</td>\n",
              "      <td>-0.553770</td>\n",
              "      <td>-0.799936</td>\n",
              "      <td>0.934785</td>\n",
              "      <td>-0.909588</td>\n",
              "      <td>1.066562</td>\n",
              "      <td>-0.851178</td>\n",
              "      <td>188</td>\n",
              "      <td>-2.289392</td>\n",
              "    </tr>\n",
              "    <tr>\n",
              "      <th>4</th>\n",
              "      <td>1</td>\n",
              "      <td>5</td>\n",
              "      <td>-0.860195</td>\n",
              "      <td>-0.596473</td>\n",
              "      <td>-0.847359</td>\n",
              "      <td>0.924675</td>\n",
              "      <td>-0.990531</td>\n",
              "      <td>1.043267</td>\n",
              "      <td>-0.896681</td>\n",
              "      <td>187</td>\n",
              "      <td>-2.342838</td>\n",
              "    </tr>\n",
              "  </tbody>\n",
              "</table>\n",
              "</div>"
            ],
            "text/plain": [
              "   id  cycle        s2        s3  ...       s12       s15  RUL        HI\n",
              "0   1      1 -1.043976 -0.402325  ...  1.045859 -0.735619  191 -2.126821\n",
              "1   1      2 -1.013039 -0.437787  ...  1.056043 -0.759942  190 -2.163152\n",
              "2   1      3 -0.961467 -0.495099  ...  1.067335 -0.801976  189 -2.223635\n",
              "3   1      4 -0.905369 -0.553770  ...  1.066562 -0.851178  188 -2.289392\n",
              "4   1      5 -0.860195 -0.596473  ...  1.043267 -0.896681  187 -2.342838\n",
              "\n",
              "[5 rows x 11 columns]"
            ]
          },
          "metadata": {
            "tags": []
          },
          "execution_count": 111
        }
      ]
    },
    {
      "cell_type": "code",
      "metadata": {
        "id": "FviDMB8jriG3",
        "colab_type": "code",
        "colab": {}
      },
      "source": [
        "# pick a large window size of 50 cycles\n",
        "\n",
        "# function to reshape features into (samples, time steps, features) \n",
        "# 生成特征样本\n",
        "def gen_sequence(id_df, seq_length, seq_cols):\n",
        "    \"\"\" Only sequences that meet the window-length are considered, no padding is used. This means for testing\n",
        "    we need to drop those which are below the window-length. An alternative would be to pad sequences so that\n",
        "    we can use shorter ones \n",
        "    只有比时间窗口大的序列会被提取特征，若测试样本的时间序列过小，则被忽视。\n",
        "    另一种方法是对序列进行填充\n",
        "    \"\"\"\n",
        "    # for one id I put all the rows in a single matrix\n",
        "    data_matrix = id_df[seq_cols].values # 获得对应列的值\n",
        "    num_elements = data_matrix.shape[0]\n",
        "    # Iterate over two lists in parallel.\n",
        "    # For example id1 have 192 rows and sequence_length is equal to 50\n",
        "    # so zip iterate over two following list of numbers (0,142),(50,192)\n",
        "    # 0 50 -> from row 0 to row 50\n",
        "    # 1 51 -> from row 1 to row 51\n",
        "    # 2 52 -> from row 2 to row 52\n",
        "    # ...\n",
        "    # 141 191 -> from row 141 to 191\n",
        "    \n",
        "    # zip将数据打包为元组的列表\n",
        "    for start, stop in zip(range(0, num_elements-seq_length), range(seq_length, num_elements)):\n",
        "        yield data_matrix[start:stop, :].flatten() #yield 相当于返回"
      ],
      "execution_count": 129,
      "outputs": []
    },
    {
      "cell_type": "code",
      "metadata": {
        "id": "RFGiAj7OriG6",
        "colab_type": "code",
        "colab": {
          "base_uri": "https://localhost:8080/",
          "height": 33
        },
        "outputId": "1d537575-4fa0-4ced-d4d3-4fe5f56cb033"
      },
      "source": [
        "# TODO for debug \n",
        "# 样例测试\n",
        "# val is a list of 192 - 50 = 142 bi-dimensional array (50 rows x 18 columns)\n",
        "sequence_length = 50\n",
        "sequence_cols = ['HI','s2']\n",
        "val=list(gen_sequence(tot_train_df.loc[1], sequence_length, sequence_cols))\n",
        "print(len(val))"
      ],
      "execution_count": 121,
      "outputs": [
        {
          "output_type": "stream",
          "text": [
            "0\n"
          ],
          "name": "stdout"
        }
      ]
    },
    {
      "cell_type": "code",
      "metadata": {
        "id": "ju1u9Qh4yNsD",
        "colab_type": "code",
        "colab": {}
      },
      "source": [
        "list(seq_gen)"
      ],
      "execution_count": null,
      "outputs": []
    },
    {
      "cell_type": "code",
      "metadata": {
        "id": "aLEmY0l0xOc1",
        "colab_type": "code",
        "colab": {}
      },
      "source": [
        "# 对每个发动机生成训练样本\n",
        "# generator for the sequences\n",
        "# transform each id of the train dataset in a sequence\n",
        "win_size = 50\n",
        "selected_ftr_name = ['HI']\n",
        "train_seq_gen = (list(gen_sequence(tot_train_df[tot_train_df['id']==id], win_size, selected_ftr_name)) \n",
        "           for id in train_id)\n",
        "# generate sequences and convert to numpy array\n",
        "X_train = np.concatenate(list(train_seq_gen)).astype(np.float32)"
      ],
      "execution_count": 132,
      "outputs": []
    },
    {
      "cell_type": "code",
      "metadata": {
        "id": "MwoUvIfQykSB",
        "colab_type": "code",
        "colab": {
          "base_uri": "https://localhost:8080/",
          "height": 33
        },
        "outputId": "f3f77f5f-03a6-4422-9074-d1a5aabe03d7"
      },
      "source": [
        "X_train.shape"
      ],
      "execution_count": 133,
      "outputs": [
        {
          "output_type": "execute_result",
          "data": {
            "text/plain": [
              "(12673, 50)"
            ]
          },
          "metadata": {
            "tags": []
          },
          "execution_count": 133
        }
      ]
    },
    {
      "cell_type": "code",
      "metadata": {
        "id": "EhnSKpiMriG-",
        "colab_type": "code",
        "colab": {}
      },
      "source": [
        "# function to generate labels\n",
        "def gen_labels(id_df, seq_length, label):\n",
        "    \"\"\" Only sequences that meet the window-length are considered, no padding is used. This means for testing\n",
        "    we need to drop those which are below the window-length. An alternative would be to pad sequences so that\n",
        "    we can use shorter ones \"\"\"\n",
        "    # For one id I put all the labels in a single matrix.\n",
        "    # For example:\n",
        "    # [[1]\n",
        "    # [4]\n",
        "    # [1]\n",
        "    # [5]\n",
        "    # [9]\n",
        "    # ...\n",
        "    # [200]] \n",
        "    data_matrix = id_df[label].values\n",
        "    num_elements = data_matrix.shape[0]\n",
        "    # I have to remove the first seq_length labels\n",
        "    # because for one id the first sequence of seq_length size have as target\n",
        "    # the last label (the previus ones are discarded).\n",
        "    # All the next id's sequences will have associated step by step one label as target.\n",
        "    return data_matrix[seq_length:num_elements, :]"
      ],
      "execution_count": 134,
      "outputs": []
    },
    {
      "cell_type": "code",
      "metadata": {
        "id": "-rwv6ahHriHA",
        "colab_type": "code",
        "colab": {
          "base_uri": "https://localhost:8080/",
          "height": 33
        },
        "outputId": "548d9af1-20a6-4d01-f58f-9d9a7aeec6b5"
      },
      "source": [
        "label_gen = [gen_labels(train_df[train_df['id']==id], sequence_length, ['RUL']) \n",
        "             for id in train_df['id'].unique()]\n",
        "y_train = np.concatenate(label_gen).astype(np.float32).ravel()\n",
        "y_train.shape\n",
        "\n",
        "#y_train = np.array(list(gen_labels(tot_train_df.loc[train_id], win_size, ['RUL'])) ).ravel()\n",
        "#y_valid = np.array(list(gen_labels(tot_train_df.loc[test_id], win_size, ['RUL'])) ).ravel()"
      ],
      "execution_count": 175,
      "outputs": [
        {
          "output_type": "execute_result",
          "data": {
            "text/plain": [
              "(12673,)"
            ]
          },
          "metadata": {
            "tags": []
          },
          "execution_count": 175
        }
      ]
    },
    {
      "cell_type": "code",
      "metadata": {
        "id": "m8zcNOp3Ae7c",
        "colab_type": "code",
        "colab": {
          "base_uri": "https://localhost:8080/",
          "height": 33
        },
        "outputId": "bba86104-b7ba-4220-b0d8-2d972cb3f47c"
      },
      "source": [
        "y_train.shape"
      ],
      "execution_count": 174,
      "outputs": [
        {
          "output_type": "execute_result",
          "data": {
            "text/plain": [
              "(12673, 1)"
            ]
          },
          "metadata": {
            "tags": []
          },
          "execution_count": 174
        }
      ]
    },
    {
      "cell_type": "code",
      "metadata": {
        "id": "dsQYgxfG3_7s",
        "colab_type": "code",
        "colab": {}
      },
      "source": [
        "cut_percents = [0.5,0.7,0.9]"
      ],
      "execution_count": 142,
      "outputs": []
    },
    {
      "cell_type": "code",
      "metadata": {
        "id": "J1SDqR2FvthM",
        "colab_type": "code",
        "colab": {}
      },
      "source": [
        "X_test = [];\n",
        "for idx in test_id:\n",
        "  tmp_df = test_df[test_df['id'] == idx]\n",
        "  for cut_per in cut_percents:\n",
        "    tmp_cur = int(len(tmp_df)*cut_per)\n",
        "    X_test += [np.array(tmp_df[tmp_cur - win_size: tmp_cur][selected_ftr_name]).flatten()]\n",
        "X_test = np.array(X_test)"
      ],
      "execution_count": 167,
      "outputs": []
    },
    {
      "cell_type": "code",
      "metadata": {
        "id": "RDiUo4WVriHC",
        "colab_type": "code",
        "colab": {
          "base_uri": "https://localhost:8080/",
          "height": 33
        },
        "outputId": "1e8e0477-b9b4-4355-cf16-9dcea386d0eb"
      },
      "source": [
        "X_test.shape"
      ],
      "execution_count": 168,
      "outputs": [
        {
          "output_type": "execute_result",
          "data": {
            "text/plain": [
              "(60, 50)"
            ]
          },
          "metadata": {
            "tags": []
          },
          "execution_count": 168
        }
      ]
    },
    {
      "cell_type": "code",
      "metadata": {
        "id": "jFlFuFkOriHE",
        "colab_type": "code",
        "colab": {}
      },
      "source": [
        "params = {\n",
        "    'kernel':('linear', 'rbf'),\n",
        "    \"C\": [1e0, 1e1, 1e2, 1e3],\n",
        "    \"gamma\": [0.1, 0.125, 0.25, 0.5, 1, 2, 4]\n",
        "}\n",
        "svr = GridSearchCV(SVR(kernel = 'rbf'), cv=5, param_grid= params, scoring = 'neg_root_mean_squared_error', verbose = 1)"
      ],
      "execution_count": 179,
      "outputs": []
    },
    {
      "cell_type": "code",
      "metadata": {
        "id": "__ECUaOgriHG",
        "colab_type": "code",
        "colab": {},
        "outputId": "27c1b2d0-24a1-4ef4-f6aa-f8d7f349c3a9"
      },
      "source": [
        "svr.best_params_"
      ],
      "execution_count": null,
      "outputs": [
        {
          "output_type": "execute_result",
          "data": {
            "text/plain": [
              "{'C': 10.0, 'gamma': 0.1}"
            ]
          },
          "metadata": {
            "tags": []
          },
          "execution_count": 115
        }
      ]
    },
    {
      "cell_type": "code",
      "metadata": {
        "id": "Y-jUr6mWriHI",
        "colab_type": "code",
        "colab": {
          "base_uri": "https://localhost:8080/",
          "height": 50
        },
        "outputId": "2ddce934-caa3-406d-9f78-39db77193150"
      },
      "source": [
        "t0 = time.time()\n",
        "#训练\n",
        "svr.fit(X_train, y_train)\n",
        "svr_fit = time.time() - t0"
      ],
      "execution_count": null,
      "outputs": [
        {
          "output_type": "stream",
          "text": [
            "Fitting 5 folds for each of 56 candidates, totalling 280 fits\n"
          ],
          "name": "stdout"
        },
        {
          "output_type": "stream",
          "text": [
            "[Parallel(n_jobs=1)]: Using backend SequentialBackend with 1 concurrent workers.\n"
          ],
          "name": "stderr"
        }
      ]
    },
    {
      "cell_type": "code",
      "metadata": {
        "id": "Js1e4leUriHK",
        "colab_type": "code",
        "colab": {}
      },
      "source": [
        "\n",
        "t0 = time.time()\n",
        "#测试\n",
        "y_svr = svr.predict(X_valid)\n",
        "svr_predict = time.time() - t0\n"
      ],
      "execution_count": null,
      "outputs": []
    },
    {
      "cell_type": "code",
      "metadata": {
        "id": "uBmg2EtCriHL",
        "colab_type": "code",
        "colab": {},
        "outputId": "f5a356e8-98ac-4401-df17-02fbd73be762"
      },
      "source": [
        "np.sqrt(sum((y_svr - y_valid)**2))"
      ],
      "execution_count": null,
      "outputs": [
        {
          "output_type": "execute_result",
          "data": {
            "text/plain": [
              "1841.4660959658122"
            ]
          },
          "metadata": {
            "tags": []
          },
          "execution_count": 113
        }
      ]
    },
    {
      "cell_type": "code",
      "metadata": {
        "id": "ei5TzVvJvNFk",
        "colab_type": "code",
        "colab": {}
      },
      "source": [
        "model_file = drive_path + '/2_saved_model'\n",
        "if os.path.exists(model_file)==False:\n",
        "    os.makedirs(model_file)"
      ],
      "execution_count": 44,
      "outputs": []
    },
    {
      "cell_type": "code",
      "metadata": {
        "id": "1XVLWixZriHN",
        "colab_type": "code",
        "colab": {}
      },
      "source": [
        "import pickle \n",
        "f = open(model_file + '/svr.pickle','wb')\n",
        "pickle.dump(svr, f)\n",
        "f.close()"
      ],
      "execution_count": null,
      "outputs": []
    },
    {
      "cell_type": "code",
      "metadata": {
        "id": "LrDKS5m1riHP",
        "colab_type": "code",
        "colab": {}
      },
      "source": [
        "f = open(model_file + '/svr.pickle','rb')\n",
        "clf = pickle.load(f)\n",
        "f.close()"
      ],
      "execution_count": null,
      "outputs": []
    },
    {
      "cell_type": "code",
      "metadata": {
        "id": "DhOfWflgriHR",
        "colab_type": "code",
        "colab": {},
        "outputId": "cc0d0dee-3e0c-4f19-dd94-cfe4a13679f3"
      },
      "source": [
        "clf.best_params_"
      ],
      "execution_count": null,
      "outputs": [
        {
          "output_type": "execute_result",
          "data": {
            "text/plain": [
              "{'C': 10.0, 'gamma': 0.1}"
            ]
          },
          "metadata": {
            "tags": []
          },
          "execution_count": 118
        }
      ]
    },
    {
      "cell_type": "code",
      "metadata": {
        "id": "sYePzYV-riHT",
        "colab_type": "code",
        "colab": {}
      },
      "source": [
        ""
      ],
      "execution_count": null,
      "outputs": []
    },
    {
      "cell_type": "code",
      "metadata": {
        "id": "hgAn8oyWriHW",
        "colab_type": "code",
        "colab": {}
      },
      "source": [
        "cut_percents = [0.5,0.7,0.9]\n",
        "res_info_col = ['on_id','on_seg','y_pred','y_true']\n",
        "res_df = pd.DataFrame(columns=res_info_col)\n",
        "for on_id in test_id:\n",
        "    n_seg = len(test_df.loc[on_id])\n",
        "    for cut_per in cut_percents:\n",
        "        cur_seg = int(n_seg * cut_per/10)*10 - on_win_size\n",
        "        tmp_df = eu_dist_df[(eu_dist_df['on_id']==on_id) &(eu_dist_df['on_seg']==cur_seg)].sort_values(by='dist')[:k]\n",
        "        tmp_rul = sum(tmp_df['his_RUL']*np.exp(-alpha * tmp_df['dist'])/sum(np.exp(-alpha * tmp_df['dist'])))\n",
        "        #print(cur_seg,tmp_rul, cur_seg+tmp_rul, n_seg - cur_seg - on_win_size)\n",
        "        res_df= res_df.append(pd.DataFrame([[on_id, cur_seg, tmp_rul, n_seg -cur_seg - on_win_size]],columns = res_info_col))\n",
        "eu_score += [(k, alpha, RHS_score( res_df['y_true'], res_df['y_pred'])/len(res_df['y_pred']))]"
      ],
      "execution_count": null,
      "outputs": []
    }
  ]
}