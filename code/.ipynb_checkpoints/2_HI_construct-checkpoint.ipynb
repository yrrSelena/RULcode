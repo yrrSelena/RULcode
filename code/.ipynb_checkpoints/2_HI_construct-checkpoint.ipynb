{
 "cells": [
  {
   "cell_type": "markdown",
   "metadata": {},
   "source": [
    "# Step 2: HI construction (PCA)"
   ]
  },
  {
   "cell_type": "code",
   "execution_count": 1,
   "metadata": {},
   "outputs": [],
   "source": [
    "import pandas as pd\n",
    "import numpy as np\n",
    "import os\n",
    "import time\n",
    "import csv\n",
    "import math\n",
    "import matplotlib.pyplot as plt\n",
    "from sklearn.decomposition import PCA"
   ]
  },
  {
   "cell_type": "markdown",
   "metadata": {},
   "source": [
    "## Load data"
   ]
  },
  {
   "cell_type": "code",
   "execution_count": 8,
   "metadata": {},
   "outputs": [],
   "source": [
    "processed_data_file = '../data/1_processed_data'\n",
    "file_no = '1'\n",
    "train_file = processed_data_file+'/train_data_FD00'+file_no+'.csv'\n",
    "test_file = processed_data_file+'/test_data_FD00'+file_no+'.csv'\n",
    "train_df = pd.read_csv(train_file)\n",
    "test_df = pd.read_csv(test_file)"
   ]
  },
  {
   "cell_type": "code",
   "execution_count": 7,
   "metadata": {},
   "outputs": [
    {
     "data": {
      "text/html": [
       "<div>\n",
       "<style scoped>\n",
       "    .dataframe tbody tr th:only-of-type {\n",
       "        vertical-align: middle;\n",
       "    }\n",
       "\n",
       "    .dataframe tbody tr th {\n",
       "        vertical-align: top;\n",
       "    }\n",
       "\n",
       "    .dataframe thead th {\n",
       "        text-align: right;\n",
       "    }\n",
       "</style>\n",
       "<table border=\"1\" class=\"dataframe\">\n",
       "  <thead>\n",
       "    <tr style=\"text-align: right;\">\n",
       "      <th></th>\n",
       "      <th>id</th>\n",
       "      <th>cycle</th>\n",
       "      <th>s2</th>\n",
       "      <th>s3</th>\n",
       "      <th>s4</th>\n",
       "      <th>s7</th>\n",
       "      <th>s11</th>\n",
       "      <th>s12</th>\n",
       "      <th>s15</th>\n",
       "      <th>RUL</th>\n",
       "    </tr>\n",
       "  </thead>\n",
       "  <tbody>\n",
       "    <tr>\n",
       "      <th>0</th>\n",
       "      <td>1</td>\n",
       "      <td>1</td>\n",
       "      <td>-1.043976</td>\n",
       "      <td>-0.402325</td>\n",
       "      <td>-0.735593</td>\n",
       "      <td>0.922429</td>\n",
       "      <td>-0.713047</td>\n",
       "      <td>1.045859</td>\n",
       "      <td>-0.735619</td>\n",
       "      <td>191</td>\n",
       "    </tr>\n",
       "    <tr>\n",
       "      <th>1</th>\n",
       "      <td>1</td>\n",
       "      <td>2</td>\n",
       "      <td>-1.013039</td>\n",
       "      <td>-0.437787</td>\n",
       "      <td>-0.744731</td>\n",
       "      <td>0.927522</td>\n",
       "      <td>-0.754362</td>\n",
       "      <td>1.056043</td>\n",
       "      <td>-0.759942</td>\n",
       "      <td>190</td>\n",
       "    </tr>\n",
       "    <tr>\n",
       "      <th>2</th>\n",
       "      <td>1</td>\n",
       "      <td>3</td>\n",
       "      <td>-0.961467</td>\n",
       "      <td>-0.495099</td>\n",
       "      <td>-0.765407</td>\n",
       "      <td>0.933752</td>\n",
       "      <td>-0.825635</td>\n",
       "      <td>1.067335</td>\n",
       "      <td>-0.801976</td>\n",
       "      <td>189</td>\n",
       "    </tr>\n",
       "    <tr>\n",
       "      <th>3</th>\n",
       "      <td>1</td>\n",
       "      <td>4</td>\n",
       "      <td>-0.905369</td>\n",
       "      <td>-0.553770</td>\n",
       "      <td>-0.799936</td>\n",
       "      <td>0.934785</td>\n",
       "      <td>-0.909588</td>\n",
       "      <td>1.066562</td>\n",
       "      <td>-0.851178</td>\n",
       "      <td>188</td>\n",
       "    </tr>\n",
       "    <tr>\n",
       "      <th>4</th>\n",
       "      <td>1</td>\n",
       "      <td>5</td>\n",
       "      <td>-0.860195</td>\n",
       "      <td>-0.596473</td>\n",
       "      <td>-0.847359</td>\n",
       "      <td>0.924675</td>\n",
       "      <td>-0.990531</td>\n",
       "      <td>1.043267</td>\n",
       "      <td>-0.896681</td>\n",
       "      <td>187</td>\n",
       "    </tr>\n",
       "  </tbody>\n",
       "</table>\n",
       "</div>"
      ],
      "text/plain": [
       "   id  cycle        s2        s3        s4        s7       s11       s12  \\\n",
       "0   1      1 -1.043976 -0.402325 -0.735593  0.922429 -0.713047  1.045859   \n",
       "1   1      2 -1.013039 -0.437787 -0.744731  0.927522 -0.754362  1.056043   \n",
       "2   1      3 -0.961467 -0.495099 -0.765407  0.933752 -0.825635  1.067335   \n",
       "3   1      4 -0.905369 -0.553770 -0.799936  0.934785 -0.909588  1.066562   \n",
       "4   1      5 -0.860195 -0.596473 -0.847359  0.924675 -0.990531  1.043267   \n",
       "\n",
       "        s15  RUL  \n",
       "0 -0.735619  191  \n",
       "1 -0.759942  190  \n",
       "2 -0.801976  189  \n",
       "3 -0.851178  188  \n",
       "4 -0.896681  187  "
      ]
     },
     "execution_count": 7,
     "metadata": {},
     "output_type": "execute_result"
    }
   ],
   "source": [
    "train_df.head()"
   ]
  },
  {
   "cell_type": "code",
   "execution_count": 10,
   "metadata": {},
   "outputs": [
    {
     "data": {
      "text/html": [
       "<div>\n",
       "<style scoped>\n",
       "    .dataframe tbody tr th:only-of-type {\n",
       "        vertical-align: middle;\n",
       "    }\n",
       "\n",
       "    .dataframe tbody tr th {\n",
       "        vertical-align: top;\n",
       "    }\n",
       "\n",
       "    .dataframe thead th {\n",
       "        text-align: right;\n",
       "    }\n",
       "</style>\n",
       "<table border=\"1\" class=\"dataframe\">\n",
       "  <thead>\n",
       "    <tr style=\"text-align: right;\">\n",
       "      <th></th>\n",
       "      <th>id</th>\n",
       "      <th>cycle</th>\n",
       "      <th>s2</th>\n",
       "      <th>s3</th>\n",
       "      <th>s4</th>\n",
       "      <th>s7</th>\n",
       "      <th>s11</th>\n",
       "      <th>s12</th>\n",
       "      <th>s15</th>\n",
       "      <th>RUL</th>\n",
       "    </tr>\n",
       "  </thead>\n",
       "  <tbody>\n",
       "    <tr>\n",
       "      <th>0</th>\n",
       "      <td>1</td>\n",
       "      <td>1</td>\n",
       "      <td>-0.557815</td>\n",
       "      <td>-0.744554</td>\n",
       "      <td>-1.024044</td>\n",
       "      <td>0.965818</td>\n",
       "      <td>-0.703520</td>\n",
       "      <td>0.640428</td>\n",
       "      <td>-0.973743</td>\n",
       "      <td>142</td>\n",
       "    </tr>\n",
       "    <tr>\n",
       "      <th>1</th>\n",
       "      <td>1</td>\n",
       "      <td>2</td>\n",
       "      <td>-0.580198</td>\n",
       "      <td>-0.769233</td>\n",
       "      <td>-0.999863</td>\n",
       "      <td>0.954590</td>\n",
       "      <td>-0.716644</td>\n",
       "      <td>0.645109</td>\n",
       "      <td>-0.962040</td>\n",
       "      <td>141</td>\n",
       "    </tr>\n",
       "    <tr>\n",
       "      <th>2</th>\n",
       "      <td>1</td>\n",
       "      <td>3</td>\n",
       "      <td>-0.621659</td>\n",
       "      <td>-0.812802</td>\n",
       "      <td>-0.956967</td>\n",
       "      <td>0.934363</td>\n",
       "      <td>-0.743436</td>\n",
       "      <td>0.655576</td>\n",
       "      <td>-0.940938</td>\n",
       "      <td>140</td>\n",
       "    </tr>\n",
       "    <tr>\n",
       "      <th>3</th>\n",
       "      <td>1</td>\n",
       "      <td>4</td>\n",
       "      <td>-0.677104</td>\n",
       "      <td>-0.864398</td>\n",
       "      <td>-0.903560</td>\n",
       "      <td>0.909933</td>\n",
       "      <td>-0.783355</td>\n",
       "      <td>0.673014</td>\n",
       "      <td>-0.914048</td>\n",
       "      <td>139</td>\n",
       "    </tr>\n",
       "    <tr>\n",
       "      <th>4</th>\n",
       "      <td>1</td>\n",
       "      <td>5</td>\n",
       "      <td>-0.740977</td>\n",
       "      <td>-0.910277</td>\n",
       "      <td>-0.847657</td>\n",
       "      <td>0.888448</td>\n",
       "      <td>-0.833200</td>\n",
       "      <td>0.697159</td>\n",
       "      <td>-0.885263</td>\n",
       "      <td>138</td>\n",
       "    </tr>\n",
       "  </tbody>\n",
       "</table>\n",
       "</div>"
      ],
      "text/plain": [
       "   id  cycle        s2        s3        s4        s7       s11       s12  \\\n",
       "0   1      1 -0.557815 -0.744554 -1.024044  0.965818 -0.703520  0.640428   \n",
       "1   1      2 -0.580198 -0.769233 -0.999863  0.954590 -0.716644  0.645109   \n",
       "2   1      3 -0.621659 -0.812802 -0.956967  0.934363 -0.743436  0.655576   \n",
       "3   1      4 -0.677104 -0.864398 -0.903560  0.909933 -0.783355  0.673014   \n",
       "4   1      5 -0.740977 -0.910277 -0.847657  0.888448 -0.833200  0.697159   \n",
       "\n",
       "        s15  RUL  \n",
       "0 -0.973743  142  \n",
       "1 -0.962040  141  \n",
       "2 -0.940938  140  \n",
       "3 -0.914048  139  \n",
       "4 -0.885263  138  "
      ]
     },
     "execution_count": 10,
     "metadata": {},
     "output_type": "execute_result"
    }
   ],
   "source": [
    "test_df.head()"
   ]
  },
  {
   "cell_type": "code",
   "execution_count": 14,
   "metadata": {},
   "outputs": [
    {
     "data": {
      "text/plain": [
       "Index(['s11', 's12', 's15', 's2', 's3', 's4', 's7'], dtype='object')"
      ]
     },
     "execution_count": 14,
     "metadata": {},
     "output_type": "execute_result"
    }
   ],
   "source": [
    "selected_ftr_name = train_df.columns.difference(['RUL','id','cycle'])\n",
    "selected_ftr_name"
   ]
  },
  {
   "cell_type": "markdown",
   "metadata": {},
   "source": [
    "## PCA reduction"
   ]
  },
  {
   "cell_type": "code",
   "execution_count": 15,
   "metadata": {},
   "outputs": [
    {
     "data": {
      "text/plain": [
       "0.9848300494515637"
      ]
     },
     "execution_count": 15,
     "metadata": {},
     "output_type": "execute_result"
    }
   ],
   "source": [
    "pca = PCA(n_components=3)  #Dimension reduction\n",
    "pca.fit(train_df[selected_ftr_name])\n",
    "train_pca = pca.transform(train_df[selected_ftr_name])\n",
    "test_pca = pca.transform(test_df[selected_ftr_name])\n",
    "sum(pca.explained_variance_ratio_[:3])"
   ]
  },
  {
   "cell_type": "code",
   "execution_count": 16,
   "metadata": {},
   "outputs": [
    {
     "data": {
      "text/plain": [
       "array([0.96859157, 0.01006784, 0.00617064])"
      ]
     },
     "execution_count": 16,
     "metadata": {},
     "output_type": "execute_result"
    }
   ],
   "source": [
    "pca.explained_variance_ratio_[:3]"
   ]
  },
  {
   "cell_type": "code",
   "execution_count": 19,
   "metadata": {},
   "outputs": [],
   "source": [
    "train_df['HI'] = pd.DataFrame(train_pca[:,0],index = train_df.index)\n",
    "test_df['HI'] = pd.DataFrame(test_pca[:,0],index = test_df.index)"
   ]
  },
  {
   "cell_type": "code",
   "execution_count": 20,
   "metadata": {},
   "outputs": [
    {
     "data": {
      "text/html": [
       "<div>\n",
       "<style scoped>\n",
       "    .dataframe tbody tr th:only-of-type {\n",
       "        vertical-align: middle;\n",
       "    }\n",
       "\n",
       "    .dataframe tbody tr th {\n",
       "        vertical-align: top;\n",
       "    }\n",
       "\n",
       "    .dataframe thead th {\n",
       "        text-align: right;\n",
       "    }\n",
       "</style>\n",
       "<table border=\"1\" class=\"dataframe\">\n",
       "  <thead>\n",
       "    <tr style=\"text-align: right;\">\n",
       "      <th></th>\n",
       "      <th>id</th>\n",
       "      <th>cycle</th>\n",
       "      <th>s2</th>\n",
       "      <th>s3</th>\n",
       "      <th>s4</th>\n",
       "      <th>s7</th>\n",
       "      <th>s11</th>\n",
       "      <th>s12</th>\n",
       "      <th>s15</th>\n",
       "      <th>RUL</th>\n",
       "      <th>HI</th>\n",
       "    </tr>\n",
       "  </thead>\n",
       "  <tbody>\n",
       "    <tr>\n",
       "      <th>0</th>\n",
       "      <td>1</td>\n",
       "      <td>1</td>\n",
       "      <td>-1.043976</td>\n",
       "      <td>-0.402325</td>\n",
       "      <td>-0.735593</td>\n",
       "      <td>0.922429</td>\n",
       "      <td>-0.713047</td>\n",
       "      <td>1.045859</td>\n",
       "      <td>-0.735619</td>\n",
       "      <td>191</td>\n",
       "      <td>-2.126821</td>\n",
       "    </tr>\n",
       "    <tr>\n",
       "      <th>1</th>\n",
       "      <td>1</td>\n",
       "      <td>2</td>\n",
       "      <td>-1.013039</td>\n",
       "      <td>-0.437787</td>\n",
       "      <td>-0.744731</td>\n",
       "      <td>0.927522</td>\n",
       "      <td>-0.754362</td>\n",
       "      <td>1.056043</td>\n",
       "      <td>-0.759942</td>\n",
       "      <td>190</td>\n",
       "      <td>-2.163152</td>\n",
       "    </tr>\n",
       "    <tr>\n",
       "      <th>2</th>\n",
       "      <td>1</td>\n",
       "      <td>3</td>\n",
       "      <td>-0.961467</td>\n",
       "      <td>-0.495099</td>\n",
       "      <td>-0.765407</td>\n",
       "      <td>0.933752</td>\n",
       "      <td>-0.825635</td>\n",
       "      <td>1.067335</td>\n",
       "      <td>-0.801976</td>\n",
       "      <td>189</td>\n",
       "      <td>-2.223635</td>\n",
       "    </tr>\n",
       "    <tr>\n",
       "      <th>3</th>\n",
       "      <td>1</td>\n",
       "      <td>4</td>\n",
       "      <td>-0.905369</td>\n",
       "      <td>-0.553770</td>\n",
       "      <td>-0.799936</td>\n",
       "      <td>0.934785</td>\n",
       "      <td>-0.909588</td>\n",
       "      <td>1.066562</td>\n",
       "      <td>-0.851178</td>\n",
       "      <td>188</td>\n",
       "      <td>-2.289392</td>\n",
       "    </tr>\n",
       "    <tr>\n",
       "      <th>4</th>\n",
       "      <td>1</td>\n",
       "      <td>5</td>\n",
       "      <td>-0.860195</td>\n",
       "      <td>-0.596473</td>\n",
       "      <td>-0.847359</td>\n",
       "      <td>0.924675</td>\n",
       "      <td>-0.990531</td>\n",
       "      <td>1.043267</td>\n",
       "      <td>-0.896681</td>\n",
       "      <td>187</td>\n",
       "      <td>-2.342838</td>\n",
       "    </tr>\n",
       "  </tbody>\n",
       "</table>\n",
       "</div>"
      ],
      "text/plain": [
       "   id  cycle        s2        s3        s4        s7       s11       s12  \\\n",
       "0   1      1 -1.043976 -0.402325 -0.735593  0.922429 -0.713047  1.045859   \n",
       "1   1      2 -1.013039 -0.437787 -0.744731  0.927522 -0.754362  1.056043   \n",
       "2   1      3 -0.961467 -0.495099 -0.765407  0.933752 -0.825635  1.067335   \n",
       "3   1      4 -0.905369 -0.553770 -0.799936  0.934785 -0.909588  1.066562   \n",
       "4   1      5 -0.860195 -0.596473 -0.847359  0.924675 -0.990531  1.043267   \n",
       "\n",
       "        s15  RUL        HI  \n",
       "0 -0.735619  191 -2.126821  \n",
       "1 -0.759942  190 -2.163152  \n",
       "2 -0.801976  189 -2.223635  \n",
       "3 -0.851178  188 -2.289392  \n",
       "4 -0.896681  187 -2.342838  "
      ]
     },
     "execution_count": 20,
     "metadata": {},
     "output_type": "execute_result"
    }
   ],
   "source": [
    "train_df.head()"
   ]
  },
  {
   "cell_type": "markdown",
   "metadata": {},
   "source": [
    "## Plot"
   ]
  },
  {
   "cell_type": "code",
   "execution_count": 23,
   "metadata": {},
   "outputs": [
    {
     "data": {
      "image/png": "[encoded data removed]",
      "text/plain": [
       "<Figure size 432x288 with 1 Axes>"
      ]
     },
     "metadata": {
      "needs_background": "light"
     },
     "output_type": "display_data"
    }
   ],
   "source": [
    "for j in [2,9]:#range(1,10):\n",
    "    plt.plot(range(len(train_df[train_df['id'] ==j])),train_df[train_df['id']==j][\"HI\"])\n",
    "plt.show()"
   ]
  },
  {
   "cell_type": "markdown",
   "metadata": {},
   "source": [
    "## Save HI"
   ]
  },
  {
   "cell_type": "code",
   "execution_count": 25,
   "metadata": {},
   "outputs": [],
   "source": [
    "HI_file = '../data/2_HI'\n",
    "if os.path.exists(HI_file)==False:\n",
    "    os.makedirs(HI_file)"
   ]
  },
  {
   "cell_type": "code",
   "execution_count": 26,
   "metadata": {},
   "outputs": [],
   "source": [
    "train_df.to_csv(HI_file+'/train_PCA_HI_FD00'+file_no+'.csv',index=True,header=True)"
   ]
  },
  {
   "cell_type": "code",
   "execution_count": 27,
   "metadata": {},
   "outputs": [],
   "source": [
    "test_df.to_csv(HI_file+'/test_PCA_HI_FD00'+file_no+'.csv',index=True,header=True)"
   ]
  },
  {
   "cell_type": "code",
   "execution_count": null,
   "metadata": {},
   "outputs": [],
   "source": []
  }
 ],
 "metadata": {
  "kernelspec": {
   "display_name": "Python 3",
   "language": "python",
   "name": "python3"
  },
  "language_info": {
   "codemirror_mode": {
    "name": "ipython",
    "version": 3
   },
   "file_extension": ".py",
   "mimetype": "text/x-python",
   "name": "python",
   "nbconvert_exporter": "python",
   "pygments_lexer": "ipython3",
   "version": "3.7.3"
  }
 },
 "nbformat": 4,
 "nbformat_minor": 4
}
