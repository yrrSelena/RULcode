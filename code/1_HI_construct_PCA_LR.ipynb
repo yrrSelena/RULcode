{
 "cells": [
  {
   "cell_type": "markdown",
   "metadata": {},
   "source": [
    "# Step 1: HI Construction\n",
    "1. Normalization & feature selection\n",
    "2. Noise reduction (Gaussian filter)\n",
    "3. Dimension reduction (PCA)"
   ]
  },
  {
   "cell_type": "markdown",
   "metadata": {},
   "source": [
    "## 1 Import library"
   ]
  },
  {
   "cell_type": "code",
   "execution_count": 1,
   "metadata": {},
   "outputs": [],
   "source": [
    "import pandas as pd\n",
    "import numpy as np\n",
    "import os\n",
    "import time\n",
    "import csv\n",
    "import math\n",
    "import matplotlib.pyplot as plt\n",
    "from sklearn import preprocessing\n",
    "from scipy.ndimage.filters import gaussian_filter1d\n",
    "from sklearn.decomposition import PCA"
   ]
  },
  {
   "cell_type": "markdown",
   "metadata": {},
   "source": [
    "## 2 Load data"
   ]
  },
  {
   "cell_type": "markdown",
   "metadata": {},
   "source": [
    "### 2.1 Set constant data"
   ]
  },
  {
   "cell_type": "code",
   "execution_count": 2,
   "metadata": {},
   "outputs": [],
   "source": [
    "file_path = '0_raw_data/'\n",
    "file_no = '1'\n",
    "train_file = file_path+'train_FD00'+file_no+'.txt'\n",
    "test_file = file_path+'test_FD00'+file_no+'.txt'\n",
    "test_rul_file = file_path+'RUL_FD00'+file_no+'.txt'\n",
    "n_ftrs = 26\n",
    "op_col_name = [ 'setting1', 'setting2', 'setting3']\n",
    "ftr_col_name = [ 's1', 's2', 's3','s4', 's5', 's6', 's7', 's8', 's9', 's10', 's11', 's12', 's13', 's14',\n",
    "             's15', 's16', 's17', 's18', 's19', 's20', 's21']\n",
    "col_name = ['id', 'cycle'] + op_col_name+ ftr_col_name\n",
    "n_op = 1"
   ]
  },
  {
   "cell_type": "markdown",
   "metadata": {},
   "source": [
    "### 2.2 Read data"
   ]
  },
  {
   "cell_type": "code",
   "execution_count": 3,
   "metadata": {},
   "outputs": [],
   "source": [
    "# read training data - It is the aircraft engine run-to-failure data.\n",
    "raw_train_df = pd.read_csv(train_file,names = col_name, header=None,delim_whitespace=True)\n",
    "raw_test_df = pd.read_csv(test_file,names = col_name, header=None,delim_whitespace=True)\n",
    "raw_rul_df = pd.read_csv(test_rul_file, names=['RUL'],header=None,delim_whitespace=True) "
   ]
  },
  {
   "cell_type": "code",
   "execution_count": 4,
   "metadata": {},
   "outputs": [],
   "source": [
    "train_df = raw_train_df\n",
    "test_df = raw_test_df\n",
    "rul_df = raw_rul_df"
   ]
  },
  {
   "cell_type": "code",
   "execution_count": 5,
   "metadata": {},
   "outputs": [
    {
     "data": {
      "text/plain": [
       "100"
      ]
     },
     "execution_count": 5,
     "metadata": {},
     "output_type": "execute_result"
    }
   ],
   "source": [
    "n_train_units = len(train_df.groupby('id').size())\n",
    "n_test_units = len(test_df.groupby('id').size())\n",
    "n_test_units"
   ]
  },
  {
   "cell_type": "markdown",
   "metadata": {},
   "source": [
    "## 3 Preprocess"
   ]
  },
  {
   "cell_type": "markdown",
   "metadata": {},
   "source": [
    "### 3.1 Normalization"
   ]
  },
  {
   "cell_type": "code",
   "execution_count": 6,
   "metadata": {},
   "outputs": [],
   "source": [
    "scaler = preprocessing.StandardScaler()\n",
    "train_df[ftr_col_name] = pd.DataFrame(scaler.fit_transform(train_df[ftr_col_name]), \n",
    "                                                        columns=ftr_col_name, \n",
    "                                                        index=train_df.index)"
   ]
  },
  {
   "cell_type": "code",
   "execution_count": 7,
   "metadata": {
    "scrolled": true
   },
   "outputs": [],
   "source": [
    "test_df[ftr_col_name] = pd.DataFrame(scaler.transform(test_df[ftr_col_name]), \n",
    "                                                        columns=ftr_col_name, \n",
    "                                                        index=test_df.index)"
   ]
  },
  {
   "cell_type": "markdown",
   "metadata": {},
   "source": [
    "### 3.2 Calculate RUL"
   ]
  },
  {
   "cell_type": "code",
   "execution_count": 8,
   "metadata": {},
   "outputs": [],
   "source": [
    "rul = pd.DataFrame(train_df.groupby('id')['cycle'].max()).reset_index() #添加一列作为索引\n",
    "rul.columns = ['id', 'max']\n",
    "train_df = train_df.merge(rul, on=['id'], how='left')\n",
    "train_df['RUL'] = train_df['max'] - train_df['cycle']\n",
    "train_df.drop('max', axis=1, inplace=True)"
   ]
  },
  {
   "cell_type": "code",
   "execution_count": 9,
   "metadata": {},
   "outputs": [],
   "source": [
    "rul = pd.DataFrame(test_df.groupby('id')['cycle'].max()).reset_index() \n",
    "rul.columns = ['id', 'max']\n",
    "rul_df.columns = ['more']\n",
    "rul_df['id'] = rul_df.index + 1 # 获得每个发动机的编号\n",
    "rul_df['max'] = rul['max'] + rul_df['more'] # 测试数据的生命周期=发动机的运行时间+剩余寿命\n",
    "rul_df.drop('more', axis=1, inplace=True)\n",
    "\n",
    "# generate RUL for test data\n",
    "test_df = test_df.merge(rul_df, on=['id'], how='left')\n",
    "test_df['RUL'] = test_df['max'] - test_df['cycle']\n",
    "#test_df['percent'] = test_df['cycle']/test_df['max']\n",
    "test_df.drop('max', axis=1, inplace=True)"
   ]
  },
  {
   "cell_type": "markdown",
   "metadata": {},
   "source": [
    "### 3.3 Piecewise RUL"
   ]
  },
  {
   "cell_type": "raw",
   "metadata": {},
   "source": [
    "MAX_RUL=130\n",
    "train_df.loc[train_df['RUL']>MAX_RUL,'RUL']=MAX_RUL\n",
    "test_df.loc[test_df['RUL']>MAX_RUL,'RUL']=MAX_RUL"
   ]
  },
  {
   "cell_type": "markdown",
   "metadata": {},
   "source": [
    "### 3.4 Drop rebundant features"
   ]
  },
  {
   "cell_type": "code",
   "execution_count": 10,
   "metadata": {},
   "outputs": [],
   "source": [
    "#rebundant_ftr_name = ['s1','s5','s6','s10','s16','s17','s18','s19','setting1','setting2','setting3']\n",
    "rebundant_ftr_name = ['s1','s5','s6', 's8', 's9','s10', 's13', 's14','s16','s17','s18','s19', 's20', 's21','setting1','setting2','setting3']"
   ]
  },
  {
   "cell_type": "code",
   "execution_count": 11,
   "metadata": {},
   "outputs": [],
   "source": [
    "#train_df =train_df.loc[:,selected_ftr_name]\n",
    "train_df.drop(rebundant_ftr_name, axis=1, inplace=True)\n",
    "#train_df.head()"
   ]
  },
  {
   "cell_type": "code",
   "execution_count": 12,
   "metadata": {},
   "outputs": [],
   "source": [
    "test_df.drop(rebundant_ftr_name, axis=1, inplace=True)"
   ]
  },
  {
   "cell_type": "code",
   "execution_count": 13,
   "metadata": {},
   "outputs": [
    {
     "data": {
      "text/plain": [
       "Index(['s11', 's12', 's15', 's2', 's3', 's4', 's7'], dtype='object')"
      ]
     },
     "execution_count": 13,
     "metadata": {},
     "output_type": "execute_result"
    }
   ],
   "source": [
    "selected_ftr_name = train_df.columns.difference(['id','cycle','RUL'])\n",
    "selected_ftr_name"
   ]
  },
  {
   "cell_type": "code",
   "execution_count": 14,
   "metadata": {},
   "outputs": [],
   "source": [
    "def smoothGaussian(data,n_units,ftr_col_name,sigma):\n",
    "    data_group = data.groupby(data['id'])\n",
    "    ewm_ftr = pd.DataFrame()\n",
    "    for unit_no in range(1,n_units+1):\n",
    "        #print(unit_no)\n",
    "        tmp_unit = data_group.get_group(unit_no)\n",
    "        tmp_unit1 = pd.DataFrame(columns = ftr_col_name)\n",
    "        #print(tmp_unit.index)\n",
    "        for col in ftr_col_name:\n",
    "            #print(tmp_unit[col])\n",
    "            tmp_unit1[col] = gaussian_filter1d(tmp_unit.loc[:,col],sigma)\n",
    "        tmp_unit1.reindex(index=tmp_unit.index)\n",
    "        #print(tmp_unit1)\n",
    "        #print(len(tmp_unit1[col]),len(tmp_unit[col]))\n",
    "        #print(tmp_unit[ftr_col_name])\n",
    "        #print(tmp_unit1)\n",
    "        #col = 's7'\n",
    "        #plt.plot(tmp_unit1[col])\n",
    "        #plt.plot(tmp_unit[col])\n",
    "        #plt.show()\n",
    "        ewm_ftr = pd.concat([ewm_ftr,tmp_unit1],ignore_index=True)#ewm_ftr.append(tmp_unit1)\n",
    "        #print(ewm_ftr)\n",
    "    ewm_ftr['id'] = data['id']\n",
    "    ewm_ftr['cycle'] = data['cycle']\n",
    "    ewm_ftr['RUL'] = data['RUL']\n",
    "    ewm_ftr = ewm_ftr.reset_index(drop=True)\n",
    "    return ewm_ftr"
   ]
  },
  {
   "cell_type": "code",
   "execution_count": 48,
   "metadata": {},
   "outputs": [],
   "source": [
    "#ewm_win_size = 10\n",
    "gauss_sigma = 3\n",
    "ewm_train_ftr = pd.DataFrame()\n",
    "ewm_train_ftr = smoothGaussian(train_df, n_train_units, selected_ftr_name,gauss_sigma)\n",
    "train_df = ewm_train_ftr"
   ]
  },
  {
   "cell_type": "code",
   "execution_count": 49,
   "metadata": {},
   "outputs": [],
   "source": [
    "ewm_test_ftr = pd.DataFrame()\n",
    "ewm_test_ftr = smoothGaussian(test_df, n_test_units, selected_ftr_name,gauss_sigma)\n",
    "test_df = ewm_test_ftr"
   ]
  },
  {
   "cell_type": "markdown",
   "metadata": {},
   "source": [
    "## 5 Dimension reduction"
   ]
  },
  {
   "cell_type": "markdown",
   "metadata": {},
   "source": [
    "### 5.1 PCA"
   ]
  },
  {
   "cell_type": "code",
   "execution_count": 50,
   "metadata": {},
   "outputs": [
    {
     "data": {
      "text/plain": [
       "0.9942041929126587"
      ]
     },
     "execution_count": 50,
     "metadata": {},
     "output_type": "execute_result"
    }
   ],
   "source": [
    "n_components = 5\n",
    "pca = PCA(n_components=n_components)\n",
    "pca.fit(train_df[selected_ftr_name])\n",
    "train_pca = pca.transform(train_df[selected_ftr_name])\n",
    "test_pca = pca.transform(test_df[selected_ftr_name])\n",
    "sum(pca.explained_variance_ratio_[:n_components])"
   ]
  },
  {
   "cell_type": "code",
   "execution_count": 72,
   "metadata": {},
   "outputs": [
    {
     "data": {
      "text/plain": [
       "array([0.9699057 , 0.00977183, 0.00586639])"
      ]
     },
     "execution_count": 72,
     "metadata": {},
     "output_type": "execute_result"
    }
   ],
   "source": [
    "pca.explained_variance_ratio_[:3]"
   ]
  },
  {
   "cell_type": "code",
   "execution_count": 51,
   "metadata": {},
   "outputs": [
    {
     "data": {
      "text/plain": [
       "['p0', 'p1', 'p2', 'p3', 'p4']"
      ]
     },
     "execution_count": 51,
     "metadata": {},
     "output_type": "execute_result"
    }
   ],
   "source": [
    "pca_col_name = ['p'+str(i) for i in range(n_components)]\n",
    "pca_col_name"
   ]
  },
  {
   "cell_type": "code",
   "execution_count": 52,
   "metadata": {},
   "outputs": [],
   "source": [
    "train_X0 = train_df[train_df['RUL'].isin([i for i in range(20)])]\n",
    "train_y0 = pd.DataFrame(np.zeros(len(train_X0)))\n",
    "train_X1 = train_df[train_df['cycle'].isin([i for i in range(20)])]\n",
    "train_y1 = pd.DataFrame(np.ones(len(train_X1)))"
   ]
  },
  {
   "cell_type": "code",
   "execution_count": null,
   "metadata": {},
   "outputs": [],
   "source": []
  },
  {
   "cell_type": "code",
   "execution_count": 53,
   "metadata": {},
   "outputs": [
    {
     "data": {
      "text/html": [
       "<div>\n",
       "<style scoped>\n",
       "    .dataframe tbody tr th:only-of-type {\n",
       "        vertical-align: middle;\n",
       "    }\n",
       "\n",
       "    .dataframe tbody tr th {\n",
       "        vertical-align: top;\n",
       "    }\n",
       "\n",
       "    .dataframe thead th {\n",
       "        text-align: right;\n",
       "    }\n",
       "</style>\n",
       "<table border=\"1\" class=\"dataframe\">\n",
       "  <thead>\n",
       "    <tr style=\"text-align: right;\">\n",
       "      <th></th>\n",
       "      <th>p0</th>\n",
       "      <th>p1</th>\n",
       "      <th>p2</th>\n",
       "      <th>p3</th>\n",
       "      <th>p4</th>\n",
       "      <th>id</th>\n",
       "      <th>cycle</th>\n",
       "      <th>RUL</th>\n",
       "    </tr>\n",
       "  </thead>\n",
       "  <tbody>\n",
       "    <tr>\n",
       "      <th>0</th>\n",
       "      <td>-2.144011</td>\n",
       "      <td>0.309055</td>\n",
       "      <td>-0.307179</td>\n",
       "      <td>0.055358</td>\n",
       "      <td>0.117362</td>\n",
       "      <td>1</td>\n",
       "      <td>1</td>\n",
       "      <td>191</td>\n",
       "    </tr>\n",
       "    <tr>\n",
       "      <th>1</th>\n",
       "      <td>-2.174693</td>\n",
       "      <td>0.293490</td>\n",
       "      <td>-0.268525</td>\n",
       "      <td>0.047282</td>\n",
       "      <td>0.112749</td>\n",
       "      <td>1</td>\n",
       "      <td>2</td>\n",
       "      <td>190</td>\n",
       "    </tr>\n",
       "    <tr>\n",
       "      <th>2</th>\n",
       "      <td>-2.226379</td>\n",
       "      <td>0.265906</td>\n",
       "      <td>-0.204225</td>\n",
       "      <td>0.029621</td>\n",
       "      <td>0.100582</td>\n",
       "      <td>1</td>\n",
       "      <td>3</td>\n",
       "      <td>189</td>\n",
       "    </tr>\n",
       "    <tr>\n",
       "      <th>3</th>\n",
       "      <td>-2.283814</td>\n",
       "      <td>0.231632</td>\n",
       "      <td>-0.134717</td>\n",
       "      <td>0.000869</td>\n",
       "      <td>0.077047</td>\n",
       "      <td>1</td>\n",
       "      <td>4</td>\n",
       "      <td>188</td>\n",
       "    </tr>\n",
       "    <tr>\n",
       "      <th>4</th>\n",
       "      <td>-2.332106</td>\n",
       "      <td>0.195148</td>\n",
       "      <td>-0.079453</td>\n",
       "      <td>-0.038310</td>\n",
       "      <td>0.040458</td>\n",
       "      <td>1</td>\n",
       "      <td>5</td>\n",
       "      <td>187</td>\n",
       "    </tr>\n",
       "  </tbody>\n",
       "</table>\n",
       "</div>"
      ],
      "text/plain": [
       "         p0        p1        p2        p3        p4  id  cycle  RUL\n",
       "0 -2.144011  0.309055 -0.307179  0.055358  0.117362   1      1  191\n",
       "1 -2.174693  0.293490 -0.268525  0.047282  0.112749   1      2  190\n",
       "2 -2.226379  0.265906 -0.204225  0.029621  0.100582   1      3  189\n",
       "3 -2.283814  0.231632 -0.134717  0.000869  0.077047   1      4  188\n",
       "4 -2.332106  0.195148 -0.079453 -0.038310  0.040458   1      5  187"
      ]
     },
     "execution_count": 53,
     "metadata": {},
     "output_type": "execute_result"
    }
   ],
   "source": [
    "train_df_pca = pd.DataFrame(train_pca,columns=pca_col_name)\n",
    "train_df_pca['id'] = train_df['id']\n",
    "train_df_pca['cycle'] = train_df['cycle']\n",
    "train_df_pca['RUL'] = train_df['RUL']\n",
    "train_df_pca.head()"
   ]
  },
  {
   "cell_type": "code",
   "execution_count": 54,
   "metadata": {},
   "outputs": [
    {
     "data": {
      "text/html": [
       "<div>\n",
       "<style scoped>\n",
       "    .dataframe tbody tr th:only-of-type {\n",
       "        vertical-align: middle;\n",
       "    }\n",
       "\n",
       "    .dataframe tbody tr th {\n",
       "        vertical-align: top;\n",
       "    }\n",
       "\n",
       "    .dataframe thead th {\n",
       "        text-align: right;\n",
       "    }\n",
       "</style>\n",
       "<table border=\"1\" class=\"dataframe\">\n",
       "  <thead>\n",
       "    <tr style=\"text-align: right;\">\n",
       "      <th></th>\n",
       "      <th>p0</th>\n",
       "      <th>p1</th>\n",
       "      <th>p2</th>\n",
       "      <th>p3</th>\n",
       "      <th>p4</th>\n",
       "      <th>id</th>\n",
       "      <th>cycle</th>\n",
       "      <th>RUL</th>\n",
       "    </tr>\n",
       "  </thead>\n",
       "  <tbody>\n",
       "    <tr>\n",
       "      <th>0</th>\n",
       "      <td>-2.125316</td>\n",
       "      <td>-0.091468</td>\n",
       "      <td>0.205052</td>\n",
       "      <td>-0.191928</td>\n",
       "      <td>0.000951</td>\n",
       "      <td>1</td>\n",
       "      <td>1</td>\n",
       "      <td>142</td>\n",
       "    </tr>\n",
       "    <tr>\n",
       "      <th>1</th>\n",
       "      <td>-2.130930</td>\n",
       "      <td>-0.110868</td>\n",
       "      <td>0.187886</td>\n",
       "      <td>-0.172364</td>\n",
       "      <td>0.012106</td>\n",
       "      <td>1</td>\n",
       "      <td>2</td>\n",
       "      <td>141</td>\n",
       "    </tr>\n",
       "    <tr>\n",
       "      <th>2</th>\n",
       "      <td>-2.142925</td>\n",
       "      <td>-0.144016</td>\n",
       "      <td>0.155755</td>\n",
       "      <td>-0.136549</td>\n",
       "      <td>0.031909</td>\n",
       "      <td>1</td>\n",
       "      <td>3</td>\n",
       "      <td>140</td>\n",
       "    </tr>\n",
       "    <tr>\n",
       "      <th>3</th>\n",
       "      <td>-2.161881</td>\n",
       "      <td>-0.180913</td>\n",
       "      <td>0.112172</td>\n",
       "      <td>-0.090181</td>\n",
       "      <td>0.056846</td>\n",
       "      <td>1</td>\n",
       "      <td>4</td>\n",
       "      <td>139</td>\n",
       "    </tr>\n",
       "    <tr>\n",
       "      <th>4</th>\n",
       "      <td>-2.187162</td>\n",
       "      <td>-0.209897</td>\n",
       "      <td>0.061124</td>\n",
       "      <td>-0.039980</td>\n",
       "      <td>0.084131</td>\n",
       "      <td>1</td>\n",
       "      <td>5</td>\n",
       "      <td>138</td>\n",
       "    </tr>\n",
       "  </tbody>\n",
       "</table>\n",
       "</div>"
      ],
      "text/plain": [
       "         p0        p1        p2        p3        p4  id  cycle  RUL\n",
       "0 -2.125316 -0.091468  0.205052 -0.191928  0.000951   1      1  142\n",
       "1 -2.130930 -0.110868  0.187886 -0.172364  0.012106   1      2  141\n",
       "2 -2.142925 -0.144016  0.155755 -0.136549  0.031909   1      3  140\n",
       "3 -2.161881 -0.180913  0.112172 -0.090181  0.056846   1      4  139\n",
       "4 -2.187162 -0.209897  0.061124 -0.039980  0.084131   1      5  138"
      ]
     },
     "execution_count": 54,
     "metadata": {},
     "output_type": "execute_result"
    }
   ],
   "source": [
    "test_df_pca = pd.DataFrame(test_pca,columns=pca_col_name)\n",
    "test_df_pca['id'] = test_df['id']\n",
    "test_df_pca['cycle'] = test_df['cycle']\n",
    "test_df_pca['RUL'] = test_df['RUL']\n",
    "test_df_pca.head()"
   ]
  },
  {
   "cell_type": "code",
   "execution_count": 55,
   "metadata": {},
   "outputs": [],
   "source": [
    "train_X0 = train_df_pca[train_df_pca['RUL'].isin([i for i in range(20)])]\n",
    "train_y0 = pd.DataFrame(np.zeros(len(train_X0)))"
   ]
  },
  {
   "cell_type": "code",
   "execution_count": 56,
   "metadata": {},
   "outputs": [],
   "source": [
    "train_X1 = train_df_pca[train_df_pca['cycle'].isin([i for i in range(20)])]\n",
    "train_y1 = pd.DataFrame(np.ones(len(train_X1)))"
   ]
  },
  {
   "cell_type": "code",
   "execution_count": 57,
   "metadata": {},
   "outputs": [],
   "source": [
    "train_X = pd.concat([train_X1, train_X0])\n",
    "train_y = pd.concat([train_y1, train_y0])"
   ]
  },
  {
   "cell_type": "code",
   "execution_count": 58,
   "metadata": {},
   "outputs": [
    {
     "data": {
      "text/plain": [
       "LinearRegression(copy_X=True, fit_intercept=True, n_jobs=None, normalize=False)"
      ]
     },
     "execution_count": 58,
     "metadata": {},
     "output_type": "execute_result"
    }
   ],
   "source": [
    "from sklearn import linear_model\n",
    "lr = linear_model.LinearRegression(fit_intercept=True)\n",
    "lr.fit(train_X[pca_col_name],train_y)"
   ]
  },
  {
   "cell_type": "code",
   "execution_count": 59,
   "metadata": {},
   "outputs": [
    {
     "data": {
      "text/plain": [
       "array([[-0.14124888, -0.14547917,  0.02598995, -0.11748911, -0.03792797]])"
      ]
     },
     "execution_count": 59,
     "metadata": {},
     "output_type": "execute_result"
    }
   ],
   "source": [
    "lr.coef_"
   ]
  },
  {
   "cell_type": "code",
   "execution_count": 60,
   "metadata": {},
   "outputs": [
    {
     "data": {
      "text/plain": [
       "array([0.69961119])"
      ]
     },
     "execution_count": 60,
     "metadata": {},
     "output_type": "execute_result"
    }
   ],
   "source": [
    "lr.intercept_"
   ]
  },
  {
   "cell_type": "code",
   "execution_count": 61,
   "metadata": {},
   "outputs": [],
   "source": [
    "train_lr_hi = pd.DataFrame(lr.predict(train_df_pca[pca_col_name]),columns=['HI'])"
   ]
  },
  {
   "cell_type": "code",
   "execution_count": 62,
   "metadata": {},
   "outputs": [],
   "source": [
    "train_df_lr = pd.concat([train_df_pca,train_lr_hi],axis=1)"
   ]
  },
  {
   "cell_type": "code",
   "execution_count": 63,
   "metadata": {},
   "outputs": [
    {
     "data": {
      "text/plain": [
       "[<matplotlib.lines.Line2D at 0x23748887550>]"
      ]
     },
     "execution_count": 63,
     "metadata": {},
     "output_type": "execute_result"
    },
    {
     "data": {
      "image/png": "[encoded data removed]",
      "text/plain": [
       "<Figure size 432x288 with 1 Axes>"
      ]
     },
     "metadata": {
      "needs_background": "light"
     },
     "output_type": "display_data"
    }
   ],
   "source": [
    "plt.plot(train_lr_hi[:192])"
   ]
  },
  {
   "cell_type": "code",
   "execution_count": 64,
   "metadata": {},
   "outputs": [],
   "source": [
    "train_group = train_df_lr.groupby('id')"
   ]
  },
  {
   "cell_type": "code",
   "execution_count": 68,
   "metadata": {},
   "outputs": [],
   "source": [
    "def calMon(ts):\n",
    "    cnt_pos = 0\n",
    "    cnt_neg = 0\n",
    "    for i in range(1,len(ts)):\n",
    "        if ts[i] > ts[i-1]:\n",
    "            cnt_pos = cnt_pos + 1\n",
    "        else:\n",
    "            cnt_neg = cnt_neg + 1\n",
    "    print(cnt_pos, cnt_neg)\n",
    "    return (cnt_pos-cnt_neg)/(len(ts)-1)"
   ]
  },
  {
   "cell_type": "code",
   "execution_count": null,
   "metadata": {},
   "outputs": [],
   "source": []
  },
  {
   "cell_type": "code",
   "execution_count": 70,
   "metadata": {},
   "outputs": [
    {
     "name": "stdout",
     "output_type": "stream",
     "text": [
      "57 131\n"
     ]
    },
    {
     "data": {
      "text/plain": [
       "-0.39361702127659576"
      ]
     },
     "execution_count": 70,
     "metadata": {},
     "output_type": "execute_result"
    }
   ],
   "source": [
    "calMon(np.array(train_group.get_group(4)['HI']))"
   ]
  },
  {
   "cell_type": "code",
   "execution_count": 71,
   "metadata": {},
   "outputs": [
    {
     "data": {
      "text/plain": [
       "[<matplotlib.lines.Line2D at 0x237488e5b70>]"
      ]
     },
     "execution_count": 71,
     "metadata": {},
     "output_type": "execute_result"
    },
    {
     "data": {
      "image/png": "[encoded data removed]",
      "text/plain": [
       "<Figure size 432x288 with 1 Axes>"
      ]
     },
     "metadata": {
      "needs_background": "light"
     },
     "output_type": "display_data"
    }
   ],
   "source": [
    "plt.plot(train_group.get_group(1)['HI'])"
   ]
  },
  {
   "cell_type": "code",
   "execution_count": null,
   "metadata": {},
   "outputs": [],
   "source": []
  },
  {
   "cell_type": "code",
   "execution_count": 77,
   "metadata": {},
   "outputs": [
    {
     "data": {
      "text/plain": [
       "[<matplotlib.lines.Line2D at 0x1fd39d5a400>]"
      ]
     },
     "execution_count": 77,
     "metadata": {},
     "output_type": "execute_result"
    },
    {
     "data": {
      "image/png": "[encoded data removed]",
      "text/plain": [
       "<Figure size 432x288 with 1 Axes>"
      ]
     },
     "metadata": {
      "needs_background": "light"
     },
     "output_type": "display_data"
    }
   ],
   "source": [
    "plt.plot(train_lr_hi[:192])"
   ]
  },
  {
   "cell_type": "code",
   "execution_count": 17,
   "metadata": {},
   "outputs": [
    {
     "data": {
      "text/plain": [
       "array([0.77708822, 0.05908844, 0.04874063])"
      ]
     },
     "execution_count": 17,
     "metadata": {},
     "output_type": "execute_result"
    }
   ],
   "source": [
    "pca.explained_variance_ratio_[:3]"
   ]
  },
  {
   "cell_type": "code",
   "execution_count": 23,
   "metadata": {},
   "outputs": [
    {
     "data": {
      "image/png": "[encoded data removed]",
      "text/plain": [
       "<Figure size 432x288 with 1 Axes>"
      ]
     },
     "metadata": {
      "needs_background": "light"
     },
     "output_type": "display_data"
    }
   ],
   "source": [
    "for j in [2,9]:#range(1,10):\n",
    "    plt.plot(train_df_pca.groupby('id').get_group(j).reset_index(drop=True)['p1'])\n",
    "#plt.legend([str(i) for i in range(1,10)])\n",
    "plt.show()"
   ]
  },
  {
   "cell_type": "code",
   "execution_count": 24,
   "metadata": {
    "scrolled": true
   },
   "outputs": [
    {
     "name": "stderr",
     "output_type": "stream",
     "text": [
      "D:\\Env\\Anaconda3\\lib\\site-packages\\ipykernel_launcher.py:3: MatplotlibDeprecationWarning: Adding an axes using the same arguments as a previous axes currently reuses the earlier instance.  In a future version, a new instance will always be created and returned.  Meanwhile, this warning can be suppressed, and the future behavior ensured, by passing a unique label to each axes instance.\n",
      "  This is separate from the ipykernel package so we can avoid doing imports until\n"
     ]
    },
    {
     "data": {
      "image/png": "[encoded data removed]",
      "text/plain": [
       "<Figure size 432x288 with 3 Axes>"
      ]
     },
     "metadata": {
      "needs_background": "light"
     },
     "output_type": "display_data"
    }
   ],
   "source": [
    "for j in range(1,10):\n",
    "    for i in range(3):\n",
    "        plt.subplot(2,2,i+1)\n",
    "        plt.plot(test_df_pca.groupby('id').get_group(j).reset_index(drop=True)['p'+str(i+1)])\n",
    "plt.show()"
   ]
  },
  {
   "cell_type": "code",
   "execution_count": 25,
   "metadata": {},
   "outputs": [],
   "source": [
    "train_group = train_df_pca.groupby('id')\n",
    "test_group = test_df_pca.groupby('id')"
   ]
  },
  {
   "cell_type": "code",
   "execution_count": 26,
   "metadata": {},
   "outputs": [
    {
     "data": {
      "text/plain": [
       "Index(['RUL', 'cycle', 'id', 'p1'], dtype='object')"
      ]
     },
     "execution_count": 26,
     "metadata": {},
     "output_type": "execute_result"
    }
   ],
   "source": [
    "pca_remain_col = train_df_pca.columns.difference(['p2','p3'])\n",
    "pca_remain_col"
   ]
  },
  {
   "cell_type": "markdown",
   "metadata": {},
   "source": [
    "### 6 Save HI"
   ]
  },
  {
   "cell_type": "code",
   "execution_count": 27,
   "metadata": {},
   "outputs": [],
   "source": [
    "processed_data_file = '1_processed_data'\n",
    "if os.path.exists(processed_data_file)==False:\n",
    "    os.makedirs(processed_data_file)"
   ]
  },
  {
   "cell_type": "code",
   "execution_count": 28,
   "metadata": {},
   "outputs": [],
   "source": [
    "train_df_pca.to_csv(processed_data_file+'/train_PCA_data.csv',index=False,header=True)"
   ]
  },
  {
   "cell_type": "code",
   "execution_count": 29,
   "metadata": {},
   "outputs": [],
   "source": [
    "test_df_pca.to_csv(processed_data_file+'/test_PCA_data.csv',index=False,header=True)"
   ]
  },
  {
   "cell_type": "code",
   "execution_count": null,
   "metadata": {},
   "outputs": [],
   "source": []
  }
 ],
 "metadata": {
  "kernelspec": {
   "display_name": "Python 3",
   "language": "python",
   "name": "python3"
  },
  "language_info": {
   "codemirror_mode": {
    "name": "ipython",
    "version": 3
   },
   "file_extension": ".py",
   "mimetype": "text/x-python",
   "name": "python",
   "nbconvert_exporter": "python",
   "pygments_lexer": "ipython3",
   "version": "3.7.3"
  }
 },
 "nbformat": 4,
 "nbformat_minor": 2
}
