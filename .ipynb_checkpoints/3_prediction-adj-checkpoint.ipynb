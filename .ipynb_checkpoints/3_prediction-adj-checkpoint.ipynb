{
 "cells": [
  {
   "cell_type": "markdown",
   "metadata": {},
   "source": [
    "2.计算相似度：\n",
    "\n",
    "1)相似度度量：\n",
    "\n",
    "2)获得相似样本：得到每个历史样本与待测样本最相近的片段，选择最相近的30个历史样本\n",
    "\n",
    "3)RUL估计：加权核密度估计 对最近的历史样本的相似度进行min-max归一化处理作为权重，加权得到样本的RUL"
   ]
  },
  {
   "cell_type": "markdown",
   "metadata": {},
   "source": [
    "## 导入库"
   ]
  },
  {
   "cell_type": "code",
   "execution_count": 1,
   "metadata": {},
   "outputs": [],
   "source": [
    "import pandas as pd\n",
    "import numpy as np\n",
    "import matplotlib.pyplot as plt\n",
    "import os\n",
    "import time\n",
    "import math\n",
    "from sklearn.metrics.pairwise import euclidean_distances,cosine_similarity,paired_distances\n",
    "from sklearn.neighbors import KernelDensity\n",
    "from scipy.stats import gaussian_kde\n",
    "from fastdtw import fastdtw\n",
    "import tslearn.metrics #DTW\n",
    "from scipy.spatial.distance import euclidean,correlation,cosine\n",
    "from scipy.stats import mode\n",
    "from sklearn import preprocessing"
   ]
  },
  {
   "cell_type": "markdown",
   "metadata": {},
   "source": [
    "## 读取数据"
   ]
  },
  {
   "cell_type": "code",
   "execution_count": 2,
   "metadata": {},
   "outputs": [
    {
     "data": {
      "text/plain": [
       "True"
      ]
     },
     "execution_count": 2,
     "metadata": {},
     "output_type": "execute_result"
    }
   ],
   "source": [
    "processed_data_file = '1_processed_data'\n",
    "os.path.exists(processed_data_file)"
   ]
  },
  {
   "cell_type": "code",
   "execution_count": 3,
   "metadata": {},
   "outputs": [],
   "source": [
    "train_df_pca = pd.read_csv(processed_data_file+'/train_PCA_data.csv')\n",
    "test_df_pca = pd.read_csv(processed_data_file+'/test_PCA_data.csv')"
   ]
  },
  {
   "cell_type": "code",
   "execution_count": 4,
   "metadata": {},
   "outputs": [],
   "source": [
    "train_group = train_df_pca.groupby('id')\n",
    "test_group = test_df_pca.groupby('id')"
   ]
  },
  {
   "cell_type": "code",
   "execution_count": 5,
   "metadata": {},
   "outputs": [
    {
     "data": {
      "text/plain": [
       "100"
      ]
     },
     "execution_count": 5,
     "metadata": {},
     "output_type": "execute_result"
    }
   ],
   "source": [
    "n_train_units = len(train_group)\n",
    "n_test_units = len(test_group)\n",
    "n_train_units"
   ]
  },
  {
   "cell_type": "code",
   "execution_count": 6,
   "metadata": {},
   "outputs": [],
   "source": [
    "train_group.get_group(1)\n",
    "selected_ftr_name = ['p1']"
   ]
  },
  {
   "cell_type": "markdown",
   "metadata": {},
   "source": [
    "## 获得相似度"
   ]
  },
  {
   "cell_type": "code",
   "execution_count": 7,
   "metadata": {},
   "outputs": [],
   "source": [
    "#DTW\n",
    "MAX_DIST=99\n",
    "on_win_size = 30\n",
    "on_win_stride = 10\n",
    "his_win_size = on_win_size\n",
    "his_win_stride = 1\n",
    "scale = 1#.5\n",
    "ftr_len = len(selected_ftr_name)"
   ]
  },
  {
   "cell_type": "code",
   "execution_count": 8,
   "metadata": {},
   "outputs": [],
   "source": [
    "res_file = '2_res'\n",
    "filename = res_file+'\\dtw_dist_matrix_'+str(on_win_size)+'_'+str(his_win_size)+'_'+str(on_win_stride)+'.npy'\n",
    "dtw_dist_matrix = np.load(filename)"
   ]
  },
  {
   "cell_type": "code",
   "execution_count": 9,
   "metadata": {},
   "outputs": [
    {
     "data": {
      "text/plain": [
       "'2_res\\\\dtw_dist_matrix_30_30_10.npy'"
      ]
     },
     "execution_count": 9,
     "metadata": {},
     "output_type": "execute_result"
    }
   ],
   "source": [
    "filename"
   ]
  },
  {
   "cell_type": "markdown",
   "metadata": {},
   "source": [
    "## 找到相似的参考样本\n",
    "### coarse search\n",
    "找到每个ref中与test segment最相近的segment"
   ]
  },
  {
   "cell_type": "code",
   "execution_count": 10,
   "metadata": {},
   "outputs": [],
   "source": [
    "MAX_ON_SEGS = 30"
   ]
  },
  {
   "cell_type": "code",
   "execution_count": 11,
   "metadata": {},
   "outputs": [],
   "source": [
    "sim_his_seg_matrix_loc = -1*np.ones((n_test_units,MAX_ON_SEGS,n_train_units))\n",
    "sim_his_seg_matrix_dist = MAX_DIST*np.ones((n_test_units,MAX_ON_SEGS,n_train_units))"
   ]
  },
  {
   "cell_type": "code",
   "execution_count": 12,
   "metadata": {},
   "outputs": [
    {
     "data": {
      "text/plain": [
       "array([ 1,  2, 10,  8,  7,  8, 13, 14,  3, 17,  6, 19, 17,  2,  5,  9, 14,\n",
       "       11, 11, 16, 12,  1, 10, 16,  2,  5, 11, 13, 15, 12, 17, 12,  2, 18,\n",
       "       17, 10, 10, 10,  1, 11, 10, 13, 15,  3, 13, 12,  5,  5, 28,  5, 12,\n",
       "       16, 14, 10,  9, 11, 13, 15,  7, 12, 13, 21, 13, 14,  5, 12,  5, 16,\n",
       "        3, 13,  4, 11,  9, 11,  6, 18, 14,  5,  8, 11, 19, 14,  5, 15,  1,\n",
       "        8,  3,  4, 15, 12, 21, 12, 22, 11,  6,  7, 11, 10,  7, 17])"
      ]
     },
     "execution_count": 12,
     "metadata": {},
     "output_type": "execute_result"
    }
   ],
   "source": [
    "N_on_segs = np.zeros(n_test_units,dtype = int)\n",
    "for on_id in range(n_test_units):\n",
    "    on_unit = test_group.get_group(on_id+1).reset_index(drop=True)\n",
    "    on_len = len(on_unit)\n",
    "    n_segs = len(range(on_len-on_win_size,0,-on_win_stride))#int((on_len - on_win_size)/on_win_stride+1)\n",
    "    N_on_segs[on_id] = int(n_segs)\n",
    "N_on_segs"
   ]
  },
  {
   "cell_type": "markdown",
   "metadata": {},
   "source": [
    "2.K1筛选相似的若干片段"
   ]
  },
  {
   "cell_type": "code",
   "execution_count": 13,
   "metadata": {},
   "outputs": [],
   "source": [
    "K1 = 60\n",
    "delta_w = 2"
   ]
  },
  {
   "cell_type": "markdown",
   "metadata": {},
   "source": [
    "### fine search\n",
    "1. 计算得到最相近segment的DTW距离以及窗口大小"
   ]
  },
  {
   "cell_type": "markdown",
   "metadata": {},
   "source": [
    "调节窗口大小，得到最相似的窗口"
   ]
  },
  {
   "cell_type": "markdown",
   "metadata": {},
   "source": [
    "### 直接加载结果文件"
   ]
  },
  {
   "cell_type": "code",
   "execution_count": 14,
   "metadata": {},
   "outputs": [],
   "source": [
    "res_file = '2_res'\n",
    "#lb_dist_matrix = np.load(res_file + 'res_lb_dist_matrix.npy')\n",
    "sim_seg_dtw_dist = np.load(res_file +'/K1_'+str(K1)+ '/dw_'+str(delta_w)+ '/sim_seg_dtw_dist_'+str(on_win_size)+'_'+str(his_win_size)+'_'+str(on_win_stride)+'.npy')\n",
    "sim_seg_dtw_degree = np.load(res_file +'/K1_'+str(K1)+ '/dw_'+str(delta_w)+ '/sim_seg_dtw_degree_'+str(on_win_size)+'_'+str(his_win_size)+'_'+str(on_win_stride)+'.npy')\n",
    "sim_seg_dtw_win_size = np.load(res_file +'/K1_'+str(K1)+ '/dw_'+str(delta_w)+ '/sim_seg_dtw_win_size_'+str(on_win_size)+'_'+str(his_win_size)+'_'+str(on_win_stride)+'.npy')\n",
    "sim_seg_dtw_rul = np.load(res_file +'/K1_'+str(K1)+ '/dw_'+str(delta_w)+'/sim_seg_dtw_rul_'+str(on_win_size)+'_'+str(his_win_size)+'_'+str(on_win_stride)+'.npy')"
   ]
  },
  {
   "cell_type": "markdown",
   "metadata": {},
   "source": [
    "2. 筛选K2个参考样本"
   ]
  },
  {
   "cell_type": "code",
   "execution_count": 15,
   "metadata": {},
   "outputs": [],
   "source": [
    "K2 = int(n_train_units *0.45)"
   ]
  },
  {
   "cell_type": "code",
   "execution_count": 16,
   "metadata": {},
   "outputs": [],
   "source": [
    "K2_seg_matrix_degree = np.ones((n_test_units,MAX_ON_SEGS,K2))\n",
    "K2_seg_matrix_win_size = his_win_size*np.ones((n_test_units,MAX_ON_SEGS,K2))\n",
    "K2_seg_matrix_dist = MAX_DIST*np.ones((n_test_units,MAX_ON_SEGS,K2))\n",
    "K2_seg_matrix_rul = np.zeros((n_test_units,MAX_ON_SEGS,K2))"
   ]
  },
  {
   "cell_type": "code",
   "execution_count": 17,
   "metadata": {},
   "outputs": [],
   "source": [
    "for on_id in range(n_test_units):\n",
    "    for ion_seg in range(N_on_segs[on_id]):\n",
    "        tmp_dist = sim_seg_dtw_dist[on_id,ion_seg,:K1]\n",
    "        #print(tmp_dist)\n",
    "        tmp_id = np.argsort(tmp_dist)\n",
    "        #print(sim_his_seg_matrix_id)\n",
    "        tmp_K2_id = tmp_id[:K2]\n",
    "        K2_seg_matrix_degree[on_id, ion_seg] = sim_seg_dtw_degree[on_id,ion_seg,tmp_K2_id]\n",
    "        K2_seg_matrix_win_size[on_id, ion_seg] = sim_seg_dtw_win_size[on_id,ion_seg,tmp_K2_id]\n",
    "        K2_seg_matrix_rul[on_id, ion_seg] = sim_seg_dtw_rul[on_id,ion_seg,tmp_K2_id]\n",
    "        K2_seg_matrix_dist[on_id, ion_seg] = sim_seg_dtw_dist[on_id,ion_seg,tmp_K2_id]"
   ]
  },
  {
   "cell_type": "code",
   "execution_count": 18,
   "metadata": {},
   "outputs": [
    {
     "data": {
      "text/plain": [
       "(100, 30, 45)"
      ]
     },
     "execution_count": 18,
     "metadata": {},
     "output_type": "execute_result"
    }
   ],
   "source": [
    "K2_seg_matrix_dist.shape"
   ]
  },
  {
   "cell_type": "code",
   "execution_count": 19,
   "metadata": {
    "scrolled": true
   },
   "outputs": [
    {
     "data": {
      "text/plain": [
       "array([ 82.,  62.,  78.,  98., 115., 106.,  69.,  44.,  76.,  88.,  51.,\n",
       "        57.,  49.,  44.,  57.,  72.,  50.,  67.,  39., 100.,  72.,  63.,\n",
       "        59.,  43.,  92.,  42.,  68.,  70.,  51.,  77.,  54.,  53.,  86.,\n",
       "        78.,  52.,  72., 110.,  59.,  39., 115., 106.,  89.,  84.,  48.,\n",
       "        47.,  32.,  40.,  37.,  39.,  43.,  44.,  94.,  45.,  38.,  39.,\n",
       "        44.,  33.,  34.,  36.,  34.])"
      ]
     },
     "execution_count": 19,
     "metadata": {},
     "output_type": "execute_result"
    }
   ],
   "source": [
    "sim_seg_dtw_rul[2,1]"
   ]
  },
  {
   "cell_type": "markdown",
   "metadata": {},
   "source": [
    "## RUL 调整"
   ]
  },
  {
   "cell_type": "markdown",
   "metadata": {},
   "source": [
    "#### 1.设置scale函数"
   ]
  },
  {
   "cell_type": "code",
   "execution_count": 20,
   "metadata": {},
   "outputs": [],
   "source": [
    "'''\n",
    "def my_sigmoid(x):\n",
    "    return 1/(1+np.exp(-x))*0.4+0.8#*0.2+0.9#\n",
    "'''\n",
    "\n",
    "a=0.3\n",
    "b=0.2\n",
    "\n",
    "def my_sigmoid(x):\n",
    "    res = np.zeros(len(x))\n",
    "    for i in range(len(x)):\n",
    "        if x[i]<0:\n",
    "            res[i] = -x[i]/np.sqrt(1+x[i]**2)*a+1\n",
    "        else:\n",
    "            res[i] = -x[i]/np.sqrt(1+x[i]**2)*b+1\n",
    "    return res\n",
    "\n",
    "def my_sigmoid(x):\n",
    "    res = np.zeros(len(x))\n",
    "    for i in range(len(x)):\n",
    "        if x[i]<0:\n",
    "            res[i] = -x[i]/(1+np.abs(x[i]))*a+1\n",
    "        else:\n",
    "            res[i] = -x[i]/(1+np.abs(x[i]))*b+1\n",
    "    return res\n",
    "\n",
    "a = 1\n",
    "b = a\n",
    "def my_sigmoid(x):\n",
    "    res = np.zeros(len(x))\n",
    "    for i in range(len(x)):\n",
    "        if x[i]<0:\n",
    "            res[i] = -np.tanh(x[i])*a+1\n",
    "        else:\n",
    "            res[i] = -np.tanh(x[i])*b+1\n",
    "    return res\n",
    "'''''''''\n",
    "'''\n",
    "a = 1.8\n",
    "b = 1\n",
    "at = 1\n",
    "def my_sigmoid(x):\n",
    "    res = np.zeros(len(x))\n",
    "    for i in range(len(x)):\n",
    "        if x[i]<0:\n",
    "            res[i] = -(1/(1+math.e**(-x[i]/at))-0.5)*a+1\n",
    "        else:\n",
    "            res[i] = -(1/(1+math.e**(-x[i]/at))-0.5)*b+1\n",
    "    return res\n",
    "\n"
   ]
  },
  {
   "cell_type": "code",
   "execution_count": 21,
   "metadata": {},
   "outputs": [
    {
     "data": {
      "text/plain": [
       "array([0.5])"
      ]
     },
     "execution_count": 21,
     "metadata": {},
     "output_type": "execute_result"
    }
   ],
   "source": [
    "my_sigmoid([2000])"
   ]
  },
  {
   "cell_type": "code",
   "execution_count": 22,
   "metadata": {},
   "outputs": [
    {
     "data": {
      "text/plain": [
       "array([1, 2])"
      ]
     },
     "execution_count": 22,
     "metadata": {},
     "output_type": "execute_result"
    }
   ],
   "source": [
    "np.array((1,2))"
   ]
  },
  {
   "cell_type": "code",
   "execution_count": 23,
   "metadata": {
    "scrolled": true
   },
   "outputs": [
    {
     "data": {
      "text/plain": [
       "[<matplotlib.lines.Line2D at 0x2761e2c1550>]"
      ]
     },
     "execution_count": 23,
     "metadata": {},
     "output_type": "execute_result"
    },
    {
     "data": {
      "image/png": "[encoded data removed]",
      "text/plain": [
       "<Figure size 432x288 with 1 Axes>"
      ]
     },
     "metadata": {
      "needs_background": "light"
     },
     "output_type": "display_data"
    }
   ],
   "source": [
    "xs = np.arange(-10,10,0.1)\n",
    "ys = my_sigmoid(xs)\n",
    "plt.plot(xs,ys)"
   ]
  },
  {
   "cell_type": "markdown",
   "metadata": {},
   "source": [
    "#### 2.调整得到test设备当前时刻的RUL"
   ]
  },
  {
   "cell_type": "code",
   "execution_count": 24,
   "metadata": {},
   "outputs": [],
   "source": [
    "sim_adj_rul = np.zeros((n_test_units,MAX_ON_SEGS,K2))"
   ]
  },
  {
   "cell_type": "code",
   "execution_count": 25,
   "metadata": {},
   "outputs": [],
   "source": [
    "test_cur = test_group.size()\n",
    "#print(test_cur)"
   ]
  },
  {
   "cell_type": "code",
   "execution_count": 26,
   "metadata": {},
   "outputs": [
    {
     "data": {
      "text/plain": [
       "31"
      ]
     },
     "execution_count": 26,
     "metadata": {},
     "output_type": "execute_result"
    }
   ],
   "source": [
    "test_cur[1]"
   ]
  },
  {
   "cell_type": "code",
   "execution_count": 27,
   "metadata": {
    "scrolled": true
   },
   "outputs": [
    {
     "name": "stdout",
     "output_type": "stream",
     "text": [
      "on_id: 0 time: 0.0009965896606445312\n",
      "on_id: 1 time: 0.0015316009521484375\n",
      "on_id: 2 time: 0.008514404296875\n",
      "on_id: 3 time: 0.008006572723388672\n",
      "on_id: 4 time: 0.0059909820556640625\n",
      "on_id: 5 time: 0.00797128677368164\n",
      "on_id: 6 time: 0.010942459106445312\n",
      "on_id: 7 time: 0.0109405517578125\n",
      "on_id: 8 time: 0.0019948482513427734\n",
      "on_id: 9 time: 0.01399087905883789\n",
      "on_id: 10 time: 0.003962278366088867\n",
      "on_id: 11 time: 0.015985727310180664\n",
      "on_id: 12 time: 0.013968706130981445\n",
      "on_id: 13 time: 0.0009903907775878906\n",
      "on_id: 14 time: 0.004986286163330078\n",
      "on_id: 15 time: 0.0069544315338134766\n",
      "on_id: 16 time: 0.011966466903686523\n",
      "on_id: 17 time: 0.009006738662719727\n",
      "on_id: 18 time: 0.008005857467651367\n",
      "on_id: 19 time: 0.012965679168701172\n",
      "on_id: 20 time: 0.008975744247436523\n",
      "on_id: 21 time: 0.0009691715240478516\n",
      "on_id: 22 time: 0.00801229476928711\n",
      "on_id: 23 time: 0.012931108474731445\n",
      "on_id: 24 time: 0.001994609832763672\n",
      "on_id: 25 time: 0.003989219665527344\n",
      "on_id: 26 time: 0.008013486862182617\n",
      "on_id: 27 time: 0.01193857192993164\n",
      "on_id: 28 time: 0.011997699737548828\n",
      "on_id: 29 time: 0.009969949722290039\n",
      "on_id: 30 time: 0.015116691589355469\n",
      "on_id: 31 time: 0.009977102279663086\n",
      "on_id: 32 time: 0.0010166168212890625\n",
      "on_id: 33 time: 0.014960050582885742\n",
      "on_id: 34 time: 0.013960123062133789\n",
      "on_id: 35 time: 0.007986307144165039\n",
      "on_id: 36 time: 0.00897359848022461\n",
      "on_id: 37 time: 0.007978677749633789\n",
      "on_id: 38 time: 0.0009627342224121094\n",
      "on_id: 39 time: 0.009007692337036133\n",
      "on_id: 40 time: 0.008976459503173828\n",
      "on_id: 41 time: 0.01096963882446289\n",
      "on_id: 42 time: 0.011936426162719727\n",
      "on_id: 43 time: 0.0030324459075927734\n",
      "on_id: 44 time: 0.009932994842529297\n",
      "on_id: 45 time: 0.010005950927734375\n",
      "on_id: 46 time: 0.0029964447021484375\n",
      "on_id: 47 time: 0.003983736038208008\n",
      "on_id: 48 time: 0.022905588150024414\n",
      "on_id: 49 time: 0.003989219665527344\n",
      "on_id: 50 time: 0.012965202331542969\n",
      "on_id: 51 time: 0.013996362686157227\n",
      "on_id: 52 time: 0.01207876205444336\n",
      "on_id: 53 time: 0.007978677749633789\n",
      "on_id: 54 time: 0.008006572723388672\n",
      "on_id: 55 time: 0.009975194931030273\n",
      "on_id: 56 time: 0.009972810745239258\n",
      "on_id: 57 time: 0.01296544075012207\n",
      "on_id: 58 time: 0.004985332489013672\n",
      "on_id: 59 time: 0.009944677352905273\n",
      "on_id: 60 time: 0.01001596450805664\n",
      "on_id: 61 time: 0.016911745071411133\n",
      "on_id: 62 time: 0.010003805160522461\n",
      "on_id: 63 time: 0.01293492317199707\n",
      "on_id: 64 time: 0.003019571304321289\n",
      "on_id: 65 time: 0.010973215103149414\n",
      "on_id: 66 time: 0.002961874008178711\n",
      "on_id: 67 time: 0.013994455337524414\n",
      "on_id: 68 time: 0.0029861927032470703\n",
      "on_id: 69 time: 0.010976791381835938\n",
      "on_id: 70 time: 0.0029876232147216797\n",
      "on_id: 71 time: 0.00997781753540039\n",
      "on_id: 72 time: 0.006983041763305664\n",
      "on_id: 73 time: 0.008980751037597656\n",
      "on_id: 74 time: 0.0049800872802734375\n",
      "on_id: 75 time: 0.01495981216430664\n",
      "on_id: 76 time: 0.0109710693359375\n",
      "on_id: 77 time: 0.003988504409790039\n",
      "on_id: 78 time: 0.005988121032714844\n",
      "on_id: 79 time: 0.007978200912475586\n",
      "on_id: 80 time: 0.01595616340637207\n",
      "on_id: 81 time: 0.011976957321166992\n",
      "on_id: 82 time: 0.0039827823638916016\n",
      "on_id: 83 time: 0.011968851089477539\n",
      "on_id: 84 time: 0.0009963512420654297\n",
      "on_id: 85 time: 0.005983591079711914\n",
      "on_id: 86 time: 0.0029914379119873047\n",
      "on_id: 87 time: 0.002992391586303711\n",
      "on_id: 88 time: 0.011969566345214844\n",
      "on_id: 89 time: 0.008970260620117188\n",
      "on_id: 90 time: 0.019917726516723633\n",
      "on_id: 91 time: 0.010971784591674805\n",
      "on_id: 92 time: 0.01897740364074707\n",
      "on_id: 93 time: 0.00798177719116211\n",
      "on_id: 94 time: 0.004983425140380859\n",
      "on_id: 95 time: 0.00499272346496582\n",
      "on_id: 96 time: 0.00897359848022461\n",
      "on_id: 97 time: 0.008977413177490234\n",
      "on_id: 98 time: 0.00498509407043457\n",
      "on_id: 99 time: 0.013966798782348633\n",
      "tot_time: 0.883023738861084\n",
      "max: 882.0224613728781\n",
      "min: -5272.6768768085085\n"
     ]
    }
   ],
   "source": [
    "max_degree = 0\n",
    "min_degree = 0\n",
    "cnt_degree = 0\n",
    "MIN_LIFE = 130\n",
    "MAX_RUL=130\n",
    "t_st_adj = time.time()\n",
    "for on_id in range(n_test_units):\n",
    "    t0 = time.time()\n",
    "    n_segs = N_on_segs[on_id]\n",
    "    if on_len<on_win_size:\n",
    "        continue\n",
    "    #print(on_len)\n",
    "    #print(n_segs)\n",
    "    for ion_seg in range(n_segs): \n",
    "        t1 = time.time()\n",
    "        for idx,degree in enumerate(K2_seg_matrix_degree[on_id,ion_seg]):\n",
    "            max_degree = max(degree,max_degree)\n",
    "            min_degree = min(degree,min_degree)\n",
    "            #print('---',degree)\n",
    "            #print(degree)\n",
    "            #print(my_sigmoid([degree]))\n",
    "            #print(on_id,ion_seg,his_id)\n",
    "            # 不考虑RUL调整\n",
    "            #sim_adj_rul[on_id,ion_seg,his_id] = max(0,sim_seg_dtw_rul[on_id,ion_seg,his_id]-(n_segs-ion_seg-1)*win_stride)\n",
    "            #考虑RUL调整\n",
    "            '''\n",
    "            if degree> 1:\n",
    "                sim_adj_rul[on_id,ion_seg,his_id] = max(0,my_sigmoid([degree-1])*sim_seg_dtw_rul[on_id,ion_seg,his_id]-ion_seg*on_win_stride)\n",
    "                #sim_adj_rul[on_id,ion_seg,his_id] = min(130,max(0,degree*sim_seg_dtw_rul[on_id,ion_seg,his_id]-(n_segs-ion_seg-1)*on_win_stride))\n",
    "            elif degree>0 and degree<1:\n",
    "                sim_adj_rul[on_id,ion_seg,his_id] = max(0,my_sigmoid([degree-1])*sim_seg_dtw_rul[on_id,ion_seg,his_id]-ion_seg*on_win_stride)\n",
    "                #sim_adj_rul[on_id,ion_seg,his_id] = max(0,my_sigmoid([1-1/degree])*sim_seg_dtw_rul[on_id,ion_seg,his_id]-(n_segs-ion_seg-1)*on_win_stride)\n",
    "                \n",
    "            else:\n",
    "                sim_adj_rul[on_id,ion_seg,his_id]= max(0,sim_seg_dtw_rul[on_id,ion_seg,his_id]-ion_seg*on_win_stride)\n",
    "            '''\n",
    "            #degree = np.abs(degree)\n",
    "            if degree> 1:#\n",
    "                #sim_adj_rul[on_id,ion_seg,his_id] = max(0,my_sigmoid([degree-1])*sim_seg_dtw_rul[on_id,ion_seg,his_id]-ion_seg*on_win_stride)\n",
    "                sim_adj_rul[on_id,ion_seg,idx] = min(MAX_RUL,max(MIN_LIFE-test_cur[on_id+1],my_sigmoid([degree-1])*K2_seg_matrix_rul[on_id,ion_seg,idx]-ion_seg*on_win_stride))\n",
    "                #sim_adj_rul[on_id,ion_seg,his_id] = min(130,max(0,degree*sim_seg_dtw_rul[on_id,ion_seg,his_id]-(n_segs-ion_seg-1)*on_win_stride))\n",
    "            elif degree>0 and degree<1:\n",
    "                #sim_adj_rul[on_id,ion_seg,his_id] = max(0,my_sigmoid([degree-1])*sim_seg_dtw_rul[on_id,ion_seg,his_id]-ion_seg*on_win_stride)\n",
    "                sim_adj_rul[on_id,ion_seg,idx] = min(MAX_RUL,max(MIN_LIFE-test_cur[on_id+1],my_sigmoid([degree-1])*K2_seg_matrix_rul[on_id,ion_seg,idx]-ion_seg*on_win_stride))\n",
    "                #sim_adj_rul[on_id,ion_seg,idx] = min(MAX_RUL,my_sigmoid([degree-1])*K2_seg_matrix_rul[on_id,ion_seg,idx]-ion_seg*on_win_stride)\n",
    "                #sim_adj_rul[on_id,ion_seg,his_id] = max(0,my_sigmoid([1-1/degree])*sim_seg_dtw_rul[on_id,ion_seg,his_id]-(n_segs-ion_seg-1)*on_win_stride)\n",
    "            else:\n",
    "                cnt_degree += 1\n",
    "                sim_adj_rul[on_id,ion_seg,idx]= min(MAX_RUL,max(MIN_LIFE-test_cur[on_id+1],K2_seg_matrix_rul[on_id,ion_seg,idx]-ion_seg*on_win_stride))\n",
    "                #sim_adj_rul[on_id,ion_seg,idx]= min(MAX_RUL,K2_seg_matrix_rul[on_id,ion_seg,idx]-ion_seg*on_win_stride)\n",
    "            \n",
    "            #sim_adj_rul[on_id,ion_seg,his_id] = max(0,my_sigmoid([1-degree])*sim_seg_dtw_rul[on_id,ion_seg,his_id]-(n_segs-ion_seg-1)*on_win_stride)\n",
    "        t2 = time.time()\n",
    "        #print('on_id:',on_id,'ion_seg',ion_seg,\"time:\",t2-t1)\n",
    "        #print(sim_adj_rul[on_id,ion_seg])\n",
    "    t3 = time.time()\n",
    "    print(\"on_id:\",on_id,\"time:\",t3-t0)\n",
    "t_end_adj = time.time()\n",
    "print(\"tot_time:\",t_end_adj-t_st_adj)\n",
    "print(\"max:\",max_degree)\n",
    "print(\"min:\",min_degree)"
   ]
  },
  {
   "cell_type": "code",
   "execution_count": 28,
   "metadata": {},
   "outputs": [
    {
     "data": {
      "text/plain": [
       "4947"
      ]
     },
     "execution_count": 28,
     "metadata": {},
     "output_type": "execute_result"
    }
   ],
   "source": [
    "cnt_degree"
   ]
  },
  {
   "cell_type": "code",
   "execution_count": 29,
   "metadata": {},
   "outputs": [
    {
     "data": {
      "text/plain": [
       "array([111., 125., 244.,  77., 133., 113.,  94., 122., 176., 124., 121.,\n",
       "       112., 164.,  88.,  90.,  89., 123., 310., 108., 141., 126., 140.,\n",
       "       325., 123., 102.,  70., 120.,  72.,  75., 107.,  93., 115.,  83.,\n",
       "        78., 111.,  96., 174.,  69.,  84.,  79.,  88.,  74.,  95.,  81.,\n",
       "        85.])"
      ]
     },
     "execution_count": 29,
     "metadata": {},
     "output_type": "execute_result"
    }
   ],
   "source": [
    "K2_seg_matrix_rul[0,0]"
   ]
  },
  {
   "cell_type": "code",
   "execution_count": 30,
   "metadata": {},
   "outputs": [
    {
     "data": {
      "text/plain": [
       "array([130.        , 130.        , 130.        ,  99.        ,\n",
       "       130.        , 130.        , 122.8269926 , 113.78016654,\n",
       "       130.        , 130.        , 130.        , 130.        ,\n",
       "       130.        , 117.59990873, 121.53459846, 116.64148849,\n",
       "       130.        , 130.        , 130.        , 130.        ,\n",
       "       130.        , 130.        , 130.        , 130.        ,\n",
       "       130.        ,  99.        , 130.        ,  99.        ,\n",
       "        99.96707305, 130.        , 127.04398905, 130.        ,\n",
       "       113.09250876, 105.82034824, 130.        , 130.        ,\n",
       "       130.        ,  99.        , 116.29875218, 109.22924635,\n",
       "       122.0317386 , 102.64783839, 110.67249276, 112.55522495,\n",
       "       117.71244172])"
      ]
     },
     "execution_count": 30,
     "metadata": {},
     "output_type": "execute_result"
    }
   ],
   "source": [
    "sim_adj_rul[0,0]"
   ]
  },
  {
   "cell_type": "markdown",
   "metadata": {},
   "source": [
    "## RUL估计\n",
    "### 权重设置"
   ]
  },
  {
   "cell_type": "code",
   "execution_count": 85,
   "metadata": {},
   "outputs": [],
   "source": [
    "test_life = [min(test_group.get_group(i)['RUL']) for i in range(1,n_test_units+1)]"
   ]
  },
  {
   "cell_type": "code",
   "execution_count": 164,
   "metadata": {},
   "outputs": [],
   "source": [
    "K = 30"
   ]
  },
  {
   "cell_type": "code",
   "execution_count": 165,
   "metadata": {},
   "outputs": [
    {
     "name": "stdout",
     "output_type": "stream",
     "text": [
      "0 1\n",
      "on_id: 1 pred: 124.04891869506022  true: 112.0\n",
      "1 2\n",
      "on_id: 2 pred: 113.84180701228658  true: 98.0\n",
      "2 10\n",
      "on_id: 3 pred: 56.106586061806944  true: 69.0\n",
      "3 8\n",
      "on_id: 4 pred: 94.63238758245949  true: 82.0\n",
      "4 7\n",
      "on_id: 5 pred: 98.11038729292794  true: 91.0\n",
      "5 8\n",
      "on_id: 6 pred: 101.05583074352192  true: 93.0\n",
      "6 13\n",
      "on_id: 7 pred: 97.79987933709403  true: 91.0\n",
      "7 14\n",
      "on_id: 8 pred: 72.31767731252671  true: 95.0\n",
      "8 3\n",
      "on_id: 9 pred: 106.37486158169916  true: 111.0\n",
      "9 17\n",
      "on_id: 10 pred: 82.43040682501724  true: 96.0\n",
      "10 6\n",
      "on_id: 11 pred: 92.10567288854037  true: 97.0\n",
      "11 19\n",
      "on_id: 12 pred: 103.65589564541179  true: 124.0\n",
      "12 17\n",
      "on_id: 13 pred: 70.0484911017856  true: 95.0\n",
      "13 2\n",
      "on_id: 14 pred: 101.5615890411894  true: 107.0\n",
      "14 5\n",
      "on_id: 15 pred: 93.23919798718656  true: 83.0\n",
      "15 9\n",
      "on_id: 16 pred: 94.14152872547345  true: 84.0\n",
      "16 14\n",
      "on_id: 17 pred: 57.326008178160365  true: 50.0\n",
      "17 11\n",
      "on_id: 18 pred: 34.34925155562087  true: 28.0\n",
      "18 11\n",
      "on_id: 19 pred: 89.47110548862601  true: 87.0\n",
      "19 16\n",
      "on_id: 20 pred: 13.03890924970865  true: 16.0\n",
      "20 12\n",
      "on_id: 21 pred: 89.52764265450121  true: 57.0\n",
      "21 1\n",
      "on_id: 22 pred: 120.13396338747485  true: 111.0\n",
      "22 10\n",
      "on_id: 23 pred: 117.27060932195734  true: 113.0\n",
      "23 16\n",
      "on_id: 24 pred: 33.028777410556714  true: 20.0\n",
      "24 2\n",
      "on_id: 25 pred: 106.80279405424383  true: 130.0\n",
      "25 5\n",
      "on_id: 26 pred: 111.25518745747489  true: 119.0\n",
      "26 11\n",
      "on_id: 27 pred: 78.61530274322138  true: 66.0\n",
      "27 13\n",
      "on_id: 28 pred: 103.54055721654721  true: 97.0\n",
      "28 15\n",
      "on_id: 29 pred: 106.19374487983153  true: 90.0\n",
      "29 12\n",
      "on_id: 30 pred: 93.24641490938006  true: 115.0\n",
      "30 17\n",
      "on_id: 31 pred: 9.13504017116323  true: 8.0\n",
      "31 12\n",
      "on_id: 32 pred: 60.47200559691404  true: 48.0\n",
      "32 2\n",
      "on_id: 33 pred: 102.93687355832463  true: 106.0\n",
      "33 18\n",
      "on_id: 34 pred: 5.592024191050471  true: 7.0\n",
      "34 17\n",
      "on_id: 35 pred: 12.75733305080732  true: 11.0\n",
      "35 10\n",
      "on_id: 36 pred: 19.27320088411298  true: 19.0\n",
      "36 10\n",
      "on_id: 37 pred: 30.642324343385965  true: 21.0\n",
      "37 10\n",
      "on_id: 38 pred: 60.406779340540645  true: 50.0\n",
      "38 1\n",
      "on_id: 39 pred: 113.27183182584389  true: 130.0\n",
      "39 11\n",
      "on_id: 40 pred: 36.114267866303656  true: 28.0\n",
      "40 10\n",
      "on_id: 41 pred: 26.120906109090026  true: 18.0\n",
      "41 13\n",
      "on_id: 42 pred: 12.695305505463146  true: 10.0\n",
      "42 15\n",
      "on_id: 43 pred: 59.267156928712666  true: 59.0\n",
      "43 3\n",
      "on_id: 44 pred: 110.0023996486326  true: 109.0\n",
      "44 13\n",
      "on_id: 45 pred: 70.58729454568042  true: 114.0\n",
      "45 12\n",
      "on_id: 46 pred: 48.31509802923109  true: 47.0\n",
      "46 5\n",
      "on_id: 47 pred: 115.18454741502892  true: 130.0\n",
      "47 5\n",
      "on_id: 48 pred: 104.82119524126759  true: 92.0\n",
      "48 28\n",
      "on_id: 49 pred: 17.66818753020788  true: 21.0\n",
      "49 5\n",
      "on_id: 50 pred: 92.2640755322233  true: 79.0\n",
      "50 12\n",
      "on_id: 51 pred: 101.74214541240838  true: 114.0\n",
      "51 16\n",
      "on_id: 52 pred: 42.61750765764157  true: 29.0\n",
      "52 14\n",
      "on_id: 53 pred: 40.52054241559088  true: 26.0\n",
      "53 10\n",
      "on_id: 54 pred: 102.49161443887175  true: 97.0\n",
      "54 9\n",
      "on_id: 55 pred: 108.6226343788586  true: 130.0\n",
      "55 11\n",
      "on_id: 56 pred: 20.031246962619488  true: 15.0\n",
      "56 13\n",
      "on_id: 57 pred: 98.81173544978778  true: 103.0\n",
      "57 15\n",
      "on_id: 58 pred: 39.13176308775844  true: 37.0\n",
      "58 7\n",
      "on_id: 59 pred: 102.98957876818083  true: 114.0\n",
      "59 12\n",
      "on_id: 60 pred: 101.46892624177514  true: 100.0\n",
      "60 13\n",
      "on_id: 61 pred: 22.227618179774815  true: 21.0\n",
      "61 21\n",
      "on_id: 62 pred: 49.836033901585886  true: 54.0\n",
      "62 13\n",
      "on_id: 63 pred: 71.60919622818689  true: 72.0\n",
      "63 14\n",
      "on_id: 64 pred: 25.745488080793095  true: 28.0\n",
      "64 5\n",
      "on_id: 65 pred: 119.73612071123615  true: 128.0\n",
      "65 12\n",
      "on_id: 66 pred: 26.25205016770466  true: 14.0\n",
      "66 5\n",
      "on_id: 67 pred: 94.31833508199777  true: 77.0\n",
      "67 16\n",
      "on_id: 68 pred: 9.456779092671743  true: 8.0\n",
      "68 3\n",
      "on_id: 69 pred: 108.54928090338635  true: 121.0\n",
      "69 13\n",
      "on_id: 70 pred: 88.50982961315984  true: 94.0\n",
      "70 4\n",
      "on_id: 71 pred: 110.7425323491049  true: 118.0\n",
      "71 11\n",
      "on_id: 72 pred: 57.035469664606595  true: 50.0\n",
      "72 9\n",
      "on_id: 73 pred: 109.28063031119014  true: 130.0\n",
      "73 11\n",
      "on_id: 74 pred: 105.59191855313045  true: 126.0\n",
      "74 6\n",
      "on_id: 75 pred: 102.3438019078667  true: 113.0\n",
      "75 18\n",
      "on_id: 76 pred: 10.053650316668987  true: 10.0\n",
      "76 14\n",
      "on_id: 77 pred: 32.47974174454161  true: 34.0\n",
      "77 5\n",
      "on_id: 78 pred: 125.77955648762158  true: 107.0\n",
      "78 8\n",
      "on_id: 79 pred: 83.16199803225895  true: 63.0\n",
      "79 11\n",
      "on_id: 80 pred: 87.17797385750988  true: 90.0\n",
      "80 19\n",
      "on_id: 81 pred: 5.552465104064073  true: 8.0\n",
      "81 14\n",
      "on_id: 82 pred: 9.871565342780912  true: 9.0\n",
      "82 5\n",
      "on_id: 83 pred: 99.75558320771923  true: 130.0\n",
      "83 15\n",
      "on_id: 84 pred: 67.77498208938523  true: 58.0\n",
      "84 1\n",
      "on_id: 85 pred: 120.39486336667082  true: 118.0\n",
      "85 8\n",
      "on_id: 86 pred: 106.30115629447747  true: 89.0\n",
      "86 3\n",
      "on_id: 87 pred: 119.2901671176877  true: 116.0\n",
      "87 4\n",
      "on_id: 88 pred: 102.75280919447631  true: 115.0\n",
      "88 15\n",
      "on_id: 89 pred: 109.51317463409717  true: 130.0\n",
      "89 12\n",
      "on_id: 90 pred: 27.486319441162298  true: 28.0\n",
      "90 21\n",
      "on_id: 91 pred: 25.991102294391734  true: 38.0\n",
      "91 12\n",
      "on_id: 92 pred: 24.014908993171957  true: 20.0\n",
      "92 22\n",
      "on_id: 93 pred: 44.28029981136073  true: 85.0\n",
      "93 11\n",
      "on_id: 94 pred: 63.0116395260985  true: 55.0\n",
      "94 6\n",
      "on_id: 95 pred: 85.73578771214623  true: 128.0\n",
      "95 7\n",
      "on_id: 96 pred: 104.48648230679956  true: 130.0\n",
      "96 11\n",
      "on_id: 97 pred: 104.36497212678344  true: 82.0\n",
      "97 10\n",
      "on_id: 98 pred: 64.7512400861482  true: 59.0\n",
      "98 7\n",
      "on_id: 99 pred: 114.7507971558171  true: 117.0\n",
      "99 17\n",
      "on_id: 100 pred: 30.84009380519137  true: 20.0\n"
     ]
    }
   ],
   "source": [
    "sigma_sim = 1\n",
    "sigma_t =7\n",
    "y_sim = np.ones(n_test_units)*130#-1\n",
    "y_real= np.ones(n_test_units)*-1\n",
    "for on_id in range(n_test_units):\n",
    "    n_segs = N_on_segs[on_id]\n",
    "    print(on_id,n_segs)\n",
    "    \n",
    "    if n_segs<=0:\n",
    "        continue\n",
    "    \n",
    "    #K2_seg_matrix_dist\n",
    "    kde_seg_tem = np.array([])\n",
    "    for i in range(n_segs):\n",
    "        kde_seg_tem = np.append(kde_seg_tem,np.ones(K)*i*on_win_stride)\n",
    "    kde_rul = sim_adj_rul[on_id,:n_segs,:K].flatten()\n",
    "    #kde_rul = K2_seg_matrix_rul[on_id,:n_segs,:K].flatten()\n",
    "    #tmp_scaler = preprocessing.MinMaxScaler([0.1,1])\n",
    "    kde_w_sim = np.exp(-K2_seg_matrix_dist[on_id,:n_segs,:K].flatten()/sigma_sim)\n",
    "    #kde_w_sim = tmp_scaler.fit_transform(kde_w_sim.reshape(-1,1)).flatten()\n",
    "    kde_w_t = np.exp(-kde_seg_tem/sigma_t)\n",
    "    #kde_w_t = tmp_scaler.fit_transform(kde_w_t.reshape(-1,1)).flatten()\n",
    "    kde_W = kde_w_sim*kde_w_t\n",
    "    #print(kde_rul)\n",
    "    #print(kde_w_sim)\n",
    "    #print(kde_w_t)\n",
    "    #print(kde_w_sim*kde_w_t)\n",
    "    \n",
    "    \n",
    "    tt = np.arange(0,300,1)\n",
    "    weights = kde_W/sum(kde_W)\n",
    "    #print(sim_rul_kde)\n",
    "    pdf = gaussian_kde(kde_rul,bw_method='scott',weights=weights)\n",
    "    #res = sum(pdf(tt)*tt)\n",
    "    y_sim[on_id] = max(0,min(sum(pdf(tt)*tt),130))\n",
    "    y_real[on_id] = test_life[on_id]\n",
    "    print('on_id:',on_id+1,'pred:',y_sim[on_id],' true:',y_real[on_id])"
   ]
  },
  {
   "cell_type": "markdown",
   "metadata": {},
   "source": [
    "### 实验结果测试"
   ]
  },
  {
   "cell_type": "code",
   "execution_count": 166,
   "metadata": {
    "scrolled": true
   },
   "outputs": [
    {
     "name": "stdout",
     "output_type": "stream",
     "text": [
      "14.060\n",
      "2.70721\n",
      "early: 17\n",
      "late: 22\n",
      "on: 61\n",
      "range:-32.5 43.4\n",
      "\n",
      "14.035\n",
      "2.69835\n",
      "early: 17\n",
      "late: 19\n",
      "on: 64\n",
      "range:-33.0 43.0\n",
      "\n"
     ]
    }
   ],
   "source": [
    "#y_sim = np.array(y_sim)\n",
    "#y_true = np.array(y_real)\n",
    "y_pred = y_sim#[y_sim>0]\n",
    "#y_true = y_real[y_real>0]\n",
    "y_true = test_life\n",
    "get_score(y_pred,y_true)\n",
    "\n",
    "n_tot = len(y_pred)\n",
    "n_early = np.sum(y_pred+13<y_true)\n",
    "n_late = np.sum(y_pred-10>y_true)\n",
    "print('early:',n_early)\n",
    "print('late:',n_late)\n",
    "print('on:',n_tot-n_early-n_late)\n",
    "delta = y_true - y_pred\n",
    "print('range:%.1f'%min(delta),'%.1f'%max(delta))\n",
    "print()\n",
    "\n",
    "y_pred_round = np.round(y_pred)\n",
    "get_score(y_pred_round,y_true)\n",
    "\n",
    "n_tot = len(y_pred_round)\n",
    "n_early = np.sum(y_pred_round+13<y_true)\n",
    "n_late = np.sum(y_pred_round-10>y_true)\n",
    "print('early:',n_early)\n",
    "print('late:',n_late)\n",
    "print('on:',n_tot-n_early-n_late)\n",
    "delta = y_true - y_pred_round\n",
    "print('range:%.1f'%min(delta),'%.1f'%max(delta))\n",
    "print()\n"
   ]
  },
  {
   "cell_type": "code",
   "execution_count": 169,
   "metadata": {},
   "outputs": [
    {
     "data": {
      "text/plain": [
       "array([124, 114,  56,  95,  98, 101,  98,  72, 106,  82,  92, 104,  70,\n",
       "       102,  93,  94,  57,  34,  89,  13,  90, 120, 117,  33, 107, 111,\n",
       "        79, 104, 106,  93,   9,  60, 103,   6,  13,  19,  31,  60, 113,\n",
       "        36,  26,  13,  59, 110,  71,  48, 115, 105,  18,  92, 102,  43,\n",
       "        41, 102, 109,  20,  99,  39, 103, 101,  22,  50,  72,  26, 120,\n",
       "        26,  94,   9, 109,  89, 111,  57, 109, 106, 102,  10,  32, 126,\n",
       "        83,  87,   6,  10, 100,  68, 120, 106, 119, 103, 110,  27,  26,\n",
       "        24,  44,  63,  86, 104, 104,  65, 115,  31])"
      ]
     },
     "execution_count": 169,
     "metadata": {},
     "output_type": "execute_result"
    }
   ],
   "source": [
    "y_pred_round.astype(int)"
   ]
  },
  {
   "cell_type": "code",
   "execution_count": 171,
   "metadata": {},
   "outputs": [
    {
     "data": {
      "text/plain": [
       "array([112,  98,  69,  82,  91,  93,  91,  95, 111,  96,  97, 124,  95,\n",
       "       107,  83,  84,  50,  28,  87,  16,  57, 111, 113,  20, 130, 119,\n",
       "        66,  97,  90, 115,   8,  48, 106,   7,  11,  19,  21,  50, 130,\n",
       "        28,  18,  10,  59, 109, 114,  47, 130,  92,  21,  79, 114,  29,\n",
       "        26,  97, 130,  15, 103,  37, 114, 100,  21,  54,  72,  28, 128,\n",
       "        14,  77,   8, 121,  94, 118,  50, 130, 126, 113,  10,  34, 107,\n",
       "        63,  90,   8,   9, 130,  58, 118,  89, 116, 115, 130,  28,  38,\n",
       "        20,  85,  55, 128, 130,  82,  59, 117,  20])"
      ]
     },
     "execution_count": 171,
     "metadata": {},
     "output_type": "execute_result"
    }
   ],
   "source": [
    "np.array(y_true)"
   ]
  },
  {
   "cell_type": "code",
   "execution_count": 768,
   "metadata": {},
   "outputs": [
    {
     "data": {
      "text/plain": [
       "array([3.67879441e-01, 1.35335283e-01, 4.97870684e-02, 1.83156389e-02,\n",
       "       6.73794700e-03, 2.47875218e-03, 9.11881966e-04, 3.35462628e-04,\n",
       "       1.23409804e-04, 4.53999298e-05, 1.67017008e-05, 6.14421235e-06,\n",
       "       2.26032941e-06, 8.31528719e-07, 3.05902321e-07, 1.12535175e-07,\n",
       "       4.13993772e-08, 1.52299797e-08, 5.60279644e-09, 2.06115362e-09,\n",
       "       7.58256043e-10, 2.78946809e-10, 1.02618796e-10, 3.77513454e-11,\n",
       "       1.38879439e-11, 5.10908903e-12, 1.87952882e-12, 6.91440011e-13,\n",
       "       2.54366565e-13, 9.35762297e-14, 3.44247711e-14, 1.26641655e-14,\n",
       "       4.65888615e-15, 1.71390843e-15, 6.30511676e-16, 2.31952283e-16,\n",
       "       8.53304763e-17, 3.13913279e-17, 1.15482242e-17, 4.24835426e-18,\n",
       "       1.56288219e-18, 5.74952226e-19, 2.11513104e-19, 7.78113224e-20,\n",
       "       2.86251858e-20, 1.05306174e-20, 3.87399763e-21, 1.42516408e-21,\n",
       "       5.24288566e-22, 1.92874985e-22, 7.09547416e-23, 2.61027907e-23,\n",
       "       9.60268005e-24, 3.53262857e-24, 1.29958143e-24, 4.78089288e-25,\n",
       "       1.75879220e-25, 6.47023493e-26, 2.38026641e-26, 8.75651076e-27,\n",
       "       3.22134029e-27, 1.18506486e-27, 4.35961000e-28, 1.60381089e-28,\n",
       "       5.90009054e-29, 2.17052201e-29, 7.98490425e-30, 2.93748211e-30,\n",
       "       1.08063928e-30])"
      ]
     },
     "execution_count": 768,
     "metadata": {},
     "output_type": "execute_result"
    }
   ],
   "source": [
    "n = 70\n",
    "c = np.arange(1,n)#/5#/n\n",
    "sigma = 1\n",
    "w_time = (n-c)/n\n",
    "w_time = (4/5)**c\n",
    "w_time = (1/c)\n",
    "w_time = np.ones(n)\n",
    "#w_time = np.ones(n)*0.0001\n",
    "#w_time[1]=1\n",
    "w_time = np.exp(-c/sigma)\n",
    "w_time #/= w_time[0]\n",
    "#w_time[0]=1"
   ]
  },
  {
   "cell_type": "code",
   "execution_count": 769,
   "metadata": {
    "scrolled": false
   },
   "outputs": [
    {
     "data": {
      "text/plain": [
       "[<matplotlib.lines.Line2D at 0x24cd088c198>]"
      ]
     },
     "execution_count": 769,
     "metadata": {},
     "output_type": "execute_result"
    },
    {
     "data": {
      "image/png": "[encoded data removed]",
      "text/plain": [
       "<Figure size 432x288 with 1 Axes>"
      ]
     },
     "metadata": {
      "needs_background": "light"
     },
     "output_type": "display_data"
    }
   ],
   "source": [
    "plt.plot(w_time[:70])"
   ]
  },
  {
   "cell_type": "markdown",
   "metadata": {},
   "source": [
    "#### 1.评价函数"
   ]
  },
  {
   "cell_type": "code",
   "execution_count": 35,
   "metadata": {},
   "outputs": [],
   "source": [
    "def RHS_score(y_true,y_pred):\n",
    "    s = 0\n",
    "    delta = y_pred-y_true\n",
    "    for i in range(len(delta)):\n",
    "        if delta[i]<0:\n",
    "            s+=math.e**(-delta[i]/13)-1\n",
    "        else:\n",
    "            s+=math.e**(delta[i]/10)-1\n",
    "    #s = s/len(delta)\n",
    "    return s"
   ]
  },
  {
   "cell_type": "code",
   "execution_count": 36,
   "metadata": {},
   "outputs": [],
   "source": [
    "def as_score(y_true,y_pred):\n",
    "    s = 0\n",
    "    delta = y_pred-y_true\n",
    "    for i in range(len(delta)):\n",
    "        if delta[i]>0:\n",
    "            s+=delta[i]*2\n",
    "        else:\n",
    "            s-=delta[i]\n",
    "    return s"
   ]
  },
  {
   "cell_type": "code",
   "execution_count": 37,
   "metadata": {},
   "outputs": [],
   "source": [
    "def get_score(pred_y,test_y):\n",
    "    mse_test = np.sum((pred_y - test_y)**2)/len(test_y)\n",
    "    rmse_test = mse_test**0.5\n",
    "    mae_test = np.sum(np.absolute(pred_y - test_y))/len(test_y)\n",
    "    r2_test = 1 - mse_test/np.var(test_y)\n",
    "    rhs_test = RHS_score( test_y, pred_y)/len(pred_y)\n",
    "    as_test = as_score(test_y,pred_y)\n",
    "    #print('=============test===================')\n",
    "    #print('mse:',mse_test)\n",
    "    print('%.3f'%rmse_test)\n",
    "    #print('mae:',mae_test)\n",
    "    #print('r2:',r2_test)\n",
    "    print('%.5f'%rhs_test)\n",
    "    #print('as_test:',as_test)\n",
    "    #print('=============test===================')"
   ]
  },
  {
   "cell_type": "code",
   "execution_count": null,
   "metadata": {},
   "outputs": [],
   "source": []
  }
 ],
 "metadata": {
  "kernelspec": {
   "display_name": "Python 3",
   "language": "python",
   "name": "python3"
  },
  "language_info": {
   "codemirror_mode": {
    "name": "ipython",
    "version": 3
   },
   "file_extension": ".py",
   "mimetype": "text/x-python",
   "name": "python",
   "nbconvert_exporter": "python",
   "pygments_lexer": "ipython3",
   "version": "3.7.3"
  }
 },
 "nbformat": 4,
 "nbformat_minor": 2
}
