{
 "cells": [
  {
   "cell_type": "markdown",
   "metadata": {},
   "source": [
    "2.计算相似度：\n",
    "\n",
    "1)相似度度量：\n",
    "\n",
    "2)获得相似样本：得到每个历史样本与待测样本最相近的片段，选择最相近的30个历史样本\n",
    "\n",
    "3)RUL估计：加权核密度估计 对最近的历史样本的相似度进行min-max归一化处理作为权重，加权得到样本的RUL"
   ]
  },
  {
   "cell_type": "markdown",
   "metadata": {},
   "source": [
    "## 1 Import library"
   ]
  },
  {
   "cell_type": "code",
   "execution_count": 1,
   "metadata": {},
   "outputs": [],
   "source": [
    "import pandas as pd\n",
    "import numpy as np\n",
    "import matplotlib.pyplot as plt\n",
    "import os\n",
    "import time\n",
    "import math\n",
    "from sklearn.metrics.pairwise import euclidean_distances,cosine_similarity,paired_distances\n",
    "from sklearn.neighbors import KernelDensity\n",
    "from scipy.stats import gaussian_kde\n",
    "from fastdtw import fastdtw\n",
    "import tslearn.metrics #DTW\n",
    "from scipy.spatial.distance import euclidean,correlation,cosine,cdist\n",
    "from scipy.stats import mode"
   ]
  },
  {
   "cell_type": "markdown",
   "metadata": {},
   "source": [
    "## 读取数据"
   ]
  },
  {
   "cell_type": "code",
   "execution_count": 2,
   "metadata": {},
   "outputs": [
    {
     "data": {
      "text/plain": [
       "True"
      ]
     },
     "execution_count": 2,
     "metadata": {},
     "output_type": "execute_result"
    }
   ],
   "source": [
    "processed_data_file = '1_processed_data'\n",
    "os.path.exists(processed_data_file)"
   ]
  },
  {
   "cell_type": "code",
   "execution_count": 3,
   "metadata": {},
   "outputs": [],
   "source": [
    "train_df_pca = pd.read_csv(processed_data_file+'/train_PCA_data.csv')\n",
    "test_df_pca = pd.read_csv(processed_data_file+'/test_PCA_data.csv')"
   ]
  },
  {
   "cell_type": "code",
   "execution_count": 4,
   "metadata": {},
   "outputs": [],
   "source": [
    "train_group = train_df_pca.groupby('id')\n",
    "test_group = test_df_pca.groupby('id')"
   ]
  },
  {
   "cell_type": "code",
   "execution_count": 5,
   "metadata": {},
   "outputs": [
    {
     "data": {
      "text/plain": [
       "100"
      ]
     },
     "execution_count": 5,
     "metadata": {},
     "output_type": "execute_result"
    }
   ],
   "source": [
    "n_train_units = len(train_group)\n",
    "n_test_units = len(test_group)\n",
    "n_train_units"
   ]
  },
  {
   "cell_type": "code",
   "execution_count": 6,
   "metadata": {},
   "outputs": [],
   "source": [
    "train_group.get_group(1)\n",
    "selected_ftr_name = ['p1']"
   ]
  },
  {
   "cell_type": "markdown",
   "metadata": {},
   "source": [
    "## 计算相似度"
   ]
  },
  {
   "cell_type": "markdown",
   "metadata": {},
   "source": [
    "### 计算等长序列的DTW距离"
   ]
  },
  {
   "cell_type": "code",
   "execution_count": 18,
   "metadata": {},
   "outputs": [],
   "source": [
    "#DTW\n",
    "MAX_DIST=99\n",
    "sim_num = 30\n",
    "on_win_size = 30\n",
    "on_win_stride = 10\n",
    "his_win_size = on_win_size\n",
    "his_win_stride = 1\n",
    "scale = 1#.5\n",
    "ftr_len = len(selected_ftr_name)"
   ]
  },
  {
   "cell_type": "code",
   "execution_count": 20,
   "metadata": {},
   "outputs": [],
   "source": [
    "dtw_dist_matrix = np.ones((n_test_units,40,n_train_units,350))*MAX_DIST"
   ]
  },
  {
   "cell_type": "code",
   "execution_count": 21,
   "metadata": {},
   "outputs": [],
   "source": [
    "res_file = '2_res'\n",
    "if os.path.exists(res_file)==False:\n",
    "    os.makedirs(res_file)\n",
    "#dtw_dist_matrix = np.load(res_file+'dtw_dist_matrix.npy')"
   ]
  },
  {
   "cell_type": "markdown",
   "metadata": {},
   "source": [
    "### Coarse: 计算DTW距离\n",
    "对test片段从后往前依次遍历"
   ]
  },
  {
   "cell_type": "code",
   "execution_count": 25,
   "metadata": {},
   "outputs": [
    {
     "name": "stdout",
     "output_type": "stream",
     "text": [
      "unit_id: 0 segs: 1 time: 12.412834644317627 avg: 12.412834644317627\n",
      "unit_id: 1 segs: 2 time: 24.834654092788696 avg: 12.417327046394348\n",
      "unit_id: 2 segs: 10 time: 124.806321144104 avg: 12.480632114410401\n",
      "unit_id: 3 segs: 8 time: 99.54207420349121 avg: 12.442759275436401\n",
      "unit_id: 4 segs: 7 time: 87.16803359985352 avg: 12.452576228550502\n",
      "unit_id: 5 segs: 8 time: 101.74233531951904 avg: 12.71779191493988\n",
      "unit_id: 6 segs: 14 time: 161.15240836143494 avg: 11.510886311531067\n",
      "unit_id: 7 segs: 14 time: 173.19787693023682 avg: 12.371276923588344\n",
      "unit_id: 8 segs: 3 time: 37.21607542037964 avg: 12.405358473459879\n",
      "unit_id: 9 segs: 17 time: 210.77964663505554 avg: 12.398802743238562\n",
      "unit_id: 10 segs: 6 time: 74.73501443862915 avg: 12.455835739771524\n",
      "unit_id: 11 segs: 19 time: 235.24201369285583 avg: 12.381158615413465\n",
      "unit_id: 12 segs: 17 time: 210.6921944618225 avg: 12.393658497754265\n",
      "unit_id: 13 segs: 2 time: 24.62649631500244 avg: 12.31324815750122\n",
      "unit_id: 14 segs: 5 time: 61.55995583534241 avg: 12.31199116706848\n",
      "unit_id: 15 segs: 9 time: 110.95295357704163 avg: 12.328105953004625\n",
      "unit_id: 16 segs: 14 time: 172.53535985946655 avg: 12.323954275676183\n",
      "unit_id: 17 segs: 11 time: 135.77457070350647 avg: 12.34314279122786\n",
      "unit_id: 18 segs: 11 time: 135.39474081993103 avg: 12.308612801811911\n",
      "unit_id: 19 segs: 16 time: 197.06276869773865 avg: 12.316423043608665\n",
      "unit_id: 20 segs: 12 time: 148.112242937088 avg: 12.342686911424002\n",
      "unit_id: 21 segs: 1 time: 12.294843435287476 avg: 12.294843435287476\n",
      "unit_id: 22 segs: 11 time: 123.04622030258179 avg: 11.186020027507436\n",
      "unit_id: 23 segs: 16 time: 197.5479109287262 avg: 12.346744433045387\n",
      "unit_id: 24 segs: 2 time: 24.614042282104492 avg: 12.307021141052246\n",
      "unit_id: 25 segs: 5 time: 61.41608190536499 avg: 12.283216381072998\n",
      "unit_id: 26 segs: 12 time: 135.55348658561707 avg: 11.296123882134756\n",
      "unit_id: 27 segs: 13 time: 160.0904712677002 avg: 12.314651635976938\n",
      "unit_id: 28 segs: 15 time: 184.77927923202515 avg: 12.318618615468344\n",
      "unit_id: 29 segs: 12 time: 147.90840792655945 avg: 12.325700660546621\n",
      "unit_id: 30 segs: 17 time: 209.72962141036987 avg: 12.337036553551169\n",
      "unit_id: 31 segs: 12 time: 148.05628061294556 avg: 12.33802338441213\n",
      "unit_id: 32 segs: 3 time: 24.706083059310913 avg: 8.235361019770304\n",
      "unit_id: 33 segs: 18 time: 222.7096905708313 avg: 12.372760587268406\n",
      "unit_id: 34 segs: 17 time: 210.41549634933472 avg: 12.37738213819616\n",
      "unit_id: 35 segs: 10 time: 123.59141778945923 avg: 12.359141778945922\n",
      "unit_id: 36 segs: 10 time: 126.071613073349 avg: 12.6071613073349\n",
      "unit_id: 37 segs: 10 time: 123.74516105651855 avg: 12.374516105651855\n",
      "unit_id: 38 segs: 1 time: 12.341205835342407 avg: 12.341205835342407\n",
      "unit_id: 39 segs: 11 time: 135.56990242004395 avg: 12.32453658364036\n",
      "unit_id: 40 segs: 10 time: 123.48241472244263 avg: 12.348241472244263\n",
      "unit_id: 41 segs: 13 time: 165.49543714523315 avg: 12.730418241941011\n",
      "unit_id: 42 segs: 15 time: 187.9018850326538 avg: 12.526792335510255\n",
      "unit_id: 43 segs: 3 time: 37.930318117141724 avg: 12.643439372380575\n",
      "unit_id: 44 segs: 13 time: 161.74109959602356 avg: 12.441623045847965\n",
      "unit_id: 45 segs: 12 time: 148.71959161758423 avg: 12.393299301465353\n",
      "unit_id: 46 segs: 5 time: 61.8735556602478 avg: 12.37471113204956\n",
      "unit_id: 47 segs: 5 time: 61.90903425216675 avg: 12.38180685043335\n",
      "unit_id: 48 segs: 28 time: 346.33711886405945 avg: 12.369182816573552\n",
      "unit_id: 49 segs: 5 time: 61.954222679138184 avg: 12.390844535827636\n",
      "unit_id: 50 segs: 12 time: 148.95850157737732 avg: 12.413208464781443\n",
      "unit_id: 51 segs: 16 time: 198.27650380134583 avg: 12.392281487584114\n",
      "unit_id: 52 segs: 14 time: 173.3401596546173 avg: 12.381439975329808\n",
      "unit_id: 53 segs: 10 time: 123.6137182712555 avg: 12.361371827125549\n",
      "unit_id: 54 segs: 9 time: 111.08627891540527 avg: 12.342919879489475\n",
      "unit_id: 55 segs: 11 time: 135.63486647605896 avg: 12.33044240691445\n",
      "unit_id: 56 segs: 14 time: 160.42635703086853 avg: 11.459025502204895\n",
      "unit_id: 57 segs: 15 time: 185.47354435920715 avg: 12.364902957280476\n",
      "unit_id: 58 segs: 7 time: 89.40211009979248 avg: 12.771730014256068\n",
      "unit_id: 59 segs: 12 time: 151.0651457309723 avg: 12.58876214424769\n",
      "unit_id: 60 segs: 13 time: 163.7713668346405 avg: 12.5977974488185\n",
      "unit_id: 61 segs: 21 time: 261.1955723762512 avg: 12.437884398869105\n",
      "unit_id: 62 segs: 13 time: 163.0086121559143 avg: 12.539124011993408\n",
      "unit_id: 63 segs: 14 time: 178.12047219276428 avg: 12.722890870911735\n",
      "unit_id: 64 segs: 5 time: 64.31295228004456 avg: 12.862590456008911\n",
      "unit_id: 65 segs: 12 time: 150.73197388648987 avg: 12.560997823874155\n",
      "unit_id: 66 segs: 5 time: 63.46857762336731 avg: 12.693715524673461\n",
      "unit_id: 67 segs: 16 time: 200.98136448860168 avg: 12.561335280537605\n",
      "unit_id: 68 segs: 3 time: 37.28416466712952 avg: 12.428054889043173\n",
      "unit_id: 69 segs: 13 time: 161.30580139160156 avg: 12.408138568584736\n",
      "unit_id: 70 segs: 4 time: 49.6605281829834 avg: 12.41513204574585\n",
      "unit_id: 71 segs: 11 time: 136.70371651649475 avg: 12.427610592408614\n",
      "unit_id: 72 segs: 9 time: 112.29583144187927 avg: 12.477314604653252\n",
      "unit_id: 73 segs: 11 time: 136.3564898967743 avg: 12.39604453607039\n",
      "unit_id: 74 segs: 6 time: 74.12523174285889 avg: 12.35420529047648\n",
      "unit_id: 75 segs: 18 time: 224.46723914146423 avg: 12.470402174525791\n",
      "unit_id: 76 segs: 14 time: 176.4634392261505 avg: 12.604531373296465\n",
      "unit_id: 77 segs: 5 time: 63.03500413894653 avg: 12.607000827789307\n",
      "unit_id: 78 segs: 8 time: 100.25639939308167 avg: 12.532049924135208\n",
      "unit_id: 79 segs: 11 time: 139.06667113304138 avg: 12.642424648458308\n",
      "unit_id: 80 segs: 19 time: 240.6618378162384 avg: 12.666412516644126\n",
      "unit_id: 81 segs: 14 time: 185.4157817363739 avg: 13.243984409740992\n",
      "unit_id: 82 segs: 5 time: 65.93824696540833 avg: 13.187649393081665\n",
      "unit_id: 83 segs: 15 time: 188.27972960472107 avg: 12.551981973648072\n",
      "unit_id: 84 segs: 1 time: 12.444751977920532 avg: 12.444751977920532\n",
      "unit_id: 85 segs: 9 time: 100.14511275291443 avg: 11.127234750323826\n",
      "unit_id: 86 segs: 3 time: 37.365519285202026 avg: 12.455173095067343\n",
      "unit_id: 87 segs: 4 time: 49.66942071914673 avg: 12.417355179786682\n",
      "unit_id: 88 segs: 15 time: 186.89621257781982 avg: 12.459747505187988\n",
      "unit_id: 89 segs: 12 time: 150.58577942848206 avg: 12.548814952373505\n",
      "unit_id: 90 segs: 21 time: 264.28773498535156 avg: 12.585130237397694\n",
      "unit_id: 91 segs: 13 time: 150.4788112640381 avg: 11.575293174156776\n",
      "unit_id: 92 segs: 22 time: 276.17424607276917 avg: 12.553374821489507\n",
      "unit_id: 93 segs: 11 time: 141.7630753517151 avg: 12.887552304701371\n",
      "unit_id: 94 segs: 6 time: 75.50829458236694 avg: 12.584715763727823\n",
      "unit_id: 95 segs: 7 time: 87.7442216873169 avg: 12.534888812473842\n",
      "unit_id: 96 segs: 11 time: 136.72047185897827 avg: 12.42913380536166\n",
      "unit_id: 97 segs: 10 time: 124.45660209655762 avg: 12.445660209655761\n",
      "unit_id: 98 segs: 7 time: 87.04132795333862 avg: 12.434475421905518\n",
      "unit_id: 99 segs: 17 time: 211.91259455680847 avg: 12.465446738635793\n",
      "tot_time: 13188.4815762043\n"
     ]
    }
   ],
   "source": [
    "N_on_segs = []\n",
    "t_begin = time.time()\n",
    "for on_id in range(n_test_units):\n",
    "    t0 = time.time()\n",
    "    on_unit = test_group.get_group(on_id+1).reset_index(drop=True)\n",
    "    on_len = len(on_unit)\n",
    "    #print('---',on_id+1,'---')\n",
    "    n_segs = int((on_len - on_win_size)/on_win_stride+1)\n",
    "    N_on_segs += [n_segs]\n",
    "    #print(on_len,n_segs)\n",
    "    if on_len<on_win_size:\n",
    "        continue\n",
    "    #print(on_len)\n",
    "    #print(n_segs)\n",
    "    for ion_seg,on_seg in enumerate(range(on_len-on_win_size,0,-on_win_stride)):\n",
    "        on_array = on_unit[on_seg:on_seg+on_win_size][selected_ftr_name]\n",
    "        #print(ion_seg,on_seg, on_seg+sim_win_size)\n",
    "        #print('---')\n",
    "        #print(on_seg,len(on_array))\n",
    "        #print(on_seg)\n",
    "        #on_array = on_unit[on_seg]\n",
    "        #print(on_len-sim_win_size - ion_seg*win_stride,on_len-ion_seg*win_stride)\n",
    "        #on_array = on_unit[on_len-sim_win_size - ion_seg*win_stride:on_len-ion_seg*win_stride][selected_ftr_name]\n",
    "        for his_id in range(n_train_units):\n",
    "            #break\n",
    "            his_unit = train_group.get_group(his_id+1).reset_index(drop=True)\n",
    "            his_len = len(his_unit)\n",
    "            #print(his_len)\n",
    "            #print(lb_dist_matrix[on_id,ion_seg,his_id])\n",
    "            for ihis_seg,his_seg in enumerate(range(0,his_len-his_win_size,his_win_stride)):\n",
    "                #print(on_id,ion_seg,on_seg, 'his:',his_id,ihis_seg,his_seg,his_seg+sim_win_size)\n",
    "                his_array = his_unit[his_seg:his_seg+his_win_size][selected_ftr_name]\n",
    "                #print(his_seg,len(his_array))fastdtw(on_array,his_array)[0]#\n",
    "                dtw_dist_matrix[on_id,ion_seg,his_id,ihis_seg] = tslearn.metrics.dtw_path(on_array, his_array)[1]\n",
    "    t1= time.time()\n",
    "    print('unit_id:',on_id,'segs:',n_segs,'time:',t1-t0,'avg:',(t1-t0)/n_segs)\n",
    "t_end = time.time()\n",
    "print('tot_time:',t_end-t_begin)"
   ]
  },
  {
   "cell_type": "code",
   "execution_count": 26,
   "metadata": {},
   "outputs": [
    {
     "data": {
      "text/plain": [
       "12.383550775778685"
      ]
     },
     "execution_count": 26,
     "metadata": {},
     "output_type": "execute_result"
    }
   ],
   "source": [
    "(t_end-t_begin)/np.sum(N_on_segs)"
   ]
  },
  {
   "cell_type": "code",
   "execution_count": 32,
   "metadata": {},
   "outputs": [
    {
     "data": {
      "text/plain": [
       "12.465483531384026"
      ]
     },
     "execution_count": 32,
     "metadata": {},
     "output_type": "execute_result"
    }
   ],
   "source": [
    "(t_end-t_begin)/1058"
   ]
  },
  {
   "cell_type": "code",
   "execution_count": 27,
   "metadata": {},
   "outputs": [],
   "source": [
    "np.save(res_file+'\\dtw_dist_matrix_'+str(on_win_size)+'_'+str(his_win_size)+'_'+str(on_win_stride)+'.npy',dtw_dist_matrix)"
   ]
  },
  {
   "cell_type": "code",
   "execution_count": 31,
   "metadata": {},
   "outputs": [
    {
     "data": {
      "text/plain": [
       "28"
      ]
     },
     "execution_count": 31,
     "metadata": {},
     "output_type": "execute_result"
    }
   ],
   "source": [
    "np.max(N_on_segs)"
   ]
  },
  {
   "cell_type": "code",
   "execution_count": null,
   "metadata": {},
   "outputs": [],
   "source": []
  }
 ],
 "metadata": {
  "kernelspec": {
   "display_name": "Python 3",
   "language": "python",
   "name": "python3"
  },
  "language_info": {
   "codemirror_mode": {
    "name": "ipython",
    "version": 3
   },
   "file_extension": ".py",
   "mimetype": "text/x-python",
   "name": "python",
   "nbconvert_exporter": "python",
   "pygments_lexer": "ipython3",
   "version": "3.7.3"
  }
 },
 "nbformat": 4,
 "nbformat_minor": 2
}
