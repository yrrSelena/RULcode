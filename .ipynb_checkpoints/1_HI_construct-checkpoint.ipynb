{
 "cells": [
  {
   "cell_type": "markdown",
   "metadata": {},
   "source": [
    "1.数据预处理：\n",
    "\n",
    "1)根据操作条件进行聚类\n",
    "\n",
    "2)对不同操作条件下的数据进行标准化处理（mean-std）\n",
    "\n",
    "3)高斯滤波(sigma=3)\n",
    "\n",
    "4)分段式RUL函数(max_rul=130)\n",
    "\n",
    "5)PCA降维"
   ]
  },
  {
   "cell_type": "markdown",
   "metadata": {},
   "source": [
    "## load library"
   ]
  },
  {
   "cell_type": "code",
   "execution_count": 1,
   "metadata": {},
   "outputs": [],
   "source": [
    "import pandas as pd\n",
    "import numpy as np\n",
    "import matplotlib.pyplot as plt\n",
    "import os\n",
    "from sklearn import preprocessing\n",
    "import time\n",
    "import csv\n",
    "import math\n",
    "from sklearn.decomposition import PCA\n",
    "from sklearn.metrics.pairwise import euclidean_distances,cosine_similarity,paired_distances\n",
    "from sklearn.neighbors import KernelDensity\n",
    "from scipy.stats import gaussian_kde\n",
    "from fastdtw import fastdtw\n",
    "import tslearn.metrics #DTW\n",
    "from scipy.spatial.distance import euclidean,correlation,cosine\n",
    "from scipy.stats import mode"
   ]
  },
  {
   "cell_type": "markdown",
   "metadata": {},
   "source": [
    "## 读"
   ]
  },
  {
   "cell_type": "markdown",
   "metadata": {},
   "source": [
    "### 设置常量"
   ]
  },
  {
   "cell_type": "code",
   "execution_count": 2,
   "metadata": {},
   "outputs": [],
   "source": [
    "file_path = '0_raw_data/'\n",
    "file_no = '1'\n",
    "train_file = file_path+'train_FD00'+file_no+'.txt'\n",
    "test_file = file_path+'test_FD00'+file_no+'.txt'\n",
    "test_rul_file = file_path+'RUL_FD00'+file_no+'.txt'\n",
    "n_ftrs = 26\n",
    "op_col_name = [ 'setting1', 'setting2', 'setting3']\n",
    "ftr_col_name = [ 's1', 's2', 's3','s4', 's5', 's6', 's7', 's8', 's9', 's10', 's11', 's12', 's13', 's14',\n",
    "             's15', 's16', 's17', 's18', 's19', 's20', 's21']\n",
    "col_name = ['id', 'cycle'] + op_col_name+ ftr_col_name\n",
    "n_op = 1"
   ]
  },
  {
   "cell_type": "markdown",
   "metadata": {},
   "source": [
    "### 载入数据"
   ]
  },
  {
   "cell_type": "code",
   "execution_count": 3,
   "metadata": {},
   "outputs": [],
   "source": [
    "# read training data - It is the aircraft engine run-to-failure data.\n",
    "raw_train_df = pd.read_csv(train_file,names = col_name, header=None,delim_whitespace=True)\n",
    "raw_test_df = pd.read_csv(test_file,names = col_name, header=None,delim_whitespace=True)\n",
    "raw_rul_df = pd.read_csv(test_rul_file, names=['RUL'],header=None,delim_whitespace=True) "
   ]
  },
  {
   "cell_type": "code",
   "execution_count": 4,
   "metadata": {},
   "outputs": [],
   "source": [
    "train_df = raw_train_df\n",
    "test_df = raw_test_df\n",
    "rul_df = raw_rul_df"
   ]
  },
  {
   "cell_type": "markdown",
   "metadata": {},
   "source": [
    "### 归一化处理"
   ]
  },
  {
   "cell_type": "code",
   "execution_count": 5,
   "metadata": {},
   "outputs": [],
   "source": [
    "scaler = preprocessing.MinMaxScaler()\n",
    "train_df[ftr_col_name] = pd.DataFrame(scaler.fit_transform(train_df[ftr_col_name]), \n",
    "                                                        columns=ftr_col_name, \n",
    "                                                        index=train_df.index)"
   ]
  },
  {
   "cell_type": "code",
   "execution_count": 6,
   "metadata": {
    "scrolled": true
   },
   "outputs": [],
   "source": [
    "test_df[ftr_col_name] = pd.DataFrame(scaler.transform(test_df[ftr_col_name]), \n",
    "                                                        columns=ftr_col_name, \n",
    "                                                        index=test_df.index)"
   ]
  },
  {
   "cell_type": "markdown",
   "metadata": {},
   "source": [
    "### 计算RUL"
   ]
  },
  {
   "cell_type": "code",
   "execution_count": 7,
   "metadata": {},
   "outputs": [],
   "source": [
    "rul = pd.DataFrame(train_df.groupby('id')['cycle'].max()).reset_index() #添加一列作为索引\n",
    "rul.columns = ['id', 'max']\n",
    "train_df = train_df.merge(rul, on=['id'], how='left')\n",
    "train_df['RUL'] = train_df['max'] - train_df['cycle']\n",
    "train_df.drop('max', axis=1, inplace=True)"
   ]
  },
  {
   "cell_type": "code",
   "execution_count": 8,
   "metadata": {},
   "outputs": [],
   "source": [
    "rul = pd.DataFrame(test_df.groupby('id')['cycle'].max()).reset_index() \n",
    "rul.columns = ['id', 'max']\n",
    "rul_df.columns = ['more']\n",
    "rul_df['id'] = rul_df.index + 1 # 获得每个发动机的编号\n",
    "rul_df['max'] = rul['max'] + rul_df['more'] # 测试数据的生命周期=发动机的运行时间+剩余寿命\n",
    "rul_df.drop('more', axis=1, inplace=True)\n",
    "\n",
    "# generate RUL for test data\n",
    "test_df = test_df.merge(rul_df, on=['id'], how='left')\n",
    "test_df['RUL'] = test_df['max'] - test_df['cycle']\n",
    "#test_df['percent'] = test_df['cycle']/test_df['max']\n",
    "test_df.drop('max', axis=1, inplace=True)"
   ]
  },
  {
   "cell_type": "markdown",
   "metadata": {},
   "source": [
    "### 分段式RUL"
   ]
  },
  {
   "cell_type": "code",
   "execution_count": 9,
   "metadata": {},
   "outputs": [],
   "source": [
    "MAX_RUL=130\n",
    "train_df.loc[train_df['RUL']>MAX_RUL,'RUL']=MAX_RUL\n",
    "test_df.loc[test_df['RUL']>MAX_RUL,'RUL']=MAX_RUL"
   ]
  },
  {
   "cell_type": "markdown",
   "metadata": {},
   "source": [
    "### 特征筛选"
   ]
  },
  {
   "cell_type": "code",
   "execution_count": 10,
   "metadata": {},
   "outputs": [],
   "source": [
    "#rebundant_ftr_name = ['s1','s5','s6','s10','s16','s17','s18','s19','setting1','setting2','setting3']\n",
    "rebundant_ftr_name = ['s1','s5','s6', 's8', 's9','s10', 's13', 's14','s16','s17','s18','s19', 's20', 's21','setting1','setting2','setting3']"
   ]
  },
  {
   "cell_type": "code",
   "execution_count": 11,
   "metadata": {},
   "outputs": [],
   "source": [
    "#train_df =train_df.loc[:,selected_ftr_name]\n",
    "train_df.drop(rebundant_ftr_name, axis=1, inplace=True)\n",
    "#train_df.head()"
   ]
  },
  {
   "cell_type": "code",
   "execution_count": 12,
   "metadata": {},
   "outputs": [],
   "source": [
    "test_df.drop(rebundant_ftr_name, axis=1, inplace=True)"
   ]
  },
  {
   "cell_type": "code",
   "execution_count": 13,
   "metadata": {},
   "outputs": [
    {
     "data": {
      "text/plain": [
       "Index(['s11', 's12', 's15', 's2', 's3', 's4', 's7'], dtype='object')"
      ]
     },
     "execution_count": 13,
     "metadata": {},
     "output_type": "execute_result"
    }
   ],
   "source": [
    "selected_ftr_name = train_df.columns.difference(['id','cycle','RUL'])\n",
    "selected_ftr_name"
   ]
  },
  {
   "cell_type": "markdown",
   "metadata": {},
   "source": [
    "### 获得发动机数目"
   ]
  },
  {
   "cell_type": "code",
   "execution_count": 14,
   "metadata": {},
   "outputs": [
    {
     "data": {
      "text/plain": [
       "100"
      ]
     },
     "execution_count": 14,
     "metadata": {},
     "output_type": "execute_result"
    }
   ],
   "source": [
    "n_train_units = len(train_df.groupby('id').size())\n",
    "n_test_units = len(test_df.groupby('id').size())\n",
    "n_test_units"
   ]
  },
  {
   "cell_type": "markdown",
   "metadata": {},
   "source": [
    "### 平滑处理"
   ]
  },
  {
   "cell_type": "code",
   "execution_count": 15,
   "metadata": {},
   "outputs": [],
   "source": [
    "from scipy.ndimage.filters import gaussian_filter1d\n",
    "def smoothGaussian(data,n_units,ftr_col_name,sigma):\n",
    "    data_group = data.groupby(data['id'])\n",
    "    ewm_ftr = pd.DataFrame()\n",
    "    for unit_no in range(1,n_units+1):\n",
    "        #print(unit_no)\n",
    "        tmp_unit = data_group.get_group(unit_no)\n",
    "        tmp_unit1 = pd.DataFrame(columns = ftr_col_name)\n",
    "        #print(tmp_unit.index)\n",
    "        for col in ftr_col_name:\n",
    "            #print(tmp_unit[col])\n",
    "            tmp_unit1[col] = gaussian_filter1d(tmp_unit.loc[:,col],sigma)\n",
    "        tmp_unit1.reindex(index=tmp_unit.index)\n",
    "        #print(tmp_unit1)\n",
    "        #print(len(tmp_unit1[col]),len(tmp_unit[col]))\n",
    "        #print(tmp_unit[ftr_col_name])\n",
    "        #print(tmp_unit1)\n",
    "        #col = 's7'\n",
    "        #plt.plot(tmp_unit1[col])\n",
    "        #plt.plot(tmp_unit[col])\n",
    "        #plt.show()\n",
    "        ewm_ftr = pd.concat([ewm_ftr,tmp_unit1],ignore_index=True)#ewm_ftr.append(tmp_unit1)\n",
    "        #print(ewm_ftr)\n",
    "    ewm_ftr['id'] = data['id']\n",
    "    ewm_ftr['cycle'] = data['cycle']\n",
    "    ewm_ftr['RUL'] = data['RUL']\n",
    "    ewm_ftr = ewm_ftr.reset_index(drop=True)\n",
    "    return ewm_ftr"
   ]
  },
  {
   "cell_type": "code",
   "execution_count": 16,
   "metadata": {},
   "outputs": [],
   "source": [
    "#ewm_win_size = 10\n",
    "gauss_sigma = 3\n",
    "ewm_train_ftr = pd.DataFrame()\n",
    "ewm_train_ftr = smoothGaussian(train_df, n_train_units, selected_ftr_name,gauss_sigma)\n",
    "train_df = ewm_train_ftr"
   ]
  },
  {
   "cell_type": "code",
   "execution_count": 17,
   "metadata": {},
   "outputs": [],
   "source": [
    "ewm_test_ftr = pd.DataFrame()\n",
    "ewm_test_ftr = smoothGaussian(test_df, n_test_units, selected_ftr_name,gauss_sigma)\n",
    "test_df = ewm_test_ftr"
   ]
  },
  {
   "cell_type": "code",
   "execution_count": 18,
   "metadata": {},
   "outputs": [
    {
     "data": {
      "image/png": "[encoded data removed]",
      "text/plain": [
       "<Figure size 432x288 with 1 Axes>"
      ]
     },
     "metadata": {
      "needs_background": "light"
     },
     "output_type": "display_data"
    }
   ],
   "source": [
    "plt.plot(train_df.groupby('id').get_group(2)['s2'].reset_index(drop=True))\n",
    "plt.plot(test_df.groupby('id').get_group(2)['s4'].reset_index(drop=True))\n",
    "plt.show()"
   ]
  },
  {
   "cell_type": "code",
   "execution_count": 19,
   "metadata": {
    "scrolled": false
   },
   "outputs": [
    {
     "data": {
      "text/plain": [
       "[<matplotlib.lines.Line2D at 0x1c8ed5243c8>]"
      ]
     },
     "execution_count": 19,
     "metadata": {},
     "output_type": "execute_result"
    },
    {
     "data": {
      "image/png": "[encoded data removed]",
      "text/plain": [
       "<Figure size 432x288 with 1 Axes>"
      ]
     },
     "metadata": {
      "needs_background": "light"
     },
     "output_type": "display_data"
    }
   ],
   "source": [
    "plt.plot(test_df.groupby('id').get_group(2)['s4'])"
   ]
  },
  {
   "cell_type": "markdown",
   "metadata": {},
   "source": [
    "### PCA"
   ]
  },
  {
   "cell_type": "code",
   "execution_count": 20,
   "metadata": {},
   "outputs": [
    {
     "data": {
      "text/plain": [
       "0.9849112075973301"
      ]
     },
     "execution_count": 20,
     "metadata": {},
     "output_type": "execute_result"
    }
   ],
   "source": [
    "pca = PCA(n_components=3)\n",
    "pca.fit(train_df[selected_ftr_name])\n",
    "train_pca = pca.transform(train_df[selected_ftr_name])\n",
    "test_pca = pca.transform(test_df[selected_ftr_name])\n",
    "sum(pca.explained_variance_ratio_[:3])"
   ]
  },
  {
   "cell_type": "code",
   "execution_count": 21,
   "metadata": {},
   "outputs": [
    {
     "data": {
      "text/html": [
       "<div>\n",
       "<style scoped>\n",
       "    .dataframe tbody tr th:only-of-type {\n",
       "        vertical-align: middle;\n",
       "    }\n",
       "\n",
       "    .dataframe tbody tr th {\n",
       "        vertical-align: top;\n",
       "    }\n",
       "\n",
       "    .dataframe thead th {\n",
       "        text-align: right;\n",
       "    }\n",
       "</style>\n",
       "<table border=\"1\" class=\"dataframe\">\n",
       "  <thead>\n",
       "    <tr style=\"text-align: right;\">\n",
       "      <th></th>\n",
       "      <th>p1</th>\n",
       "      <th>p2</th>\n",
       "      <th>p3</th>\n",
       "      <th>id</th>\n",
       "      <th>cycle</th>\n",
       "      <th>RUL</th>\n",
       "    </tr>\n",
       "  </thead>\n",
       "  <tbody>\n",
       "    <tr>\n",
       "      <th>0</th>\n",
       "      <td>-0.320824</td>\n",
       "      <td>0.038419</td>\n",
       "      <td>-0.055139</td>\n",
       "      <td>1</td>\n",
       "      <td>1</td>\n",
       "      <td>130</td>\n",
       "    </tr>\n",
       "    <tr>\n",
       "      <th>1</th>\n",
       "      <td>-0.326167</td>\n",
       "      <td>0.037052</td>\n",
       "      <td>-0.047867</td>\n",
       "      <td>1</td>\n",
       "      <td>2</td>\n",
       "      <td>130</td>\n",
       "    </tr>\n",
       "    <tr>\n",
       "      <th>2</th>\n",
       "      <td>-0.335081</td>\n",
       "      <td>0.034417</td>\n",
       "      <td>-0.035744</td>\n",
       "      <td>1</td>\n",
       "      <td>3</td>\n",
       "      <td>130</td>\n",
       "    </tr>\n",
       "    <tr>\n",
       "      <th>3</th>\n",
       "      <td>-0.344816</td>\n",
       "      <td>0.030673</td>\n",
       "      <td>-0.022547</td>\n",
       "      <td>1</td>\n",
       "      <td>4</td>\n",
       "      <td>130</td>\n",
       "    </tr>\n",
       "    <tr>\n",
       "      <th>4</th>\n",
       "      <td>-0.352809</td>\n",
       "      <td>0.025954</td>\n",
       "      <td>-0.011840</td>\n",
       "      <td>1</td>\n",
       "      <td>5</td>\n",
       "      <td>130</td>\n",
       "    </tr>\n",
       "  </tbody>\n",
       "</table>\n",
       "</div>"
      ],
      "text/plain": [
       "         p1        p2        p3  id  cycle  RUL\n",
       "0 -0.320824  0.038419 -0.055139   1      1  130\n",
       "1 -0.326167  0.037052 -0.047867   1      2  130\n",
       "2 -0.335081  0.034417 -0.035744   1      3  130\n",
       "3 -0.344816  0.030673 -0.022547   1      4  130\n",
       "4 -0.352809  0.025954 -0.011840   1      5  130"
      ]
     },
     "execution_count": 21,
     "metadata": {},
     "output_type": "execute_result"
    }
   ],
   "source": [
    "train_df_pca = pd.DataFrame(train_pca,columns=['p1','p2','p3'])\n",
    "train_df_pca['id'] = train_df['id']\n",
    "train_df_pca['cycle'] = train_df['cycle']\n",
    "train_df_pca['RUL'] = train_df['RUL']\n",
    "train_df_pca.head()"
   ]
  },
  {
   "cell_type": "code",
   "execution_count": 22,
   "metadata": {},
   "outputs": [
    {
     "data": {
      "text/html": [
       "<div>\n",
       "<style scoped>\n",
       "    .dataframe tbody tr th:only-of-type {\n",
       "        vertical-align: middle;\n",
       "    }\n",
       "\n",
       "    .dataframe tbody tr th {\n",
       "        vertical-align: top;\n",
       "    }\n",
       "\n",
       "    .dataframe thead th {\n",
       "        text-align: right;\n",
       "    }\n",
       "</style>\n",
       "<table border=\"1\" class=\"dataframe\">\n",
       "  <thead>\n",
       "    <tr style=\"text-align: right;\">\n",
       "      <th></th>\n",
       "      <th>p1</th>\n",
       "      <th>p2</th>\n",
       "      <th>p3</th>\n",
       "      <th>id</th>\n",
       "      <th>cycle</th>\n",
       "      <th>RUL</th>\n",
       "    </tr>\n",
       "  </thead>\n",
       "  <tbody>\n",
       "    <tr>\n",
       "      <th>0</th>\n",
       "      <td>-0.313144</td>\n",
       "      <td>-0.014127</td>\n",
       "      <td>0.034798</td>\n",
       "      <td>1</td>\n",
       "      <td>1</td>\n",
       "      <td>130</td>\n",
       "    </tr>\n",
       "    <tr>\n",
       "      <th>1</th>\n",
       "      <td>-0.313856</td>\n",
       "      <td>-0.016983</td>\n",
       "      <td>0.032031</td>\n",
       "      <td>1</td>\n",
       "      <td>2</td>\n",
       "      <td>130</td>\n",
       "    </tr>\n",
       "    <tr>\n",
       "      <th>2</th>\n",
       "      <td>-0.315554</td>\n",
       "      <td>-0.021873</td>\n",
       "      <td>0.026920</td>\n",
       "      <td>1</td>\n",
       "      <td>3</td>\n",
       "      <td>130</td>\n",
       "    </tr>\n",
       "    <tr>\n",
       "      <th>3</th>\n",
       "      <td>-0.318515</td>\n",
       "      <td>-0.027328</td>\n",
       "      <td>0.020034</td>\n",
       "      <td>1</td>\n",
       "      <td>4</td>\n",
       "      <td>130</td>\n",
       "    </tr>\n",
       "    <tr>\n",
       "      <th>4</th>\n",
       "      <td>-0.322730</td>\n",
       "      <td>-0.031615</td>\n",
       "      <td>0.011878</td>\n",
       "      <td>1</td>\n",
       "      <td>5</td>\n",
       "      <td>130</td>\n",
       "    </tr>\n",
       "  </tbody>\n",
       "</table>\n",
       "</div>"
      ],
      "text/plain": [
       "         p1        p2        p3  id  cycle  RUL\n",
       "0 -0.313144 -0.014127  0.034798   1      1  130\n",
       "1 -0.313856 -0.016983  0.032031   1      2  130\n",
       "2 -0.315554 -0.021873  0.026920   1      3  130\n",
       "3 -0.318515 -0.027328  0.020034   1      4  130\n",
       "4 -0.322730 -0.031615  0.011878   1      5  130"
      ]
     },
     "execution_count": 22,
     "metadata": {},
     "output_type": "execute_result"
    }
   ],
   "source": [
    "test_df_pca = pd.DataFrame(test_pca,columns=['p1','p2','p3'])\n",
    "test_df_pca['id'] = test_df['id']\n",
    "test_df_pca['cycle'] = test_df['cycle']\n",
    "test_df_pca['RUL'] = test_df['RUL']\n",
    "test_df_pca.head()"
   ]
  },
  {
   "cell_type": "code",
   "execution_count": 23,
   "metadata": {},
   "outputs": [
    {
     "data": {
      "text/plain": [
       "array([0.97000649, 0.00878065, 0.00612407])"
      ]
     },
     "execution_count": 23,
     "metadata": {},
     "output_type": "execute_result"
    }
   ],
   "source": [
    "pca.explained_variance_ratio_[:3]"
   ]
  },
  {
   "cell_type": "code",
   "execution_count": 24,
   "metadata": {},
   "outputs": [
    {
     "data": {
      "image/png": "[encoded data removed]",
      "text/plain": [
       "<Figure size 432x288 with 1 Axes>"
      ]
     },
     "metadata": {
      "needs_background": "light"
     },
     "output_type": "display_data"
    }
   ],
   "source": [
    "for j in [2,9]:#range(1,10):\n",
    "    plt.plot(train_df_pca.groupby('id').get_group(j).reset_index(drop=True)['p1'])\n",
    "#plt.legend([str(i) for i in range(1,10)])\n",
    "plt.show()"
   ]
  },
  {
   "cell_type": "code",
   "execution_count": 25,
   "metadata": {
    "scrolled": true
   },
   "outputs": [
    {
     "name": "stderr",
     "output_type": "stream",
     "text": [
      "D:\\Env\\Anaconda3\\lib\\site-packages\\ipykernel_launcher.py:3: MatplotlibDeprecationWarning: Adding an axes using the same arguments as a previous axes currently reuses the earlier instance.  In a future version, a new instance will always be created and returned.  Meanwhile, this warning can be suppressed, and the future behavior ensured, by passing a unique label to each axes instance.\n",
      "  This is separate from the ipykernel package so we can avoid doing imports until\n"
     ]
    },
    {
     "data": {
      "image/png": "[encoded data removed]",
      "text/plain": [
       "<Figure size 432x288 with 3 Axes>"
      ]
     },
     "metadata": {
      "needs_background": "light"
     },
     "output_type": "display_data"
    }
   ],
   "source": [
    "for j in range(1,10):\n",
    "    for i in range(3):\n",
    "        plt.subplot(2,2,i+1)\n",
    "        plt.plot(test_df_pca.groupby('id').get_group(j).reset_index(drop=True)['p'+str(i+1)])\n",
    "plt.show()"
   ]
  },
  {
   "cell_type": "code",
   "execution_count": 26,
   "metadata": {},
   "outputs": [],
   "source": [
    "train_group = train_df_pca.groupby('id')\n",
    "test_group = test_df_pca.groupby('id')"
   ]
  },
  {
   "cell_type": "code",
   "execution_count": 27,
   "metadata": {},
   "outputs": [
    {
     "data": {
      "text/plain": [
       "Index(['RUL', 'cycle', 'id', 'p1'], dtype='object')"
      ]
     },
     "execution_count": 27,
     "metadata": {},
     "output_type": "execute_result"
    }
   ],
   "source": [
    "pca_remain_col = train_df_pca.columns.difference(['p2','p3'])\n",
    "pca_remain_col"
   ]
  },
  {
   "cell_type": "code",
   "execution_count": 28,
   "metadata": {},
   "outputs": [],
   "source": [
    "processed_data_file = '1_processed_data'\n",
    "if os.path.exists(processed_data_file)==False:\n",
    "    os.makedirs(processed_data_file)"
   ]
  },
  {
   "cell_type": "code",
   "execution_count": 29,
   "metadata": {},
   "outputs": [],
   "source": [
    "train_df_pca.to_csv(processed_data_file+'/train_PCA_data.csv',index=False,header=True)"
   ]
  },
  {
   "cell_type": "code",
   "execution_count": 30,
   "metadata": {},
   "outputs": [],
   "source": [
    "test_df_pca.to_csv(processed_data_file+'/test_PCA_data.csv',index=False,header=True)"
   ]
  },
  {
   "cell_type": "code",
   "execution_count": null,
   "metadata": {},
   "outputs": [],
   "source": []
  }
 ],
 "metadata": {
  "kernelspec": {
   "display_name": "Python 3",
   "language": "python",
   "name": "python3"
  },
  "language_info": {
   "codemirror_mode": {
    "name": "ipython",
    "version": 3
   },
   "file_extension": ".py",
   "mimetype": "text/x-python",
   "name": "python",
   "nbconvert_exporter": "python",
   "pygments_lexer": "ipython3",
   "version": "3.7.3"
  }
 },
 "nbformat": 4,
 "nbformat_minor": 2
}
