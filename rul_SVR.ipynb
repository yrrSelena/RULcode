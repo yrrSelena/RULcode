{
 "cells": [
  {
   "cell_type": "code",
   "execution_count": 11,
   "metadata": {},
   "outputs": [],
   "source": [
    "import pandas as pd\n",
    "import numpy as np\n",
    "import matplotlib.pyplot as plt\n",
    "import os\n",
    "import time\n",
    "import math\n",
    "import seaborn as sns\n",
    "from sklearn.model_selection import train_test_split\n",
    "from sklearn.svm import SVR\n",
    "from sklearn.model_selection import GridSearchCV\n",
    "from sklearn.model_selection import learning_curve"
   ]
  },
  {
   "cell_type": "code",
   "execution_count": 2,
   "metadata": {},
   "outputs": [
    {
     "data": {
      "text/plain": [
       "True"
      ]
     },
     "execution_count": 2,
     "metadata": {},
     "output_type": "execute_result"
    }
   ],
   "source": [
    "processed_data_file = '1_processed_data'\n",
    "os.path.exists(processed_data_file)"
   ]
  },
  {
   "cell_type": "code",
   "execution_count": 3,
   "metadata": {},
   "outputs": [],
   "source": [
    "tot_train_df = pd.read_csv(processed_data_file+'/train_PCA_data.csv',index_col=0)"
   ]
  },
  {
   "cell_type": "code",
   "execution_count": 4,
   "metadata": {},
   "outputs": [
    {
     "data": {
      "text/html": [
       "<div>\n",
       "<style scoped>\n",
       "    .dataframe tbody tr th:only-of-type {\n",
       "        vertical-align: middle;\n",
       "    }\n",
       "\n",
       "    .dataframe tbody tr th {\n",
       "        vertical-align: top;\n",
       "    }\n",
       "\n",
       "    .dataframe thead th {\n",
       "        text-align: right;\n",
       "    }\n",
       "</style>\n",
       "<table border=\"1\" class=\"dataframe\">\n",
       "  <thead>\n",
       "    <tr style=\"text-align: right;\">\n",
       "      <th></th>\n",
       "      <th>cycle</th>\n",
       "      <th>s2</th>\n",
       "      <th>s3</th>\n",
       "      <th>s4</th>\n",
       "      <th>s7</th>\n",
       "      <th>s11</th>\n",
       "      <th>s12</th>\n",
       "      <th>s15</th>\n",
       "      <th>RUL</th>\n",
       "      <th>HI</th>\n",
       "    </tr>\n",
       "    <tr>\n",
       "      <th>id</th>\n",
       "      <th></th>\n",
       "      <th></th>\n",
       "      <th></th>\n",
       "      <th></th>\n",
       "      <th></th>\n",
       "      <th></th>\n",
       "      <th></th>\n",
       "      <th></th>\n",
       "      <th></th>\n",
       "      <th></th>\n",
       "    </tr>\n",
       "  </thead>\n",
       "  <tbody>\n",
       "    <tr>\n",
       "      <th>1</th>\n",
       "      <td>1</td>\n",
       "      <td>-0.934031</td>\n",
       "      <td>-0.518202</td>\n",
       "      <td>-0.815417</td>\n",
       "      <td>0.909791</td>\n",
       "      <td>-0.889393</td>\n",
       "      <td>1.011533</td>\n",
       "      <td>-0.829887</td>\n",
       "      <td>191</td>\n",
       "      <td>-2.246080</td>\n",
       "    </tr>\n",
       "    <tr>\n",
       "      <th>1</th>\n",
       "      <td>2</td>\n",
       "      <td>-0.928596</td>\n",
       "      <td>-0.523217</td>\n",
       "      <td>-0.821319</td>\n",
       "      <td>0.906845</td>\n",
       "      <td>-0.898700</td>\n",
       "      <td>1.004192</td>\n",
       "      <td>-0.833643</td>\n",
       "      <td>190</td>\n",
       "      <td>-2.249248</td>\n",
       "    </tr>\n",
       "    <tr>\n",
       "      <th>1</th>\n",
       "      <td>3</td>\n",
       "      <td>-0.918112</td>\n",
       "      <td>-0.532695</td>\n",
       "      <td>-0.832544</td>\n",
       "      <td>0.901018</td>\n",
       "      <td>-0.916229</td>\n",
       "      <td>0.989628</td>\n",
       "      <td>-0.840494</td>\n",
       "      <td>189</td>\n",
       "      <td>-2.254698</td>\n",
       "    </tr>\n",
       "    <tr>\n",
       "      <th>1</th>\n",
       "      <td>4</td>\n",
       "      <td>-0.903251</td>\n",
       "      <td>-0.545631</td>\n",
       "      <td>-0.848009</td>\n",
       "      <td>0.892464</td>\n",
       "      <td>-0.939992</td>\n",
       "      <td>0.968152</td>\n",
       "      <td>-0.849236</td>\n",
       "      <td>188</td>\n",
       "      <td>-2.260837</td>\n",
       "    </tr>\n",
       "    <tr>\n",
       "      <th>1</th>\n",
       "      <td>5</td>\n",
       "      <td>-0.884803</td>\n",
       "      <td>-0.560742</td>\n",
       "      <td>-0.866250</td>\n",
       "      <td>0.881470</td>\n",
       "      <td>-0.967400</td>\n",
       "      <td>0.940388</td>\n",
       "      <td>-0.858336</td>\n",
       "      <td>187</td>\n",
       "      <td>-2.265682</td>\n",
       "    </tr>\n",
       "  </tbody>\n",
       "</table>\n",
       "</div>"
      ],
      "text/plain": [
       "    cycle        s2        s3        s4        s7       s11       s12  \\\n",
       "id                                                                      \n",
       "1       1 -0.934031 -0.518202 -0.815417  0.909791 -0.889393  1.011533   \n",
       "1       2 -0.928596 -0.523217 -0.821319  0.906845 -0.898700  1.004192   \n",
       "1       3 -0.918112 -0.532695 -0.832544  0.901018 -0.916229  0.989628   \n",
       "1       4 -0.903251 -0.545631 -0.848009  0.892464 -0.939992  0.968152   \n",
       "1       5 -0.884803 -0.560742 -0.866250  0.881470 -0.967400  0.940388   \n",
       "\n",
       "         s15  RUL        HI  \n",
       "id                           \n",
       "1  -0.829887  191 -2.246080  \n",
       "1  -0.833643  190 -2.249248  \n",
       "1  -0.840494  189 -2.254698  \n",
       "1  -0.849236  188 -2.260837  \n",
       "1  -0.858336  187 -2.265682  "
      ]
     },
     "execution_count": 4,
     "metadata": {},
     "output_type": "execute_result"
    }
   ],
   "source": [
    "tot_train_df.head()"
   ]
  },
  {
   "cell_type": "code",
   "execution_count": 63,
   "metadata": {},
   "outputs": [],
   "source": [
    "tot_cycles = pd.DataFrame([len(tot_train_df.loc[i]) for i in tot_train_df.index.unique()],columns =['tot_cycle'])\n",
    "tot_cycles['rul_label'] = pd.DataFrame(pd.qcut(tot_cycles['tot_cycle'],4, labels=['1','2','3','4']))\n",
    "tot_cycles.index = tot_train_df.index.unique()#range(1,101)"
   ]
  },
  {
   "cell_type": "code",
   "execution_count": 64,
   "metadata": {},
   "outputs": [
    {
     "data": {
      "text/html": [
       "<div>\n",
       "<style scoped>\n",
       "    .dataframe tbody tr th:only-of-type {\n",
       "        vertical-align: middle;\n",
       "    }\n",
       "\n",
       "    .dataframe tbody tr th {\n",
       "        vertical-align: top;\n",
       "    }\n",
       "\n",
       "    .dataframe thead th {\n",
       "        text-align: right;\n",
       "    }\n",
       "</style>\n",
       "<table border=\"1\" class=\"dataframe\">\n",
       "  <thead>\n",
       "    <tr style=\"text-align: right;\">\n",
       "      <th></th>\n",
       "      <th>tot_cycle</th>\n",
       "      <th>rul_label</th>\n",
       "    </tr>\n",
       "    <tr>\n",
       "      <th>id</th>\n",
       "      <th></th>\n",
       "      <th></th>\n",
       "    </tr>\n",
       "  </thead>\n",
       "  <tbody>\n",
       "    <tr>\n",
       "      <th>1</th>\n",
       "      <td>192</td>\n",
       "      <td>2</td>\n",
       "    </tr>\n",
       "    <tr>\n",
       "      <th>2</th>\n",
       "      <td>287</td>\n",
       "      <td>4</td>\n",
       "    </tr>\n",
       "    <tr>\n",
       "      <th>3</th>\n",
       "      <td>179</td>\n",
       "      <td>2</td>\n",
       "    </tr>\n",
       "    <tr>\n",
       "      <th>4</th>\n",
       "      <td>189</td>\n",
       "      <td>2</td>\n",
       "    </tr>\n",
       "    <tr>\n",
       "      <th>5</th>\n",
       "      <td>269</td>\n",
       "      <td>4</td>\n",
       "    </tr>\n",
       "  </tbody>\n",
       "</table>\n",
       "</div>"
      ],
      "text/plain": [
       "    tot_cycle rul_label\n",
       "id                     \n",
       "1         192         2\n",
       "2         287         4\n",
       "3         179         2\n",
       "4         189         2\n",
       "5         269         4"
      ]
     },
     "execution_count": 64,
     "metadata": {},
     "output_type": "execute_result"
    }
   ],
   "source": [
    "tot_cycles.head()"
   ]
  },
  {
   "cell_type": "code",
   "execution_count": 57,
   "metadata": {},
   "outputs": [
    {
     "data": {
      "image/png": "[encoded data removed]",
      "text/plain": [
       "<Figure size 432x288 with 1 Axes>"
      ]
     },
     "metadata": {
      "needs_background": "light"
     },
     "output_type": "display_data"
    }
   ],
   "source": [
    "#ax=sns.distplot(rul_y)\n",
    "ax=sns.distplot(tot_cycles['tot_cycle'])\n",
    "ax.set_title('Distribution of RUL for all engines',{'fontsize':16});\n",
    "ax.set_xlabel('RUL');"
   ]
  },
  {
   "cell_type": "code",
   "execution_count": 58,
   "metadata": {},
   "outputs": [],
   "source": [
    "random_state = 1\n",
    "tot_train_id = tot_train_df.index.unique()\n",
    "# stratify 按照数据分布进行划分\n",
    "train_id, test_id = train_test_split(tot_train_id, test_size = 0.2, random_state=random_state, stratify = tot_cycles['rul_label'])\n",
    "train_df = tot_train_df.loc[train_id]\n",
    "test_df = tot_train_df.loc[test_id]"
   ]
  },
  {
   "cell_type": "code",
   "execution_count": 59,
   "metadata": {},
   "outputs": [
    {
     "data": {
      "text/plain": [
       "Int64Index([ 10,   6,  93,  44,  84,  92,  34,  12,  23,  78,  27,  90,  54,\n",
       "             33,  19,  13,  18,  71,  58,  73,  35,  15,  79,   3,  56,  75,\n",
       "             96,   8,  87,   9,   1,  86,  37,  63,  22,   5,  25,  50,  72,\n",
       "             82,  51,  61,  40,  88,  47,   7,  21,  98,  52,  53,  95,  57,\n",
       "             28,  68,   2,  30,  67,   4,  83,  81,  60,  69,  38,  77,  91,\n",
       "             66,  89,  94,  26,  62,  99, 100,  64,  74,  85,  65,  59,  49,\n",
       "             70,  46],\n",
       "           dtype='int64', name='id')"
      ]
     },
     "execution_count": 59,
     "metadata": {},
     "output_type": "execute_result"
    }
   ],
   "source": [
    "train_id"
   ]
  },
  {
   "cell_type": "code",
   "execution_count": 60,
   "metadata": {},
   "outputs": [
    {
     "data": {
      "text/plain": [
       "Int64Index([11, 20, 17, 41, 42, 97, 80, 45, 48, 39, 36, 14, 31, 43, 29, 76, 16,\n",
       "            55, 32, 24],\n",
       "           dtype='int64', name='id')"
      ]
     },
     "execution_count": 60,
     "metadata": {},
     "output_type": "execute_result"
    }
   ],
   "source": [
    "test_id"
   ]
  },
  {
   "cell_type": "code",
   "execution_count": 62,
   "metadata": {
    "collapsed": true,
    "jupyter": {
     "outputs_hidden": true
    }
   },
   "outputs": [
    {
     "data": {
      "text/html": [
       "<div>\n",
       "<style scoped>\n",
       "    .dataframe tbody tr th:only-of-type {\n",
       "        vertical-align: middle;\n",
       "    }\n",
       "\n",
       "    .dataframe tbody tr th {\n",
       "        vertical-align: top;\n",
       "    }\n",
       "\n",
       "    .dataframe thead th {\n",
       "        text-align: right;\n",
       "    }\n",
       "</style>\n",
       "<table border=\"1\" class=\"dataframe\">\n",
       "  <thead>\n",
       "    <tr style=\"text-align: right;\">\n",
       "      <th></th>\n",
       "      <th>tot_cycle</th>\n",
       "      <th>rul_label</th>\n",
       "    </tr>\n",
       "    <tr>\n",
       "      <th>id</th>\n",
       "      <th></th>\n",
       "      <th></th>\n",
       "    </tr>\n",
       "  </thead>\n",
       "  <tbody>\n",
       "    <tr>\n",
       "      <th>11</th>\n",
       "      <td>240</td>\n",
       "      <td>4</td>\n",
       "    </tr>\n",
       "    <tr>\n",
       "      <th>20</th>\n",
       "      <td>234</td>\n",
       "      <td>4</td>\n",
       "    </tr>\n",
       "    <tr>\n",
       "      <th>17</th>\n",
       "      <td>276</td>\n",
       "      <td>4</td>\n",
       "    </tr>\n",
       "    <tr>\n",
       "      <th>41</th>\n",
       "      <td>216</td>\n",
       "      <td>3</td>\n",
       "    </tr>\n",
       "    <tr>\n",
       "      <th>42</th>\n",
       "      <td>196</td>\n",
       "      <td>2</td>\n",
       "    </tr>\n",
       "    <tr>\n",
       "      <th>97</th>\n",
       "      <td>202</td>\n",
       "      <td>3</td>\n",
       "    </tr>\n",
       "    <tr>\n",
       "      <th>80</th>\n",
       "      <td>185</td>\n",
       "      <td>2</td>\n",
       "    </tr>\n",
       "    <tr>\n",
       "      <th>45</th>\n",
       "      <td>158</td>\n",
       "      <td>1</td>\n",
       "    </tr>\n",
       "    <tr>\n",
       "      <th>48</th>\n",
       "      <td>231</td>\n",
       "      <td>4</td>\n",
       "    </tr>\n",
       "    <tr>\n",
       "      <th>39</th>\n",
       "      <td>128</td>\n",
       "      <td>1</td>\n",
       "    </tr>\n",
       "    <tr>\n",
       "      <th>36</th>\n",
       "      <td>158</td>\n",
       "      <td>1</td>\n",
       "    </tr>\n",
       "    <tr>\n",
       "      <th>14</th>\n",
       "      <td>180</td>\n",
       "      <td>2</td>\n",
       "    </tr>\n",
       "    <tr>\n",
       "      <th>31</th>\n",
       "      <td>234</td>\n",
       "      <td>4</td>\n",
       "    </tr>\n",
       "    <tr>\n",
       "      <th>43</th>\n",
       "      <td>207</td>\n",
       "      <td>3</td>\n",
       "    </tr>\n",
       "    <tr>\n",
       "      <th>29</th>\n",
       "      <td>163</td>\n",
       "      <td>1</td>\n",
       "    </tr>\n",
       "    <tr>\n",
       "      <th>76</th>\n",
       "      <td>210</td>\n",
       "      <td>3</td>\n",
       "    </tr>\n",
       "    <tr>\n",
       "      <th>16</th>\n",
       "      <td>209</td>\n",
       "      <td>3</td>\n",
       "    </tr>\n",
       "    <tr>\n",
       "      <th>55</th>\n",
       "      <td>193</td>\n",
       "      <td>2</td>\n",
       "    </tr>\n",
       "    <tr>\n",
       "      <th>32</th>\n",
       "      <td>191</td>\n",
       "      <td>2</td>\n",
       "    </tr>\n",
       "    <tr>\n",
       "      <th>24</th>\n",
       "      <td>147</td>\n",
       "      <td>1</td>\n",
       "    </tr>\n",
       "  </tbody>\n",
       "</table>\n",
       "</div>"
      ],
      "text/plain": [
       "    tot_cycle rul_label\n",
       "id                     \n",
       "11        240         4\n",
       "20        234         4\n",
       "17        276         4\n",
       "41        216         3\n",
       "42        196         2\n",
       "97        202         3\n",
       "80        185         2\n",
       "45        158         1\n",
       "48        231         4\n",
       "39        128         1\n",
       "36        158         1\n",
       "14        180         2\n",
       "31        234         4\n",
       "43        207         3\n",
       "29        163         1\n",
       "76        210         3\n",
       "16        209         3\n",
       "55        193         2\n",
       "32        191         2\n",
       "24        147         1"
      ]
     },
     "execution_count": 62,
     "metadata": {},
     "output_type": "execute_result"
    }
   ],
   "source": [
    "tot_cycles.loc[test_id]"
   ]
  },
  {
   "cell_type": "code",
   "execution_count": 76,
   "metadata": {},
   "outputs": [],
   "source": [
    "# pick a large window size of 50 cycles\n",
    "\n",
    "# function to reshape features into (samples, time steps, features) \n",
    "# 生成特征样本\n",
    "def gen_sequence(id_df, seq_length, seq_cols):\n",
    "    \"\"\" Only sequences that meet the window-length are considered, no padding is used. This means for testing\n",
    "    we need to drop those which are below the window-length. An alternative would be to pad sequences so that\n",
    "    we can use shorter ones \n",
    "    只有比时间窗口大的序列会被提取特征，若测试样本的时间序列过小，则被忽视。\n",
    "    另一种方法是对序列进行填充\n",
    "    \"\"\"\n",
    "    # for one id I put all the rows in a single matrix\n",
    "    data_matrix = id_df[seq_cols].values # 获得对应列的值\n",
    "    num_elements = data_matrix.shape[0]\n",
    "    # Iterate over two lists in parallel.\n",
    "    # For example id1 have 192 rows and sequence_length is equal to 50\n",
    "    # so zip iterate over two following list of numbers (0,142),(50,192)\n",
    "    # 0 50 -> from row 0 to row 50\n",
    "    # 1 51 -> from row 1 to row 51\n",
    "    # 2 52 -> from row 2 to row 52\n",
    "    # ...\n",
    "    # 141 191 -> from row 141 to 191\n",
    "    \n",
    "    # zip将数据打包为元组的列表\n",
    "    for start, stop in zip(range(0, num_elements-seq_length), range(seq_length, num_elements)):\n",
    "        yield data_matrix[start:stop, :].flatten() #yield 相当于返回"
   ]
  },
  {
   "cell_type": "code",
   "execution_count": 77,
   "metadata": {},
   "outputs": [],
   "source": [
    "sequence_length = 50 #设置时间窗口大小\n",
    "sequence_cols = ['HI']#设置特征(18)"
   ]
  },
  {
   "cell_type": "code",
   "execution_count": 78,
   "metadata": {},
   "outputs": [
    {
     "name": "stdout",
     "output_type": "stream",
     "text": [
      "142\n"
     ]
    }
   ],
   "source": [
    "# TODO for debug \n",
    "# 样例测试\n",
    "# val is a list of 192 - 50 = 142 bi-dimensional array (50 rows x 18 columns)\n",
    "val=list(gen_sequence(tot_train_df.loc[1], sequence_length, sequence_cols))\n",
    "print(len(val))"
   ]
  },
  {
   "cell_type": "code",
   "execution_count": 95,
   "metadata": {},
   "outputs": [],
   "source": [
    "win_size = 30\n",
    "selected_ftr_name = ['HI']\n",
    "X_train =  np.array(list(gen_sequence(tot_train_df.loc[train_id], win_size, selected_ftr_name)) )\n",
    "X_valid = np.array(list(gen_sequence(tot_train_df.loc[test_id], win_size, selected_ftr_name)) )"
   ]
  },
  {
   "cell_type": "code",
   "execution_count": 101,
   "metadata": {},
   "outputs": [],
   "source": [
    "# function to generate labels\n",
    "def gen_labels(id_df, seq_length, label):\n",
    "    \"\"\" Only sequences that meet the window-length are considered, no padding is used. This means for testing\n",
    "    we need to drop those which are below the window-length. An alternative would be to pad sequences so that\n",
    "    we can use shorter ones \"\"\"\n",
    "    # For one id I put all the labels in a single matrix.\n",
    "    # For example:\n",
    "    # [[1]\n",
    "    # [4]\n",
    "    # [1]\n",
    "    # [5]\n",
    "    # [9]\n",
    "    # ...\n",
    "    # [200]] \n",
    "    data_matrix = id_df[label].values\n",
    "    num_elements = data_matrix.shape[0]\n",
    "    # I have to remove the first seq_length labels\n",
    "    # because for one id the first sequence of seq_length size have as target\n",
    "    # the last label (the previus ones are discarded).\n",
    "    # All the next id's sequences will have associated step by step one label as target.\n",
    "    return data_matrix[seq_length:num_elements, :]"
   ]
  },
  {
   "cell_type": "code",
   "execution_count": 107,
   "metadata": {},
   "outputs": [],
   "source": [
    "\n",
    "#label_gen = \n",
    "y_train = np.array(list(gen_labels(tot_train_df.loc[train_id], win_size, ['RUL'])) ).ravel()\n",
    "y_valid = np.array(list(gen_labels(tot_train_df.loc[test_id], win_size, ['RUL'])) ).ravel()"
   ]
  },
  {
   "cell_type": "code",
   "execution_count": 106,
   "metadata": {},
   "outputs": [
    {
     "data": {
      "text/plain": [
       "array([191, 190, 189, ...,   2,   1,   0], dtype=int64)"
      ]
     },
     "execution_count": 106,
     "metadata": {},
     "output_type": "execute_result"
    }
   ],
   "source": [
    "y_train.ravel()"
   ]
  },
  {
   "cell_type": "code",
   "execution_count": 5,
   "metadata": {},
   "outputs": [],
   "source": [
    "svr = GridSearchCV(SVR(kernel='rbf', gamma=0.1), cv=5,\n",
    "                   param_grid={\"C\": [1e0, 1e1, 1e2, 1e3],\n",
    "                               \"gamma\": np.logspace(-2, 2, 5)})"
   ]
  },
  {
   "cell_type": "code",
   "execution_count": 115,
   "metadata": {},
   "outputs": [
    {
     "data": {
      "text/plain": [
       "{'C': 10.0, 'gamma': 0.1}"
      ]
     },
     "execution_count": 115,
     "metadata": {},
     "output_type": "execute_result"
    }
   ],
   "source": [
    "svr.best_params_"
   ]
  },
  {
   "cell_type": "code",
   "execution_count": 108,
   "metadata": {},
   "outputs": [],
   "source": [
    "t0 = time.time()\n",
    "#训练\n",
    "svr.fit(X_train, y_train)\n",
    "svr_fit = time.time() - t0"
   ]
  },
  {
   "cell_type": "code",
   "execution_count": 109,
   "metadata": {},
   "outputs": [],
   "source": [
    "\n",
    "t0 = time.time()\n",
    "#测试\n",
    "y_svr = svr.predict(X_valid)\n",
    "svr_predict = time.time() - t0\n"
   ]
  },
  {
   "cell_type": "code",
   "execution_count": 113,
   "metadata": {},
   "outputs": [
    {
     "data": {
      "text/plain": [
       "1841.4660959658122"
      ]
     },
     "execution_count": 113,
     "metadata": {},
     "output_type": "execute_result"
    }
   ],
   "source": [
    "np.sqrt(sum((y_svr - y_valid)**2))"
   ]
  },
  {
   "cell_type": "code",
   "execution_count": 116,
   "metadata": {},
   "outputs": [],
   "source": [
    "import pickle \n",
    "f = open('saved_model/svr.pickle','wb')\n",
    "pickle.dump(svr, f)\n",
    "f.close()"
   ]
  },
  {
   "cell_type": "code",
   "execution_count": 117,
   "metadata": {},
   "outputs": [],
   "source": [
    "f = open('saved_model/svr.pickle','rb')\n",
    "clf = pickle.load(f)\n",
    "f.close()"
   ]
  },
  {
   "cell_type": "code",
   "execution_count": 118,
   "metadata": {},
   "outputs": [
    {
     "data": {
      "text/plain": [
       "{'C': 10.0, 'gamma': 0.1}"
      ]
     },
     "execution_count": 118,
     "metadata": {},
     "output_type": "execute_result"
    }
   ],
   "source": [
    "clf.best_params_"
   ]
  },
  {
   "cell_type": "code",
   "execution_count": null,
   "metadata": {},
   "outputs": [],
   "source": []
  },
  {
   "cell_type": "code",
   "execution_count": null,
   "metadata": {},
   "outputs": [],
   "source": [
    "cut_percents = [0.5,0.7,0.9]\n",
    "res_info_col = ['on_id','on_seg','y_pred','y_true']\n",
    "res_df = pd.DataFrame(columns=res_info_col)\n",
    "for on_id in test_id:\n",
    "    n_seg = len(test_df.loc[on_id])\n",
    "    for cut_per in cut_percents:\n",
    "        cur_seg = int(n_seg * cut_per/10)*10 - on_win_size\n",
    "        tmp_df = eu_dist_df[(eu_dist_df['on_id']==on_id) &(eu_dist_df['on_seg']==cur_seg)].sort_values(by='dist')[:k]\n",
    "        tmp_rul = sum(tmp_df['his_RUL']*np.exp(-alpha * tmp_df['dist'])/sum(np.exp(-alpha * tmp_df['dist'])))\n",
    "        #print(cur_seg,tmp_rul, cur_seg+tmp_rul, n_seg - cur_seg - on_win_size)\n",
    "        res_df= res_df.append(pd.DataFrame([[on_id, cur_seg, tmp_rul, n_seg -cur_seg - on_win_size]],columns = res_info_col))\n",
    "eu_score += [(k, alpha, RHS_score( res_df['y_true'], res_df['y_pred'])/len(res_df['y_pred']))]"
   ]
  }
 ],
 "metadata": {
  "kernelspec": {
   "display_name": "Python 3",
   "language": "python",
   "name": "python3"
  },
  "language_info": {
   "codemirror_mode": {
    "name": "ipython",
    "version": 3
   },
   "file_extension": ".py",
   "mimetype": "text/x-python",
   "name": "python",
   "nbconvert_exporter": "python",
   "pygments_lexer": "ipython3",
   "version": "3.7.3"
  }
 },
 "nbformat": 4,
 "nbformat_minor": 4
}
